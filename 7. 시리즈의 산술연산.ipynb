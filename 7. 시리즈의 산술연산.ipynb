{
 "cells": [
  {
   "cell_type": "markdown",
   "id": "d827f977",
   "metadata": {},
   "source": [
    "# 산술연산\n",
    "\n",
    "- 판다스 객체의 산술연산은 내부적으로 3단계 프로세스\n",
    "    1. 행/ 열 인덱스를 기준으로 모든 원소를 정렬\n",
    "    2. 동일한 위치에 있는 원소끼리 일대일로 대출\n",
    "    3. 일대일 대응이 되는 원소끼리 연산 처리\n",
    "        - 대응되는 원소가 없으면 NaN 처리"
   ]
  },
  {
   "cell_type": "markdown",
   "id": "a7454aaa",
   "metadata": {},
   "source": [
    "# 시리즈와 숫자\n",
    "\n",
    "- 시리즈 객체에 숫자를 더하면 시리즈의 개별 원소에 각각 숫자를 더하고 계산한 결과를 시리즈 객체로 반환\n",
    "- 덧셈, 뺼셈, 곱셉, 나눗셈 모두 가능"
   ]
  },
  {
   "cell_type": "code",
   "execution_count": 2,
   "id": "3c689188",
   "metadata": {},
   "outputs": [],
   "source": [
    "import pandas as pd"
   ]
  },
  {
   "cell_type": "code",
   "execution_count": 3,
   "id": "43d7e820",
   "metadata": {},
   "outputs": [],
   "source": [
    "ages = pd.Series([137, 61, 90, 66, 56, 45, 41, 77])"
   ]
  },
  {
   "cell_type": "code",
   "execution_count": 4,
   "id": "74e9f12f",
   "metadata": {},
   "outputs": [
    {
     "data": {
      "text/plain": [
       "0    137\n",
       "1     61\n",
       "2     90\n",
       "3     66\n",
       "4     56\n",
       "5     45\n",
       "6     41\n",
       "7     77\n",
       "dtype: int64"
      ]
     },
     "execution_count": 4,
     "metadata": {},
     "output_type": "execute_result"
    }
   ],
   "source": [
    "ages"
   ]
  },
  {
   "cell_type": "code",
   "execution_count": 5,
   "id": "ddc4a319",
   "metadata": {},
   "outputs": [
    {
     "data": {
      "text/plain": [
       "0    237\n",
       "1    161\n",
       "2    190\n",
       "3    166\n",
       "4    156\n",
       "5    145\n",
       "6    141\n",
       "7    177\n",
       "dtype: int64"
      ]
     },
     "execution_count": 5,
     "metadata": {},
     "output_type": "execute_result"
    }
   ],
   "source": [
    "ages + 100"
   ]
  },
  {
   "cell_type": "code",
   "execution_count": 7,
   "id": "55ed72ce",
   "metadata": {},
   "outputs": [
    {
     "data": {
      "text/plain": [
       "0    127\n",
       "1     51\n",
       "2     80\n",
       "3     56\n",
       "4     46\n",
       "5     35\n",
       "6     31\n",
       "7     67\n",
       "dtype: int64"
      ]
     },
     "execution_count": 7,
     "metadata": {},
     "output_type": "execute_result"
    }
   ],
   "source": [
    "ages - 10"
   ]
  },
  {
   "cell_type": "code",
   "execution_count": 8,
   "id": "76849190",
   "metadata": {},
   "outputs": [
    {
     "data": {
      "text/plain": [
       "0    274\n",
       "1    122\n",
       "2    180\n",
       "3    132\n",
       "4    112\n",
       "5     90\n",
       "6     82\n",
       "7    154\n",
       "dtype: int64"
      ]
     },
     "execution_count": 8,
     "metadata": {},
     "output_type": "execute_result"
    }
   ],
   "source": [
    "ages * 2"
   ]
  },
  {
   "cell_type": "code",
   "execution_count": 9,
   "id": "9eb7e9b7",
   "metadata": {},
   "outputs": [
    {
     "data": {
      "text/plain": [
       "0    1.37\n",
       "1    0.61\n",
       "2    0.90\n",
       "3    0.66\n",
       "4    0.56\n",
       "5    0.45\n",
       "6    0.41\n",
       "7    0.77\n",
       "dtype: float64"
      ]
     },
     "execution_count": 9,
     "metadata": {},
     "output_type": "execute_result"
    }
   ],
   "source": [
    "ages / 100"
   ]
  },
  {
   "cell_type": "code",
   "execution_count": 10,
   "id": "f9721a8b",
   "metadata": {},
   "outputs": [
    {
     "data": {
      "text/plain": [
       "0    18769\n",
       "1     3721\n",
       "2     8100\n",
       "3     4356\n",
       "4     3136\n",
       "5     2025\n",
       "6     1681\n",
       "7     5929\n",
       "dtype: int64"
      ]
     },
     "execution_count": 10,
     "metadata": {},
     "output_type": "execute_result"
    }
   ],
   "source": [
    "ages ** 2"
   ]
  },
  {
   "cell_type": "code",
   "execution_count": 11,
   "id": "acd2a284",
   "metadata": {},
   "outputs": [
    {
     "data": {
      "text/plain": [
       "0    68\n",
       "1    30\n",
       "2    45\n",
       "3    33\n",
       "4    28\n",
       "5    22\n",
       "6    20\n",
       "7    38\n",
       "dtype: int64"
      ]
     },
     "execution_count": 11,
     "metadata": {},
     "output_type": "execute_result"
    }
   ],
   "source": [
    "ages // 2"
   ]
  },
  {
   "cell_type": "code",
   "execution_count": 12,
   "id": "c676a8a2",
   "metadata": {},
   "outputs": [
    {
     "data": {
      "text/plain": [
       "0    1\n",
       "1    1\n",
       "2    0\n",
       "3    0\n",
       "4    0\n",
       "5    1\n",
       "6    1\n",
       "7    1\n",
       "dtype: int64"
      ]
     },
     "execution_count": 12,
     "metadata": {},
     "output_type": "execute_result"
    }
   ],
   "source": [
    "ages % 2"
   ]
  },
  {
   "cell_type": "markdown",
   "id": "596cecd9",
   "metadata": {},
   "source": [
    "# 시리즈와 시리즈\n",
    "\n",
    "- 같은 인덱스를 가진 원소끼리 계산\n",
    "\n",
    "- 인덱스에 연산 결과를 매칭하여 새 시리즈를 반환"
   ]
  },
  {
   "cell_type": "code",
   "execution_count": 13,
   "id": "129d32f5",
   "metadata": {},
   "outputs": [
    {
     "data": {
      "text/plain": [
       "0    274\n",
       "1    122\n",
       "2    180\n",
       "3    132\n",
       "4    112\n",
       "5     90\n",
       "6     82\n",
       "7    154\n",
       "dtype: int64"
      ]
     },
     "execution_count": 13,
     "metadata": {},
     "output_type": "execute_result"
    }
   ],
   "source": [
    "ages + ages"
   ]
  },
  {
   "cell_type": "code",
   "execution_count": 14,
   "id": "528a83dd",
   "metadata": {},
   "outputs": [
    {
     "data": {
      "text/plain": [
       "0    18769\n",
       "1     3721\n",
       "2     8100\n",
       "3     4356\n",
       "4     3136\n",
       "5     2025\n",
       "6     1681\n",
       "7     5929\n",
       "dtype: int64"
      ]
     },
     "execution_count": 14,
     "metadata": {},
     "output_type": "execute_result"
    }
   ],
   "source": [
    "ages * ages"
   ]
  },
  {
   "cell_type": "code",
   "execution_count": 18,
   "id": "27af7696",
   "metadata": {},
   "outputs": [],
   "source": [
    "se1 = pd.Series({\"키\" : 161, \"몸무게\" : 74, \"나이\" : 20})\n",
    "se2 = pd.Series({\"나이\" : 67, \"키\" : 168, \"몸무게\" : 81})"
   ]
  },
  {
   "cell_type": "code",
   "execution_count": 19,
   "id": "bdde9e2c",
   "metadata": {},
   "outputs": [
    {
     "data": {
      "text/plain": [
       "키      161\n",
       "몸무게     74\n",
       "나이      20\n",
       "dtype: int64"
      ]
     },
     "execution_count": 19,
     "metadata": {},
     "output_type": "execute_result"
    }
   ],
   "source": [
    "se1"
   ]
  },
  {
   "cell_type": "code",
   "execution_count": 20,
   "id": "cb8ea2ec",
   "metadata": {},
   "outputs": [
    {
     "data": {
      "text/plain": [
       "나이      67\n",
       "키      168\n",
       "몸무게     81\n",
       "dtype: int64"
      ]
     },
     "execution_count": 20,
     "metadata": {},
     "output_type": "execute_result"
    }
   ],
   "source": [
    "se2"
   ]
  },
  {
   "cell_type": "code",
   "execution_count": 21,
   "id": "5961c889",
   "metadata": {},
   "outputs": [
    {
     "data": {
      "text/plain": [
       "나이      87\n",
       "몸무게    155\n",
       "키      329\n",
       "dtype: int64"
      ]
     },
     "execution_count": 21,
     "metadata": {},
     "output_type": "execute_result"
    }
   ],
   "source": [
    "se1 + se2"
   ]
  },
  {
   "cell_type": "code",
   "execution_count": 22,
   "id": "2902cc06",
   "metadata": {},
   "outputs": [
    {
     "data": {
      "text/plain": [
       "나이    -47\n",
       "몸무게    -7\n",
       "키      -7\n",
       "dtype: int64"
      ]
     },
     "execution_count": 22,
     "metadata": {},
     "output_type": "execute_result"
    }
   ],
   "source": [
    "se1 - se2"
   ]
  },
  {
   "cell_type": "code",
   "execution_count": 23,
   "id": "d4516ea4",
   "metadata": {},
   "outputs": [
    {
     "data": {
      "text/plain": [
       "나이      1340\n",
       "몸무게     5994\n",
       "키      27048\n",
       "dtype: int64"
      ]
     },
     "execution_count": 23,
     "metadata": {},
     "output_type": "execute_result"
    }
   ],
   "source": [
    "se1*se2"
   ]
  },
  {
   "cell_type": "code",
   "execution_count": 24,
   "id": "d8e09647",
   "metadata": {},
   "outputs": [
    {
     "data": {
      "text/plain": [
       "나이     0.298507\n",
       "몸무게    0.913580\n",
       "키      0.958333\n",
       "dtype: float64"
      ]
     },
     "execution_count": 24,
     "metadata": {},
     "output_type": "execute_result"
    }
   ],
   "source": [
    "se1 / se2"
   ]
  },
  {
   "cell_type": "markdown",
   "id": "5198cc27",
   "metadata": {},
   "source": [
    "- 인덱스의 순서가 서로 다르지만 판다스는 같은 인덱스끼리 연산을 수행\n",
    "\n",
    "- 연산을 수행하는 두 시리즈의 원소 개수가 다르거나 인덱스 값이 다른 경우\n",
    "    - 정상적으로 연산 처리 불가능\n",
    "        - NaN"
   ]
  },
  {
   "cell_type": "code",
   "execution_count": 25,
   "id": "5438f2a3",
   "metadata": {},
   "outputs": [
    {
     "data": {
      "text/plain": [
       "0    138.0\n",
       "1    161.0\n",
       "2      NaN\n",
       "3      NaN\n",
       "4      NaN\n",
       "5      NaN\n",
       "6      NaN\n",
       "7      NaN\n",
       "dtype: float64"
      ]
     },
     "execution_count": 25,
     "metadata": {},
     "output_type": "execute_result"
    }
   ],
   "source": [
    "# 길이가 다른 시리즈 연산\n",
    "ages + pd.Series([1, 100])"
   ]
  },
  {
   "cell_type": "markdown",
   "id": "b8ea7432",
   "metadata": {},
   "source": [
    "- 길이가 다른 시리즈를 연산하면 인덱스가 일치한 데이터만 계산"
   ]
  },
  {
   "cell_type": "code",
   "execution_count": 28,
   "id": "d9819479",
   "metadata": {},
   "outputs": [],
   "source": [
    "# NaN 값이 있는 시리즈 연산\n",
    "se1 = pd.Series({\"키\" : None, \"몸무게\" : 74, \"나이\" : 20})\n",
    "se2 = pd.Series({\"키\" : 168, \"몸무게\" : 81})"
   ]
  },
  {
   "cell_type": "code",
   "execution_count": 29,
   "id": "ab0e2b08",
   "metadata": {},
   "outputs": [
    {
     "data": {
      "text/plain": [
       "키       NaN\n",
       "몸무게    74.0\n",
       "나이     20.0\n",
       "dtype: float64"
      ]
     },
     "execution_count": 29,
     "metadata": {},
     "output_type": "execute_result"
    }
   ],
   "source": [
    "se1"
   ]
  },
  {
   "cell_type": "code",
   "execution_count": 30,
   "id": "add90297",
   "metadata": {},
   "outputs": [
    {
     "data": {
      "text/plain": [
       "키      168\n",
       "몸무게     81\n",
       "dtype: int64"
      ]
     },
     "execution_count": 30,
     "metadata": {},
     "output_type": "execute_result"
    }
   ],
   "source": [
    "se2"
   ]
  },
  {
   "cell_type": "code",
   "execution_count": 31,
   "id": "d9a99ffb",
   "metadata": {},
   "outputs": [
    {
     "data": {
      "text/plain": [
       "나이       NaN\n",
       "몸무게    155.0\n",
       "키        NaN\n",
       "dtype: float64"
      ]
     },
     "execution_count": 31,
     "metadata": {},
     "output_type": "execute_result"
    }
   ],
   "source": [
    "se1 + se2 "
   ]
  },
  {
   "cell_type": "code",
   "execution_count": 32,
   "id": "149a3b28",
   "metadata": {},
   "outputs": [
    {
     "data": {
      "text/plain": [
       "나이     NaN\n",
       "몸무게   -7.0\n",
       "키      NaN\n",
       "dtype: float64"
      ]
     },
     "execution_count": 32,
     "metadata": {},
     "output_type": "execute_result"
    }
   ],
   "source": [
    "se1 - se2"
   ]
  },
  {
   "cell_type": "code",
   "execution_count": 33,
   "id": "8fea7c79",
   "metadata": {},
   "outputs": [
    {
     "data": {
      "text/plain": [
       "나이        NaN\n",
       "몸무게    5994.0\n",
       "키         NaN\n",
       "dtype: float64"
      ]
     },
     "execution_count": 33,
     "metadata": {},
     "output_type": "execute_result"
    }
   ],
   "source": [
    "se1 * se2"
   ]
  },
  {
   "cell_type": "code",
   "execution_count": 34,
   "id": "d0f67695",
   "metadata": {},
   "outputs": [
    {
     "data": {
      "text/plain": [
       "나이         NaN\n",
       "몸무게    0.91358\n",
       "키          NaN\n",
       "dtype: float64"
      ]
     },
     "execution_count": 34,
     "metadata": {},
     "output_type": "execute_result"
    }
   ],
   "source": [
    "se1 /se2"
   ]
  },
  {
   "cell_type": "markdown",
   "id": "3f68345e",
   "metadata": {},
   "source": [
    "# 연산 메서드\n",
    "\n",
    "- 결과가 NaN으로 반환되는 상황을 막기 위해 연산 메서드에 fill_value 옵션을 설정할 수 있음"
   ]
  },
  {
   "cell_type": "code",
   "execution_count": 35,
   "id": "0b450cf1",
   "metadata": {},
   "outputs": [
    {
     "data": {
      "text/plain": [
       "키       NaN\n",
       "몸무게    74.0\n",
       "나이     20.0\n",
       "dtype: float64"
      ]
     },
     "execution_count": 35,
     "metadata": {},
     "output_type": "execute_result"
    }
   ],
   "source": [
    "se1"
   ]
  },
  {
   "cell_type": "code",
   "execution_count": 36,
   "id": "b26c4eb3",
   "metadata": {},
   "outputs": [
    {
     "data": {
      "text/plain": [
       "키      168\n",
       "몸무게     81\n",
       "dtype: int64"
      ]
     },
     "execution_count": 36,
     "metadata": {},
     "output_type": "execute_result"
    }
   ],
   "source": [
    "se2"
   ]
  },
  {
   "cell_type": "code",
   "execution_count": 42,
   "id": "e8e94c29",
   "metadata": {},
   "outputs": [
    {
     "data": {
      "text/plain": [
       "나이      20.0\n",
       "몸무게    155.0\n",
       "키      168.0\n",
       "dtype: float64"
      ]
     },
     "execution_count": 42,
     "metadata": {},
     "output_type": "execute_result"
    }
   ],
   "source": [
    "# 덧셈\n",
    "se1.add(se2, fill_value = 0)"
   ]
  },
  {
   "cell_type": "code",
   "execution_count": 44,
   "id": "9e8d5453",
   "metadata": {},
   "outputs": [
    {
     "data": {
      "text/plain": [
       "나이      20.0\n",
       "몸무게     -7.0\n",
       "키     -168.0\n",
       "dtype: float64"
      ]
     },
     "execution_count": 44,
     "metadata": {},
     "output_type": "execute_result"
    }
   ],
   "source": [
    "# 뺄셈\n",
    "se1.sub(se2, fill_value = 0)"
   ]
  },
  {
   "cell_type": "code",
   "execution_count": 45,
   "id": "bb476023",
   "metadata": {},
   "outputs": [
    {
     "data": {
      "text/plain": [
       "나이       20.0\n",
       "몸무게    5994.0\n",
       "키       168.0\n",
       "dtype: float64"
      ]
     },
     "execution_count": 45,
     "metadata": {},
     "output_type": "execute_result"
    }
   ],
   "source": [
    "# 곱셈\n",
    "se1.mul(se2, fill_value = 1)"
   ]
  },
  {
   "cell_type": "code",
   "execution_count": 46,
   "id": "04da6b7f",
   "metadata": {},
   "outputs": [
    {
     "data": {
      "text/plain": [
       "나이     20.000000\n",
       "몸무게     0.913580\n",
       "키       0.005952\n",
       "dtype: float64"
      ]
     },
     "execution_count": 46,
     "metadata": {},
     "output_type": "execute_result"
    }
   ],
   "source": [
    "# 나눗셈\n",
    "se1.div(se2, fill_value = 1)"
   ]
  },
  {
   "cell_type": "code",
   "execution_count": null,
   "id": "c766ae29",
   "metadata": {},
   "outputs": [],
   "source": []
  },
  {
   "cell_type": "code",
   "execution_count": null,
   "id": "9e500a8a",
   "metadata": {},
   "outputs": [],
   "source": []
  }
 ],
 "metadata": {
  "kernelspec": {
   "display_name": "Python 3 (ipykernel)",
   "language": "python",
   "name": "python3"
  },
  "language_info": {
   "codemirror_mode": {
    "name": "ipython",
    "version": 3
   },
   "file_extension": ".py",
   "mimetype": "text/x-python",
   "name": "python",
   "nbconvert_exporter": "python",
   "pygments_lexer": "ipython3",
   "version": "3.11.5"
  }
 },
 "nbformat": 4,
 "nbformat_minor": 5
}
