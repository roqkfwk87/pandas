{
 "cells": [
  {
   "cell_type": "markdown",
   "id": "cb08849e",
   "metadata": {},
   "source": [
    "# 통계 함수 적용"
   ]
  },
  {
   "cell_type": "markdown",
   "id": "26bf679e",
   "metadata": {},
   "source": [
    "## 평균\n",
    "\n",
    "- mean()\n",
    "    - 산술 데이터를 갖는 모든 열의 평균 값을 각각 계산하여 시리즈 객체로 반환\n",
    "    - 특정 열을 선택하여 평균값을 선택하는 것도 가능"
   ]
  },
  {
   "cell_type": "code",
   "execution_count": 1,
   "id": "96a6ec23",
   "metadata": {},
   "outputs": [],
   "source": [
    "import pandas as pd\n",
    "import seaborn as sns"
   ]
  },
  {
   "cell_type": "code",
   "execution_count": 36,
   "id": "ddb976cc",
   "metadata": {},
   "outputs": [],
   "source": [
    "# https://url.kr/g4nreb (데이터 다운로드 주소)\n",
    "df = pd.read_csv(\"./data/gapminder.tsv\", sep = \"\\t\")"
   ]
  },
  {
   "cell_type": "code",
   "execution_count": 37,
   "id": "05082353",
   "metadata": {},
   "outputs": [
    {
     "data": {
      "text/html": [
       "<div>\n",
       "<style scoped>\n",
       "    .dataframe tbody tr th:only-of-type {\n",
       "        vertical-align: middle;\n",
       "    }\n",
       "\n",
       "    .dataframe tbody tr th {\n",
       "        vertical-align: top;\n",
       "    }\n",
       "\n",
       "    .dataframe thead th {\n",
       "        text-align: right;\n",
       "    }\n",
       "</style>\n",
       "<table border=\"1\" class=\"dataframe\">\n",
       "  <thead>\n",
       "    <tr style=\"text-align: right;\">\n",
       "      <th></th>\n",
       "      <th>country</th>\n",
       "      <th>continent</th>\n",
       "      <th>year</th>\n",
       "      <th>lifeExp</th>\n",
       "      <th>pop</th>\n",
       "      <th>gdpPercap</th>\n",
       "    </tr>\n",
       "  </thead>\n",
       "  <tbody>\n",
       "    <tr>\n",
       "      <th>0</th>\n",
       "      <td>Afghanistan</td>\n",
       "      <td>Asia</td>\n",
       "      <td>1952</td>\n",
       "      <td>28.801</td>\n",
       "      <td>8425333</td>\n",
       "      <td>779.445314</td>\n",
       "    </tr>\n",
       "    <tr>\n",
       "      <th>1</th>\n",
       "      <td>Afghanistan</td>\n",
       "      <td>Asia</td>\n",
       "      <td>1957</td>\n",
       "      <td>30.332</td>\n",
       "      <td>9240934</td>\n",
       "      <td>820.853030</td>\n",
       "    </tr>\n",
       "    <tr>\n",
       "      <th>2</th>\n",
       "      <td>Afghanistan</td>\n",
       "      <td>Asia</td>\n",
       "      <td>1962</td>\n",
       "      <td>31.997</td>\n",
       "      <td>10267083</td>\n",
       "      <td>853.100710</td>\n",
       "    </tr>\n",
       "    <tr>\n",
       "      <th>3</th>\n",
       "      <td>Afghanistan</td>\n",
       "      <td>Asia</td>\n",
       "      <td>1967</td>\n",
       "      <td>34.020</td>\n",
       "      <td>11537966</td>\n",
       "      <td>836.197138</td>\n",
       "    </tr>\n",
       "    <tr>\n",
       "      <th>4</th>\n",
       "      <td>Afghanistan</td>\n",
       "      <td>Asia</td>\n",
       "      <td>1972</td>\n",
       "      <td>36.088</td>\n",
       "      <td>13079460</td>\n",
       "      <td>739.981106</td>\n",
       "    </tr>\n",
       "  </tbody>\n",
       "</table>\n",
       "</div>"
      ],
      "text/plain": [
       "       country continent  year  lifeExp       pop   gdpPercap\n",
       "0  Afghanistan      Asia  1952   28.801   8425333  779.445314\n",
       "1  Afghanistan      Asia  1957   30.332   9240934  820.853030\n",
       "2  Afghanistan      Asia  1962   31.997  10267083  853.100710\n",
       "3  Afghanistan      Asia  1967   34.020  11537966  836.197138\n",
       "4  Afghanistan      Asia  1972   36.088  13079460  739.981106"
      ]
     },
     "execution_count": 37,
     "metadata": {},
     "output_type": "execute_result"
    }
   ],
   "source": [
    "df.head()"
   ]
  },
  {
   "cell_type": "code",
   "execution_count": 38,
   "id": "054a5961",
   "metadata": {},
   "outputs": [
    {
     "ename": "TypeError",
     "evalue": "Could not convert [\"AfghanistanAfghanistanAfghanistanAfghanistanAfghanistanAfghanistanAfghanistanAfghanistanAfghanistanAfghanistanAfghanistanAfghanistanAlbaniaAlbaniaAlbaniaAlbaniaAlbaniaAlbaniaAlbaniaAlbaniaAlbaniaAlbaniaAlbaniaAlbaniaAlgeriaAlgeriaAlgeriaAlgeriaAlgeriaAlgeriaAlgeriaAlgeriaAlgeriaAlgeriaAlgeriaAlgeriaAngolaAngolaAngolaAngolaAngolaAngolaAngolaAngolaAngolaAngolaAngolaAngolaArgentinaArgentinaArgentinaArgentinaArgentinaArgentinaArgentinaArgentinaArgentinaArgentinaArgentinaArgentinaAustraliaAustraliaAustraliaAustraliaAustraliaAustraliaAustraliaAustraliaAustraliaAustraliaAustraliaAustraliaAustriaAustriaAustriaAustriaAustriaAustriaAustriaAustriaAustriaAustriaAustriaAustriaBahrainBahrainBahrainBahrainBahrainBahrainBahrainBahrainBahrainBahrainBahrainBahrainBangladeshBangladeshBangladeshBangladeshBangladeshBangladeshBangladeshBangladeshBangladeshBangladeshBangladeshBangladeshBelgiumBelgiumBelgiumBelgiumBelgiumBelgiumBelgiumBelgiumBelgiumBelgiumBelgiumBelgiumBeninBeninBeninBeninBeninBeninBeninBeninBeninBeninBeninBeninBoliviaBoliviaBoliviaBoliviaBoliviaBoliviaBoliviaBoliviaBoliviaBoliviaBoliviaBoliviaBosnia and HerzegovinaBosnia and HerzegovinaBosnia and HerzegovinaBosnia and HerzegovinaBosnia and HerzegovinaBosnia and HerzegovinaBosnia and HerzegovinaBosnia and HerzegovinaBosnia and HerzegovinaBosnia and HerzegovinaBosnia and HerzegovinaBosnia and HerzegovinaBotswanaBotswanaBotswanaBotswanaBotswanaBotswanaBotswanaBotswanaBotswanaBotswanaBotswanaBotswanaBrazilBrazilBrazilBrazilBrazilBrazilBrazilBrazilBrazilBrazilBrazilBrazilBulgariaBulgariaBulgariaBulgariaBulgariaBulgariaBulgariaBulgariaBulgariaBulgariaBulgariaBulgariaBurkina FasoBurkina FasoBurkina FasoBurkina FasoBurkina FasoBurkina FasoBurkina FasoBurkina FasoBurkina FasoBurkina FasoBurkina FasoBurkina FasoBurundiBurundiBurundiBurundiBurundiBurundiBurundiBurundiBurundiBurundiBurundiBurundiCambodiaCambodiaCambodiaCambodiaCambodiaCambodiaCambodiaCambodiaCambodiaCambodiaCambodiaCambodiaCameroonCameroonCameroonCameroonCameroonCameroonCameroonCameroonCameroonCameroonCameroonCameroonCanadaCanadaCanadaCanadaCanadaCanadaCanadaCanadaCanadaCanadaCanadaCanadaCentral African RepublicCentral African RepublicCentral African RepublicCentral African RepublicCentral African RepublicCentral African RepublicCentral African RepublicCentral African RepublicCentral African RepublicCentral African RepublicCentral African RepublicCentral African RepublicChadChadChadChadChadChadChadChadChadChadChadChadChileChileChileChileChileChileChileChileChileChileChileChileChinaChinaChinaChinaChinaChinaChinaChinaChinaChinaChinaChinaColombiaColombiaColombiaColombiaColombiaColombiaColombiaColombiaColombiaColombiaColombiaColombiaComorosComorosComorosComorosComorosComorosComorosComorosComorosComorosComorosComorosCongo, Dem. Rep.Congo, Dem. Rep.Congo, Dem. Rep.Congo, Dem. Rep.Congo, Dem. Rep.Congo, Dem. Rep.Congo, Dem. Rep.Congo, Dem. Rep.Congo, Dem. Rep.Congo, Dem. Rep.Congo, Dem. Rep.Congo, Dem. Rep.Congo, Rep.Congo, Rep.Congo, Rep.Congo, Rep.Congo, Rep.Congo, Rep.Congo, Rep.Congo, Rep.Congo, Rep.Congo, Rep.Congo, Rep.Congo, Rep.Costa RicaCosta RicaCosta RicaCosta RicaCosta RicaCosta RicaCosta RicaCosta RicaCosta RicaCosta RicaCosta RicaCosta RicaCote d'IvoireCote d'IvoireCote d'IvoireCote d'IvoireCote d'IvoireCote d'IvoireCote d'IvoireCote d'IvoireCote d'IvoireCote d'IvoireCote d'IvoireCote d'IvoireCroatiaCroatiaCroatiaCroatiaCroatiaCroatiaCroatiaCroatiaCroatiaCroatiaCroatiaCroatiaCubaCubaCubaCubaCubaCubaCubaCubaCubaCubaCubaCubaCzech RepublicCzech RepublicCzech RepublicCzech RepublicCzech RepublicCzech RepublicCzech RepublicCzech RepublicCzech RepublicCzech RepublicCzech RepublicCzech RepublicDenmarkDenmarkDenmarkDenmarkDenmarkDenmarkDenmarkDenmarkDenmarkDenmarkDenmarkDenmarkDjiboutiDjiboutiDjiboutiDjiboutiDjiboutiDjiboutiDjiboutiDjiboutiDjiboutiDjiboutiDjiboutiDjiboutiDominican RepublicDominican RepublicDominican RepublicDominican RepublicDominican RepublicDominican RepublicDominican RepublicDominican RepublicDominican RepublicDominican RepublicDominican RepublicDominican RepublicEcuadorEcuadorEcuadorEcuadorEcuadorEcuadorEcuadorEcuadorEcuadorEcuadorEcuadorEcuadorEgyptEgyptEgyptEgyptEgyptEgyptEgyptEgyptEgyptEgyptEgyptEgyptEl SalvadorEl SalvadorEl SalvadorEl SalvadorEl SalvadorEl SalvadorEl SalvadorEl SalvadorEl SalvadorEl SalvadorEl SalvadorEl SalvadorEquatorial GuineaEquatorial GuineaEquatorial GuineaEquatorial GuineaEquatorial GuineaEquatorial GuineaEquatorial GuineaEquatorial GuineaEquatorial GuineaEquatorial GuineaEquatorial GuineaEquatorial GuineaEritreaEritreaEritreaEritreaEritreaEritreaEritreaEritreaEritreaEritreaEritreaEritreaEthiopiaEthiopiaEthiopiaEthiopiaEthiopiaEthiopiaEthiopiaEthiopiaEthiopiaEthiopiaEthiopiaEthiopiaFinlandFinlandFinlandFinlandFinlandFinlandFinlandFinlandFinlandFinlandFinlandFinlandFranceFranceFranceFranceFranceFranceFranceFranceFranceFranceFranceFranceGabonGabonGabonGabonGabonGabonGabonGabonGabonGabonGabonGabonGambiaGambiaGambiaGambiaGambiaGambiaGambiaGambiaGambiaGambiaGambiaGambiaGermanyGermanyGermanyGermanyGermanyGermanyGermanyGermanyGermanyGermanyGermanyGermanyGhanaGhanaGhanaGhanaGhanaGhanaGhanaGhanaGhanaGhanaGhanaGhanaGreeceGreeceGreeceGreeceGreeceGreeceGreeceGreeceGreeceGreeceGreeceGreeceGuatemalaGuatemalaGuatemalaGuatemalaGuatemalaGuatemalaGuatemalaGuatemalaGuatemalaGuatemalaGuatemalaGuatemalaGuineaGuineaGuineaGuineaGuineaGuineaGuineaGuineaGuineaGuineaGuineaGuineaGuinea-BissauGuinea-BissauGuinea-BissauGuinea-BissauGuinea-BissauGuinea-BissauGuinea-BissauGuinea-BissauGuinea-BissauGuinea-BissauGuinea-BissauGuinea-BissauHaitiHaitiHaitiHaitiHaitiHaitiHaitiHaitiHaitiHaitiHaitiHaitiHondurasHondurasHondurasHondurasHondurasHondurasHondurasHondurasHondurasHondurasHondurasHondurasHong Kong, ChinaHong Kong, ChinaHong Kong, ChinaHong Kong, ChinaHong Kong, ChinaHong Kong, ChinaHong Kong, ChinaHong Kong, ChinaHong Kong, ChinaHong Kong, ChinaHong Kong, ChinaHong Kong, ChinaHungaryHungaryHungaryHungaryHungaryHungaryHungaryHungaryHungaryHungaryHungaryHungaryIcelandIcelandIcelandIcelandIcelandIcelandIcelandIcelandIcelandIcelandIcelandIcelandIndiaIndiaIndiaIndiaIndiaIndiaIndiaIndiaIndiaIndiaIndiaIndiaIndonesiaIndonesiaIndonesiaIndonesiaIndonesiaIndonesiaIndonesiaIndonesiaIndonesiaIndonesiaIndonesiaIndonesiaIranIranIranIranIranIranIranIranIranIranIranIranIraqIraqIraqIraqIraqIraqIraqIraqIraqIraqIraqIraqIrelandIrelandIrelandIrelandIrelandIrelandIrelandIrelandIrelandIrelandIrelandIrelandIsraelIsraelIsraelIsraelIsraelIsraelIsraelIsraelIsraelIsraelIsraelIsraelItalyItalyItalyItalyItalyItalyItalyItalyItalyItalyItalyItalyJamaicaJamaicaJamaicaJamaicaJamaicaJamaicaJamaicaJamaicaJamaicaJamaicaJamaicaJamaicaJapanJapanJapanJapanJapanJapanJapanJapanJapanJapanJapanJapanJordanJordanJordanJordanJordanJordanJordanJordanJordanJordanJordanJordanKenyaKenyaKenyaKenyaKenyaKenyaKenyaKenyaKenyaKenyaKenyaKenyaKorea, Dem. Rep.Korea, Dem. Rep.Korea, Dem. Rep.Korea, Dem. Rep.Korea, Dem. Rep.Korea, Dem. Rep.Korea, Dem. Rep.Korea, Dem. Rep.Korea, Dem. Rep.Korea, Dem. Rep.Korea, Dem. Rep.Korea, Dem. Rep.Korea, Rep.Korea, Rep.Korea, Rep.Korea, Rep.Korea, Rep.Korea, Rep.Korea, Rep.Korea, Rep.Korea, Rep.Korea, Rep.Korea, Rep.Korea, Rep.KuwaitKuwaitKuwaitKuwaitKuwaitKuwaitKuwaitKuwaitKuwaitKuwaitKuwaitKuwaitLebanonLebanonLebanonLebanonLebanonLebanonLebanonLebanonLebanonLebanonLebanonLebanonLesothoLesothoLesothoLesothoLesothoLesothoLesothoLesothoLesothoLesothoLesothoLesothoLiberiaLiberiaLiberiaLiberiaLiberiaLiberiaLiberiaLiberiaLiberiaLiberiaLiberiaLiberiaLibyaLibyaLibyaLibyaLibyaLibyaLibyaLibyaLibyaLibyaLibyaLibyaMadagascarMadagascarMadagascarMadagascarMadagascarMadagascarMadagascarMadagascarMadagascarMadagascarMadagascarMadagascarMalawiMalawiMalawiMalawiMalawiMalawiMalawiMalawiMalawiMalawiMalawiMalawiMalaysiaMalaysiaMalaysiaMalaysiaMalaysiaMalaysiaMalaysiaMalaysiaMalaysiaMalaysiaMalaysiaMalaysiaMaliMaliMaliMaliMaliMaliMaliMaliMaliMaliMaliMaliMauritaniaMauritaniaMauritaniaMauritaniaMauritaniaMauritaniaMauritaniaMauritaniaMauritaniaMauritaniaMauritaniaMauritaniaMauritiusMauritiusMauritiusMauritiusMauritiusMauritiusMauritiusMauritiusMauritiusMauritiusMauritiusMauritiusMexicoMexicoMexicoMexicoMexicoMexicoMexicoMexicoMexicoMexicoMexicoMexicoMongoliaMongoliaMongoliaMongoliaMongoliaMongoliaMongoliaMongoliaMongoliaMongoliaMongoliaMongoliaMontenegroMontenegroMontenegroMontenegroMontenegroMontenegroMontenegroMontenegroMontenegroMontenegroMontenegroMontenegroMoroccoMoroccoMoroccoMoroccoMoroccoMoroccoMoroccoMoroccoMoroccoMoroccoMoroccoMoroccoMozambiqueMozambiqueMozambiqueMozambiqueMozambiqueMozambiqueMozambiqueMozambiqueMozambiqueMozambiqueMozambiqueMozambiqueMyanmarMyanmarMyanmarMyanmarMyanmarMyanmarMyanmarMyanmarMyanmarMyanmarMyanmarMyanmarNamibiaNamibiaNamibiaNamibiaNamibiaNamibiaNamibiaNamibiaNamibiaNamibiaNamibiaNamibiaNepalNepalNepalNepalNepalNepalNepalNepalNepalNepalNepalNepalNetherlandsNetherlandsNetherlandsNetherlandsNetherlandsNetherlandsNetherlandsNetherlandsNetherlandsNetherlandsNetherlandsNetherlandsNew ZealandNew ZealandNew ZealandNew ZealandNew ZealandNew ZealandNew ZealandNew ZealandNew ZealandNew ZealandNew ZealandNew ZealandNicaraguaNicaraguaNicaraguaNicaraguaNicaraguaNicaraguaNicaraguaNicaraguaNicaraguaNicaraguaNicaraguaNicaraguaNigerNigerNigerNigerNigerNigerNigerNigerNigerNigerNigerNigerNigeriaNigeriaNigeriaNigeriaNigeriaNigeriaNigeriaNigeriaNigeriaNigeriaNigeriaNigeriaNorwayNorwayNorwayNorwayNorwayNorwayNorwayNorwayNorwayNorwayNorwayNorwayOmanOmanOmanOmanOmanOmanOmanOmanOmanOmanOmanOmanPakistanPakistanPakistanPakistanPakistanPakistanPakistanPakistanPakistanPakistanPakistanPakistanPanamaPanamaPanamaPanamaPanamaPanamaPanamaPanamaPanamaPanamaPanamaPanamaParaguayParaguayParaguayParaguayParaguayParaguayParaguayParaguayParaguayParaguayParaguayParaguayPeruPeruPeruPeruPeruPeruPeruPeruPeruPeruPeruPeruPhilippinesPhilippinesPhilippinesPhilippinesPhilippinesPhilippinesPhilippinesPhilippinesPhilippinesPhilippinesPhilippinesPhilippinesPolandPolandPolandPolandPolandPolandPolandPolandPolandPolandPolandPolandPortugalPortugalPortugalPortugalPortugalPortugalPortugalPortugalPortugalPortugalPortugalPortugalPuerto RicoPuerto RicoPuerto RicoPuerto RicoPuerto RicoPuerto RicoPuerto RicoPuerto RicoPuerto RicoPuerto RicoPuerto RicoPuerto RicoReunionReunionReunionReunionReunionReunionReunionReunionReunionReunionReunionReunionRomaniaRomaniaRomaniaRomaniaRomaniaRomaniaRomaniaRomaniaRomaniaRomaniaRomaniaRomaniaRwandaRwandaRwandaRwandaRwandaRwandaRwandaRwandaRwandaRwandaRwandaRwandaSao Tome and PrincipeSao Tome and PrincipeSao Tome and PrincipeSao Tome and PrincipeSao Tome and PrincipeSao Tome and PrincipeSao Tome and PrincipeSao Tome and PrincipeSao Tome and PrincipeSao Tome and PrincipeSao Tome and PrincipeSao Tome and PrincipeSaudi ArabiaSaudi ArabiaSaudi ArabiaSaudi ArabiaSaudi ArabiaSaudi ArabiaSaudi ArabiaSaudi ArabiaSaudi ArabiaSaudi ArabiaSaudi ArabiaSaudi ArabiaSenegalSenegalSenegalSenegalSenegalSenegalSenegalSenegalSenegalSenegalSenegalSenegalSerbiaSerbiaSerbiaSerbiaSerbiaSerbiaSerbiaSerbiaSerbiaSerbiaSerbiaSerbiaSierra LeoneSierra LeoneSierra LeoneSierra LeoneSierra LeoneSierra LeoneSierra LeoneSierra LeoneSierra LeoneSierra LeoneSierra LeoneSierra LeoneSingaporeSingaporeSingaporeSingaporeSingaporeSingaporeSingaporeSingaporeSingaporeSingaporeSingaporeSingaporeSlovak RepublicSlovak RepublicSlovak RepublicSlovak RepublicSlovak RepublicSlovak RepublicSlovak RepublicSlovak RepublicSlovak RepublicSlovak RepublicSlovak RepublicSlovak RepublicSloveniaSloveniaSloveniaSloveniaSloveniaSloveniaSloveniaSloveniaSloveniaSloveniaSloveniaSloveniaSomaliaSomaliaSomaliaSomaliaSomaliaSomaliaSomaliaSomaliaSomaliaSomaliaSomaliaSomaliaSouth AfricaSouth AfricaSouth AfricaSouth AfricaSouth AfricaSouth AfricaSouth AfricaSouth AfricaSouth AfricaSouth AfricaSouth AfricaSouth AfricaSpainSpainSpainSpainSpainSpainSpainSpainSpainSpainSpainSpainSri LankaSri LankaSri LankaSri LankaSri LankaSri LankaSri LankaSri LankaSri LankaSri LankaSri LankaSri LankaSudanSudanSudanSudanSudanSudanSudanSudanSudanSudanSudanSudanSwazilandSwazilandSwazilandSwazilandSwazilandSwazilandSwazilandSwazilandSwazilandSwazilandSwazilandSwazilandSwedenSwedenSwedenSwedenSwedenSwedenSwedenSwedenSwedenSwedenSwedenSwedenSwitzerlandSwitzerlandSwitzerlandSwitzerlandSwitzerlandSwitzerlandSwitzerlandSwitzerlandSwitzerlandSwitzerlandSwitzerlandSwitzerlandSyriaSyriaSyriaSyriaSyriaSyriaSyriaSyriaSyriaSyriaSyriaSyriaTaiwanTaiwanTaiwanTaiwanTaiwanTaiwanTaiwanTaiwanTaiwanTaiwanTaiwanTaiwanTanzaniaTanzaniaTanzaniaTanzaniaTanzaniaTanzaniaTanzaniaTanzaniaTanzaniaTanzaniaTanzaniaTanzaniaThailandThailandThailandThailandThailandThailandThailandThailandThailandThailandThailandThailandTogoTogoTogoTogoTogoTogoTogoTogoTogoTogoTogoTogoTrinidad and TobagoTrinidad and TobagoTrinidad and TobagoTrinidad and TobagoTrinidad and TobagoTrinidad and TobagoTrinidad and TobagoTrinidad and TobagoTrinidad and TobagoTrinidad and TobagoTrinidad and TobagoTrinidad and TobagoTunisiaTunisiaTunisiaTunisiaTunisiaTunisiaTunisiaTunisiaTunisiaTunisiaTunisiaTunisiaTurkeyTurkeyTurkeyTurkeyTurkeyTurkeyTurkeyTurkeyTurkeyTurkeyTurkeyTurkeyUgandaUgandaUgandaUgandaUgandaUgandaUgandaUgandaUgandaUgandaUgandaUgandaUnited KingdomUnited KingdomUnited KingdomUnited KingdomUnited KingdomUnited KingdomUnited KingdomUnited KingdomUnited KingdomUnited KingdomUnited KingdomUnited KingdomUnited StatesUnited StatesUnited StatesUnited StatesUnited StatesUnited StatesUnited StatesUnited StatesUnited StatesUnited StatesUnited StatesUnited StatesUruguayUruguayUruguayUruguayUruguayUruguayUruguayUruguayUruguayUruguayUruguayUruguayVenezuelaVenezuelaVenezuelaVenezuelaVenezuelaVenezuelaVenezuelaVenezuelaVenezuelaVenezuelaVenezuelaVenezuelaVietnamVietnamVietnamVietnamVietnamVietnamVietnamVietnamVietnamVietnamVietnamVietnamWest Bank and GazaWest Bank and GazaWest Bank and GazaWest Bank and GazaWest Bank and GazaWest Bank and GazaWest Bank and GazaWest Bank and GazaWest Bank and GazaWest Bank and GazaWest Bank and GazaWest Bank and GazaYemen, Rep.Yemen, Rep.Yemen, Rep.Yemen, Rep.Yemen, Rep.Yemen, Rep.Yemen, Rep.Yemen, Rep.Yemen, Rep.Yemen, Rep.Yemen, Rep.Yemen, Rep.ZambiaZambiaZambiaZambiaZambiaZambiaZambiaZambiaZambiaZambiaZambiaZambiaZimbabweZimbabweZimbabweZimbabweZimbabweZimbabweZimbabweZimbabweZimbabweZimbabweZimbabweZimbabwe\"\n 'AsiaAsiaAsiaAsiaAsiaAsiaAsiaAsiaAsiaAsiaAsiaAsiaEuropeEuropeEuropeEuropeEuropeEuropeEuropeEuropeEuropeEuropeEuropeEuropeAfricaAfricaAfricaAfricaAfricaAfricaAfricaAfricaAfricaAfricaAfricaAfricaAfricaAfricaAfricaAfricaAfricaAfricaAfricaAfricaAfricaAfricaAfricaAfricaAmericasAmericasAmericasAmericasAmericasAmericasAmericasAmericasAmericasAmericasAmericasAmericasOceaniaOceaniaOceaniaOceaniaOceaniaOceaniaOceaniaOceaniaOceaniaOceaniaOceaniaOceaniaEuropeEuropeEuropeEuropeEuropeEuropeEuropeEuropeEuropeEuropeEuropeEuropeAsiaAsiaAsiaAsiaAsiaAsiaAsiaAsiaAsiaAsiaAsiaAsiaAsiaAsiaAsiaAsiaAsiaAsiaAsiaAsiaAsiaAsiaAsiaAsiaEuropeEuropeEuropeEuropeEuropeEuropeEuropeEuropeEuropeEuropeEuropeEuropeAfricaAfricaAfricaAfricaAfricaAfricaAfricaAfricaAfricaAfricaAfricaAfricaAmericasAmericasAmericasAmericasAmericasAmericasAmericasAmericasAmericasAmericasAmericasAmericasEuropeEuropeEuropeEuropeEuropeEuropeEuropeEuropeEuropeEuropeEuropeEuropeAfricaAfricaAfricaAfricaAfricaAfricaAfricaAfricaAfricaAfricaAfricaAfricaAmericasAmericasAmericasAmericasAmericasAmericasAmericasAmericasAmericasAmericasAmericasAmericasEuropeEuropeEuropeEuropeEuropeEuropeEuropeEuropeEuropeEuropeEuropeEuropeAfricaAfricaAfricaAfricaAfricaAfricaAfricaAfricaAfricaAfricaAfricaAfricaAfricaAfricaAfricaAfricaAfricaAfricaAfricaAfricaAfricaAfricaAfricaAfricaAsiaAsiaAsiaAsiaAsiaAsiaAsiaAsiaAsiaAsiaAsiaAsiaAfricaAfricaAfricaAfricaAfricaAfricaAfricaAfricaAfricaAfricaAfricaAfricaAmericasAmericasAmericasAmericasAmericasAmericasAmericasAmericasAmericasAmericasAmericasAmericasAfricaAfricaAfricaAfricaAfricaAfricaAfricaAfricaAfricaAfricaAfricaAfricaAfricaAfricaAfricaAfricaAfricaAfricaAfricaAfricaAfricaAfricaAfricaAfricaAmericasAmericasAmericasAmericasAmericasAmericasAmericasAmericasAmericasAmericasAmericasAmericasAsiaAsiaAsiaAsiaAsiaAsiaAsiaAsiaAsiaAsiaAsiaAsiaAmericasAmericasAmericasAmericasAmericasAmericasAmericasAmericasAmericasAmericasAmericasAmericasAfricaAfricaAfricaAfricaAfricaAfricaAfricaAfricaAfricaAfricaAfricaAfricaAfricaAfricaAfricaAfricaAfricaAfricaAfricaAfricaAfricaAfricaAfricaAfricaAfricaAfricaAfricaAfricaAfricaAfricaAfricaAfricaAfricaAfricaAfricaAfricaAmericasAmericasAmericasAmericasAmericasAmericasAmericasAmericasAmericasAmericasAmericasAmericasAfricaAfricaAfricaAfricaAfricaAfricaAfricaAfricaAfricaAfricaAfricaAfricaEuropeEuropeEuropeEuropeEuropeEuropeEuropeEuropeEuropeEuropeEuropeEuropeAmericasAmericasAmericasAmericasAmericasAmericasAmericasAmericasAmericasAmericasAmericasAmericasEuropeEuropeEuropeEuropeEuropeEuropeEuropeEuropeEuropeEuropeEuropeEuropeEuropeEuropeEuropeEuropeEuropeEuropeEuropeEuropeEuropeEuropeEuropeEuropeAfricaAfricaAfricaAfricaAfricaAfricaAfricaAfricaAfricaAfricaAfricaAfricaAmericasAmericasAmericasAmericasAmericasAmericasAmericasAmericasAmericasAmericasAmericasAmericasAmericasAmericasAmericasAmericasAmericasAmericasAmericasAmericasAmericasAmericasAmericasAmericasAfricaAfricaAfricaAfricaAfricaAfricaAfricaAfricaAfricaAfricaAfricaAfricaAmericasAmericasAmericasAmericasAmericasAmericasAmericasAmericasAmericasAmericasAmericasAmericasAfricaAfricaAfricaAfricaAfricaAfricaAfricaAfricaAfricaAfricaAfricaAfricaAfricaAfricaAfricaAfricaAfricaAfricaAfricaAfricaAfricaAfricaAfricaAfricaAfricaAfricaAfricaAfricaAfricaAfricaAfricaAfricaAfricaAfricaAfricaAfricaEuropeEuropeEuropeEuropeEuropeEuropeEuropeEuropeEuropeEuropeEuropeEuropeEuropeEuropeEuropeEuropeEuropeEuropeEuropeEuropeEuropeEuropeEuropeEuropeAfricaAfricaAfricaAfricaAfricaAfricaAfricaAfricaAfricaAfricaAfricaAfricaAfricaAfricaAfricaAfricaAfricaAfricaAfricaAfricaAfricaAfricaAfricaAfricaEuropeEuropeEuropeEuropeEuropeEuropeEuropeEuropeEuropeEuropeEuropeEuropeAfricaAfricaAfricaAfricaAfricaAfricaAfricaAfricaAfricaAfricaAfricaAfricaEuropeEuropeEuropeEuropeEuropeEuropeEuropeEuropeEuropeEuropeEuropeEuropeAmericasAmericasAmericasAmericasAmericasAmericasAmericasAmericasAmericasAmericasAmericasAmericasAfricaAfricaAfricaAfricaAfricaAfricaAfricaAfricaAfricaAfricaAfricaAfricaAfricaAfricaAfricaAfricaAfricaAfricaAfricaAfricaAfricaAfricaAfricaAfricaAmericasAmericasAmericasAmericasAmericasAmericasAmericasAmericasAmericasAmericasAmericasAmericasAmericasAmericasAmericasAmericasAmericasAmericasAmericasAmericasAmericasAmericasAmericasAmericasAsiaAsiaAsiaAsiaAsiaAsiaAsiaAsiaAsiaAsiaAsiaAsiaEuropeEuropeEuropeEuropeEuropeEuropeEuropeEuropeEuropeEuropeEuropeEuropeEuropeEuropeEuropeEuropeEuropeEuropeEuropeEuropeEuropeEuropeEuropeEuropeAsiaAsiaAsiaAsiaAsiaAsiaAsiaAsiaAsiaAsiaAsiaAsiaAsiaAsiaAsiaAsiaAsiaAsiaAsiaAsiaAsiaAsiaAsiaAsiaAsiaAsiaAsiaAsiaAsiaAsiaAsiaAsiaAsiaAsiaAsiaAsiaAsiaAsiaAsiaAsiaAsiaAsiaAsiaAsiaAsiaAsiaAsiaAsiaEuropeEuropeEuropeEuropeEuropeEuropeEuropeEuropeEuropeEuropeEuropeEuropeAsiaAsiaAsiaAsiaAsiaAsiaAsiaAsiaAsiaAsiaAsiaAsiaEuropeEuropeEuropeEuropeEuropeEuropeEuropeEuropeEuropeEuropeEuropeEuropeAmericasAmericasAmericasAmericasAmericasAmericasAmericasAmericasAmericasAmericasAmericasAmericasAsiaAsiaAsiaAsiaAsiaAsiaAsiaAsiaAsiaAsiaAsiaAsiaAsiaAsiaAsiaAsiaAsiaAsiaAsiaAsiaAsiaAsiaAsiaAsiaAfricaAfricaAfricaAfricaAfricaAfricaAfricaAfricaAfricaAfricaAfricaAfricaAsiaAsiaAsiaAsiaAsiaAsiaAsiaAsiaAsiaAsiaAsiaAsiaAsiaAsiaAsiaAsiaAsiaAsiaAsiaAsiaAsiaAsiaAsiaAsiaAsiaAsiaAsiaAsiaAsiaAsiaAsiaAsiaAsiaAsiaAsiaAsiaAsiaAsiaAsiaAsiaAsiaAsiaAsiaAsiaAsiaAsiaAsiaAsiaAfricaAfricaAfricaAfricaAfricaAfricaAfricaAfricaAfricaAfricaAfricaAfricaAfricaAfricaAfricaAfricaAfricaAfricaAfricaAfricaAfricaAfricaAfricaAfricaAfricaAfricaAfricaAfricaAfricaAfricaAfricaAfricaAfricaAfricaAfricaAfricaAfricaAfricaAfricaAfricaAfricaAfricaAfricaAfricaAfricaAfricaAfricaAfricaAfricaAfricaAfricaAfricaAfricaAfricaAfricaAfricaAfricaAfricaAfricaAfricaAsiaAsiaAsiaAsiaAsiaAsiaAsiaAsiaAsiaAsiaAsiaAsiaAfricaAfricaAfricaAfricaAfricaAfricaAfricaAfricaAfricaAfricaAfricaAfricaAfricaAfricaAfricaAfricaAfricaAfricaAfricaAfricaAfricaAfricaAfricaAfricaAfricaAfricaAfricaAfricaAfricaAfricaAfricaAfricaAfricaAfricaAfricaAfricaAmericasAmericasAmericasAmericasAmericasAmericasAmericasAmericasAmericasAmericasAmericasAmericasAsiaAsiaAsiaAsiaAsiaAsiaAsiaAsiaAsiaAsiaAsiaAsiaEuropeEuropeEuropeEuropeEuropeEuropeEuropeEuropeEuropeEuropeEuropeEuropeAfricaAfricaAfricaAfricaAfricaAfricaAfricaAfricaAfricaAfricaAfricaAfricaAfricaAfricaAfricaAfricaAfricaAfricaAfricaAfricaAfricaAfricaAfricaAfricaAsiaAsiaAsiaAsiaAsiaAsiaAsiaAsiaAsiaAsiaAsiaAsiaAfricaAfricaAfricaAfricaAfricaAfricaAfricaAfricaAfricaAfricaAfricaAfricaAsiaAsiaAsiaAsiaAsiaAsiaAsiaAsiaAsiaAsiaAsiaAsiaEuropeEuropeEuropeEuropeEuropeEuropeEuropeEuropeEuropeEuropeEuropeEuropeOceaniaOceaniaOceaniaOceaniaOceaniaOceaniaOceaniaOceaniaOceaniaOceaniaOceaniaOceaniaAmericasAmericasAmericasAmericasAmericasAmericasAmericasAmericasAmericasAmericasAmericasAmericasAfricaAfricaAfricaAfricaAfricaAfricaAfricaAfricaAfricaAfricaAfricaAfricaAfricaAfricaAfricaAfricaAfricaAfricaAfricaAfricaAfricaAfricaAfricaAfricaEuropeEuropeEuropeEuropeEuropeEuropeEuropeEuropeEuropeEuropeEuropeEuropeAsiaAsiaAsiaAsiaAsiaAsiaAsiaAsiaAsiaAsiaAsiaAsiaAsiaAsiaAsiaAsiaAsiaAsiaAsiaAsiaAsiaAsiaAsiaAsiaAmericasAmericasAmericasAmericasAmericasAmericasAmericasAmericasAmericasAmericasAmericasAmericasAmericasAmericasAmericasAmericasAmericasAmericasAmericasAmericasAmericasAmericasAmericasAmericasAmericasAmericasAmericasAmericasAmericasAmericasAmericasAmericasAmericasAmericasAmericasAmericasAsiaAsiaAsiaAsiaAsiaAsiaAsiaAsiaAsiaAsiaAsiaAsiaEuropeEuropeEuropeEuropeEuropeEuropeEuropeEuropeEuropeEuropeEuropeEuropeEuropeEuropeEuropeEuropeEuropeEuropeEuropeEuropeEuropeEuropeEuropeEuropeAmericasAmericasAmericasAmericasAmericasAmericasAmericasAmericasAmericasAmericasAmericasAmericasAfricaAfricaAfricaAfricaAfricaAfricaAfricaAfricaAfricaAfricaAfricaAfricaEuropeEuropeEuropeEuropeEuropeEuropeEuropeEuropeEuropeEuropeEuropeEuropeAfricaAfricaAfricaAfricaAfricaAfricaAfricaAfricaAfricaAfricaAfricaAfricaAfricaAfricaAfricaAfricaAfricaAfricaAfricaAfricaAfricaAfricaAfricaAfricaAsiaAsiaAsiaAsiaAsiaAsiaAsiaAsiaAsiaAsiaAsiaAsiaAfricaAfricaAfricaAfricaAfricaAfricaAfricaAfricaAfricaAfricaAfricaAfricaEuropeEuropeEuropeEuropeEuropeEuropeEuropeEuropeEuropeEuropeEuropeEuropeAfricaAfricaAfricaAfricaAfricaAfricaAfricaAfricaAfricaAfricaAfricaAfricaAsiaAsiaAsiaAsiaAsiaAsiaAsiaAsiaAsiaAsiaAsiaAsiaEuropeEuropeEuropeEuropeEuropeEuropeEuropeEuropeEuropeEuropeEuropeEuropeEuropeEuropeEuropeEuropeEuropeEuropeEuropeEuropeEuropeEuropeEuropeEuropeAfricaAfricaAfricaAfricaAfricaAfricaAfricaAfricaAfricaAfricaAfricaAfricaAfricaAfricaAfricaAfricaAfricaAfricaAfricaAfricaAfricaAfricaAfricaAfricaEuropeEuropeEuropeEuropeEuropeEuropeEuropeEuropeEuropeEuropeEuropeEuropeAsiaAsiaAsiaAsiaAsiaAsiaAsiaAsiaAsiaAsiaAsiaAsiaAfricaAfricaAfricaAfricaAfricaAfricaAfricaAfricaAfricaAfricaAfricaAfricaAfricaAfricaAfricaAfricaAfricaAfricaAfricaAfricaAfricaAfricaAfricaAfricaEuropeEuropeEuropeEuropeEuropeEuropeEuropeEuropeEuropeEuropeEuropeEuropeEuropeEuropeEuropeEuropeEuropeEuropeEuropeEuropeEuropeEuropeEuropeEuropeAsiaAsiaAsiaAsiaAsiaAsiaAsiaAsiaAsiaAsiaAsiaAsiaAsiaAsiaAsiaAsiaAsiaAsiaAsiaAsiaAsiaAsiaAsiaAsiaAfricaAfricaAfricaAfricaAfricaAfricaAfricaAfricaAfricaAfricaAfricaAfricaAsiaAsiaAsiaAsiaAsiaAsiaAsiaAsiaAsiaAsiaAsiaAsiaAfricaAfricaAfricaAfricaAfricaAfricaAfricaAfricaAfricaAfricaAfricaAfricaAmericasAmericasAmericasAmericasAmericasAmericasAmericasAmericasAmericasAmericasAmericasAmericasAfricaAfricaAfricaAfricaAfricaAfricaAfricaAfricaAfricaAfricaAfricaAfricaEuropeEuropeEuropeEuropeEuropeEuropeEuropeEuropeEuropeEuropeEuropeEuropeAfricaAfricaAfricaAfricaAfricaAfricaAfricaAfricaAfricaAfricaAfricaAfricaEuropeEuropeEuropeEuropeEuropeEuropeEuropeEuropeEuropeEuropeEuropeEuropeAmericasAmericasAmericasAmericasAmericasAmericasAmericasAmericasAmericasAmericasAmericasAmericasAmericasAmericasAmericasAmericasAmericasAmericasAmericasAmericasAmericasAmericasAmericasAmericasAmericasAmericasAmericasAmericasAmericasAmericasAmericasAmericasAmericasAmericasAmericasAmericasAsiaAsiaAsiaAsiaAsiaAsiaAsiaAsiaAsiaAsiaAsiaAsiaAsiaAsiaAsiaAsiaAsiaAsiaAsiaAsiaAsiaAsiaAsiaAsiaAsiaAsiaAsiaAsiaAsiaAsiaAsiaAsiaAsiaAsiaAsiaAsiaAfricaAfricaAfricaAfricaAfricaAfricaAfricaAfricaAfricaAfricaAfricaAfricaAfricaAfricaAfricaAfricaAfricaAfricaAfricaAfricaAfricaAfricaAfricaAfrica'] to numeric",
     "output_type": "error",
     "traceback": [
      "\u001b[1;31m---------------------------------------------------------------------------\u001b[0m",
      "\u001b[1;31mValueError\u001b[0m                                Traceback (most recent call last)",
      "File \u001b[1;32m~\\anaconda3\\Lib\\site-packages\\pandas\\core\\nanops.py:1680\u001b[0m, in \u001b[0;36m_ensure_numeric\u001b[1;34m(x)\u001b[0m\n\u001b[0;32m   1679\u001b[0m \u001b[38;5;28;01mtry\u001b[39;00m:\n\u001b[1;32m-> 1680\u001b[0m     x \u001b[38;5;241m=\u001b[39m x\u001b[38;5;241m.\u001b[39mastype(np\u001b[38;5;241m.\u001b[39mcomplex128)\n\u001b[0;32m   1681\u001b[0m \u001b[38;5;28;01mexcept\u001b[39;00m (\u001b[38;5;167;01mTypeError\u001b[39;00m, \u001b[38;5;167;01mValueError\u001b[39;00m):\n",
      "\u001b[1;31mValueError\u001b[0m: complex() arg is a malformed string",
      "\nDuring handling of the above exception, another exception occurred:\n",
      "\u001b[1;31mValueError\u001b[0m                                Traceback (most recent call last)",
      "File \u001b[1;32m~\\anaconda3\\Lib\\site-packages\\pandas\\core\\nanops.py:1683\u001b[0m, in \u001b[0;36m_ensure_numeric\u001b[1;34m(x)\u001b[0m\n\u001b[0;32m   1682\u001b[0m \u001b[38;5;28;01mtry\u001b[39;00m:\n\u001b[1;32m-> 1683\u001b[0m     x \u001b[38;5;241m=\u001b[39m x\u001b[38;5;241m.\u001b[39mastype(np\u001b[38;5;241m.\u001b[39mfloat64)\n\u001b[0;32m   1684\u001b[0m \u001b[38;5;28;01mexcept\u001b[39;00m \u001b[38;5;167;01mValueError\u001b[39;00m \u001b[38;5;28;01mas\u001b[39;00m err:\n\u001b[0;32m   1685\u001b[0m     \u001b[38;5;66;03m# GH#29941 we get here with object arrays containing strs\u001b[39;00m\n",
      "\u001b[1;31mValueError\u001b[0m: could not convert string to float: \"AfghanistanAfghanistanAfghanistanAfghanistanAfghanistanAfghanistanAfghanistanAfghanistanAfghanistanAfghanistanAfghanistanAfghanistanAlbaniaAlbaniaAlbaniaAlbaniaAlbaniaAlbaniaAlbaniaAlbaniaAlbaniaAlbaniaAlbaniaAlbaniaAlgeriaAlgeriaAlgeriaAlgeriaAlgeriaAlgeriaAlgeriaAlgeriaAlgeriaAlgeriaAlgeriaAlgeriaAngolaAngolaAngolaAngolaAngolaAngolaAngolaAngolaAngolaAngolaAngolaAngolaArgentinaArgentinaArgentinaArgentinaArgentinaArgentinaArgentinaArgentinaArgentinaArgentinaArgentinaArgentinaAustraliaAustraliaAustraliaAustraliaAustraliaAustraliaAustraliaAustraliaAustraliaAustraliaAustraliaAustraliaAustriaAustriaAustriaAustriaAustriaAustriaAustriaAustriaAustriaAustriaAustriaAustriaBahrainBahrainBahrainBahrainBahrainBahrainBahrainBahrainBahrainBahrainBahrainBahrainBangladeshBangladeshBangladeshBangladeshBangladeshBangladeshBangladeshBangladeshBangladeshBangladeshBangladeshBangladeshBelgiumBelgiumBelgiumBelgiumBelgiumBelgiumBelgiumBelgiumBelgiumBelgiumBelgiumBelgiumBeninBeninBeninBeninBeninBeninBeninBeninBeninBeninBeninBeninBoliviaBoliviaBoliviaBoliviaBoliviaBoliviaBoliviaBoliviaBoliviaBoliviaBoliviaBoliviaBosnia and HerzegovinaBosnia and HerzegovinaBosnia and HerzegovinaBosnia and HerzegovinaBosnia and HerzegovinaBosnia and HerzegovinaBosnia and HerzegovinaBosnia and HerzegovinaBosnia and HerzegovinaBosnia and HerzegovinaBosnia and HerzegovinaBosnia and HerzegovinaBotswanaBotswanaBotswanaBotswanaBotswanaBotswanaBotswanaBotswanaBotswanaBotswanaBotswanaBotswanaBrazilBrazilBrazilBrazilBrazilBrazilBrazilBrazilBrazilBrazilBrazilBrazilBulgariaBulgariaBulgariaBulgariaBulgariaBulgariaBulgariaBulgariaBulgariaBulgariaBulgariaBulgariaBurkina FasoBurkina FasoBurkina FasoBurkina FasoBurkina FasoBurkina FasoBurkina FasoBurkina FasoBurkina FasoBurkina FasoBurkina FasoBurkina FasoBurundiBurundiBurundiBurundiBurundiBurundiBurundiBurundiBurundiBurundiBurundiBurundiCambodiaCambodiaCambodiaCambodiaCambodiaCambodiaCambodiaCambodiaCambodiaCambodiaCambodiaCambodiaCameroonCameroonCameroonCameroonCameroonCameroonCameroonCameroonCameroonCameroonCameroonCameroonCanadaCanadaCanadaCanadaCanadaCanadaCanadaCanadaCanadaCanadaCanadaCanadaCentral African RepublicCentral African RepublicCentral African RepublicCentral African RepublicCentral African RepublicCentral African RepublicCentral African RepublicCentral African RepublicCentral African RepublicCentral African RepublicCentral African RepublicCentral African RepublicChadChadChadChadChadChadChadChadChadChadChadChadChileChileChileChileChileChileChileChileChileChileChileChileChinaChinaChinaChinaChinaChinaChinaChinaChinaChinaChinaChinaColombiaColombiaColombiaColombiaColombiaColombiaColombiaColombiaColombiaColombiaColombiaColombiaComorosComorosComorosComorosComorosComorosComorosComorosComorosComorosComorosComorosCongo, Dem. Rep.Congo, Dem. Rep.Congo, Dem. Rep.Congo, Dem. Rep.Congo, Dem. Rep.Congo, Dem. Rep.Congo, Dem. Rep.Congo, Dem. Rep.Congo, Dem. Rep.Congo, Dem. Rep.Congo, Dem. Rep.Congo, Dem. Rep.Congo, Rep.Congo, Rep.Congo, Rep.Congo, Rep.Congo, Rep.Congo, Rep.Congo, Rep.Congo, Rep.Congo, Rep.Congo, Rep.Congo, Rep.Congo, Rep.Costa RicaCosta RicaCosta RicaCosta RicaCosta RicaCosta RicaCosta RicaCosta RicaCosta RicaCosta RicaCosta RicaCosta RicaCote d'IvoireCote d'IvoireCote d'IvoireCote d'IvoireCote d'IvoireCote d'IvoireCote d'IvoireCote d'IvoireCote d'IvoireCote d'IvoireCote d'IvoireCote d'IvoireCroatiaCroatiaCroatiaCroatiaCroatiaCroatiaCroatiaCroatiaCroatiaCroatiaCroatiaCroatiaCubaCubaCubaCubaCubaCubaCubaCubaCubaCubaCubaCubaCzech RepublicCzech RepublicCzech RepublicCzech RepublicCzech RepublicCzech RepublicCzech RepublicCzech RepublicCzech RepublicCzech RepublicCzech RepublicCzech RepublicDenmarkDenmarkDenmarkDenmarkDenmarkDenmarkDenmarkDenmarkDenmarkDenmarkDenmarkDenmarkDjiboutiDjiboutiDjiboutiDjiboutiDjiboutiDjiboutiDjiboutiDjiboutiDjiboutiDjiboutiDjiboutiDjiboutiDominican RepublicDominican RepublicDominican RepublicDominican RepublicDominican RepublicDominican RepublicDominican RepublicDominican RepublicDominican RepublicDominican RepublicDominican RepublicDominican RepublicEcuadorEcuadorEcuadorEcuadorEcuadorEcuadorEcuadorEcuadorEcuadorEcuadorEcuadorEcuadorEgyptEgyptEgyptEgyptEgyptEgyptEgyptEgyptEgyptEgyptEgyptEgyptEl SalvadorEl SalvadorEl SalvadorEl SalvadorEl SalvadorEl SalvadorEl SalvadorEl SalvadorEl SalvadorEl SalvadorEl SalvadorEl SalvadorEquatorial GuineaEquatorial GuineaEquatorial GuineaEquatorial GuineaEquatorial GuineaEquatorial GuineaEquatorial GuineaEquatorial GuineaEquatorial GuineaEquatorial GuineaEquatorial GuineaEquatorial GuineaEritreaEritreaEritreaEritreaEritreaEritreaEritreaEritreaEritreaEritreaEritreaEritreaEthiopiaEthiopiaEthiopiaEthiopiaEthiopiaEthiopiaEthiopiaEthiopiaEthiopiaEthiopiaEthiopiaEthiopiaFinlandFinlandFinlandFinlandFinlandFinlandFinlandFinlandFinlandFinlandFinlandFinlandFranceFranceFranceFranceFranceFranceFranceFranceFranceFranceFranceFranceGabonGabonGabonGabonGabonGabonGabonGabonGabonGabonGabonGabonGambiaGambiaGambiaGambiaGambiaGambiaGambiaGambiaGambiaGambiaGambiaGambiaGermanyGermanyGermanyGermanyGermanyGermanyGermanyGermanyGermanyGermanyGermanyGermanyGhanaGhanaGhanaGhanaGhanaGhanaGhanaGhanaGhanaGhanaGhanaGhanaGreeceGreeceGreeceGreeceGreeceGreeceGreeceGreeceGreeceGreeceGreeceGreeceGuatemalaGuatemalaGuatemalaGuatemalaGuatemalaGuatemalaGuatemalaGuatemalaGuatemalaGuatemalaGuatemalaGuatemalaGuineaGuineaGuineaGuineaGuineaGuineaGuineaGuineaGuineaGuineaGuineaGuineaGuinea-BissauGuinea-BissauGuinea-BissauGuinea-BissauGuinea-BissauGuinea-BissauGuinea-BissauGuinea-BissauGuinea-BissauGuinea-BissauGuinea-BissauGuinea-BissauHaitiHaitiHaitiHaitiHaitiHaitiHaitiHaitiHaitiHaitiHaitiHaitiHondurasHondurasHondurasHondurasHondurasHondurasHondurasHondurasHondurasHondurasHondurasHondurasHong Kong, ChinaHong Kong, ChinaHong Kong, ChinaHong Kong, ChinaHong Kong, ChinaHong Kong, ChinaHong Kong, ChinaHong Kong, ChinaHong Kong, ChinaHong Kong, ChinaHong Kong, ChinaHong Kong, ChinaHungaryHungaryHungaryHungaryHungaryHungaryHungaryHungaryHungaryHungaryHungaryHungaryIcelandIcelandIcelandIcelandIcelandIcelandIcelandIcelandIcelandIcelandIcelandIcelandIndiaIndiaIndiaIndiaIndiaIndiaIndiaIndiaIndiaIndiaIndiaIndiaIndonesiaIndonesiaIndonesiaIndonesiaIndonesiaIndonesiaIndonesiaIndonesiaIndonesiaIndonesiaIndonesiaIndonesiaIranIranIranIranIranIranIranIranIranIranIranIranIraqIraqIraqIraqIraqIraqIraqIraqIraqIraqIraqIraqIrelandIrelandIrelandIrelandIrelandIrelandIrelandIrelandIrelandIrelandIrelandIrelandIsraelIsraelIsraelIsraelIsraelIsraelIsraelIsraelIsraelIsraelIsraelIsraelItalyItalyItalyItalyItalyItalyItalyItalyItalyItalyItalyItalyJamaicaJamaicaJamaicaJamaicaJamaicaJamaicaJamaicaJamaicaJamaicaJamaicaJamaicaJamaicaJapanJapanJapanJapanJapanJapanJapanJapanJapanJapanJapanJapanJordanJordanJordanJordanJordanJordanJordanJordanJordanJordanJordanJordanKenyaKenyaKenyaKenyaKenyaKenyaKenyaKenyaKenyaKenyaKenyaKenyaKorea, Dem. Rep.Korea, Dem. Rep.Korea, Dem. Rep.Korea, Dem. Rep.Korea, Dem. Rep.Korea, Dem. Rep.Korea, Dem. Rep.Korea, Dem. Rep.Korea, Dem. Rep.Korea, Dem. Rep.Korea, Dem. Rep.Korea, Dem. Rep.Korea, Rep.Korea, Rep.Korea, Rep.Korea, Rep.Korea, Rep.Korea, Rep.Korea, Rep.Korea, Rep.Korea, Rep.Korea, Rep.Korea, Rep.Korea, Rep.KuwaitKuwaitKuwaitKuwaitKuwaitKuwaitKuwaitKuwaitKuwaitKuwaitKuwaitKuwaitLebanonLebanonLebanonLebanonLebanonLebanonLebanonLebanonLebanonLebanonLebanonLebanonLesothoLesothoLesothoLesothoLesothoLesothoLesothoLesothoLesothoLesothoLesothoLesothoLiberiaLiberiaLiberiaLiberiaLiberiaLiberiaLiberiaLiberiaLiberiaLiberiaLiberiaLiberiaLibyaLibyaLibyaLibyaLibyaLibyaLibyaLibyaLibyaLibyaLibyaLibyaMadagascarMadagascarMadagascarMadagascarMadagascarMadagascarMadagascarMadagascarMadagascarMadagascarMadagascarMadagascarMalawiMalawiMalawiMalawiMalawiMalawiMalawiMalawiMalawiMalawiMalawiMalawiMalaysiaMalaysiaMalaysiaMalaysiaMalaysiaMalaysiaMalaysiaMalaysiaMalaysiaMalaysiaMalaysiaMalaysiaMaliMaliMaliMaliMaliMaliMaliMaliMaliMaliMaliMaliMauritaniaMauritaniaMauritaniaMauritaniaMauritaniaMauritaniaMauritaniaMauritaniaMauritaniaMauritaniaMauritaniaMauritaniaMauritiusMauritiusMauritiusMauritiusMauritiusMauritiusMauritiusMauritiusMauritiusMauritiusMauritiusMauritiusMexicoMexicoMexicoMexicoMexicoMexicoMexicoMexicoMexicoMexicoMexicoMexicoMongoliaMongoliaMongoliaMongoliaMongoliaMongoliaMongoliaMongoliaMongoliaMongoliaMongoliaMongoliaMontenegroMontenegroMontenegroMontenegroMontenegroMontenegroMontenegroMontenegroMontenegroMontenegroMontenegroMontenegroMoroccoMoroccoMoroccoMoroccoMoroccoMoroccoMoroccoMoroccoMoroccoMoroccoMoroccoMoroccoMozambiqueMozambiqueMozambiqueMozambiqueMozambiqueMozambiqueMozambiqueMozambiqueMozambiqueMozambiqueMozambiqueMozambiqueMyanmarMyanmarMyanmarMyanmarMyanmarMyanmarMyanmarMyanmarMyanmarMyanmarMyanmarMyanmarNamibiaNamibiaNamibiaNamibiaNamibiaNamibiaNamibiaNamibiaNamibiaNamibiaNamibiaNamibiaNepalNepalNepalNepalNepalNepalNepalNepalNepalNepalNepalNepalNetherlandsNetherlandsNetherlandsNetherlandsNetherlandsNetherlandsNetherlandsNetherlandsNetherlandsNetherlandsNetherlandsNetherlandsNew ZealandNew ZealandNew ZealandNew ZealandNew ZealandNew ZealandNew ZealandNew ZealandNew ZealandNew ZealandNew ZealandNew ZealandNicaraguaNicaraguaNicaraguaNicaraguaNicaraguaNicaraguaNicaraguaNicaraguaNicaraguaNicaraguaNicaraguaNicaraguaNigerNigerNigerNigerNigerNigerNigerNigerNigerNigerNigerNigerNigeriaNigeriaNigeriaNigeriaNigeriaNigeriaNigeriaNigeriaNigeriaNigeriaNigeriaNigeriaNorwayNorwayNorwayNorwayNorwayNorwayNorwayNorwayNorwayNorwayNorwayNorwayOmanOmanOmanOmanOmanOmanOmanOmanOmanOmanOmanOmanPakistanPakistanPakistanPakistanPakistanPakistanPakistanPakistanPakistanPakistanPakistanPakistanPanamaPanamaPanamaPanamaPanamaPanamaPanamaPanamaPanamaPanamaPanamaPanamaParaguayParaguayParaguayParaguayParaguayParaguayParaguayParaguayParaguayParaguayParaguayParaguayPeruPeruPeruPeruPeruPeruPeruPeruPeruPeruPeruPeruPhilippinesPhilippinesPhilippinesPhilippinesPhilippinesPhilippinesPhilippinesPhilippinesPhilippinesPhilippinesPhilippinesPhilippinesPolandPolandPolandPolandPolandPolandPolandPolandPolandPolandPolandPolandPortugalPortugalPortugalPortugalPortugalPortugalPortugalPortugalPortugalPortugalPortugalPortugalPuerto RicoPuerto RicoPuerto RicoPuerto RicoPuerto RicoPuerto RicoPuerto RicoPuerto RicoPuerto RicoPuerto RicoPuerto RicoPuerto RicoReunionReunionReunionReunionReunionReunionReunionReunionReunionReunionReunionReunionRomaniaRomaniaRomaniaRomaniaRomaniaRomaniaRomaniaRomaniaRomaniaRomaniaRomaniaRomaniaRwandaRwandaRwandaRwandaRwandaRwandaRwandaRwandaRwandaRwandaRwandaRwandaSao Tome and PrincipeSao Tome and PrincipeSao Tome and PrincipeSao Tome and PrincipeSao Tome and PrincipeSao Tome and PrincipeSao Tome and PrincipeSao Tome and PrincipeSao Tome and PrincipeSao Tome and PrincipeSao Tome and PrincipeSao Tome and PrincipeSaudi ArabiaSaudi ArabiaSaudi ArabiaSaudi ArabiaSaudi ArabiaSaudi ArabiaSaudi ArabiaSaudi ArabiaSaudi ArabiaSaudi ArabiaSaudi ArabiaSaudi ArabiaSenegalSenegalSenegalSenegalSenegalSenegalSenegalSenegalSenegalSenegalSenegalSenegalSerbiaSerbiaSerbiaSerbiaSerbiaSerbiaSerbiaSerbiaSerbiaSerbiaSerbiaSerbiaSierra LeoneSierra LeoneSierra LeoneSierra LeoneSierra LeoneSierra LeoneSierra LeoneSierra LeoneSierra LeoneSierra LeoneSierra LeoneSierra LeoneSingaporeSingaporeSingaporeSingaporeSingaporeSingaporeSingaporeSingaporeSingaporeSingaporeSingaporeSingaporeSlovak RepublicSlovak RepublicSlovak RepublicSlovak RepublicSlovak RepublicSlovak RepublicSlovak RepublicSlovak RepublicSlovak RepublicSlovak RepublicSlovak RepublicSlovak RepublicSloveniaSloveniaSloveniaSloveniaSloveniaSloveniaSloveniaSloveniaSloveniaSloveniaSloveniaSloveniaSomaliaSomaliaSomaliaSomaliaSomaliaSomaliaSomaliaSomaliaSomaliaSomaliaSomaliaSomaliaSouth AfricaSouth AfricaSouth AfricaSouth AfricaSouth AfricaSouth AfricaSouth AfricaSouth AfricaSouth AfricaSouth AfricaSouth AfricaSouth AfricaSpainSpainSpainSpainSpainSpainSpainSpainSpainSpainSpainSpainSri LankaSri LankaSri LankaSri LankaSri LankaSri LankaSri LankaSri LankaSri LankaSri LankaSri LankaSri LankaSudanSudanSudanSudanSudanSudanSudanSudanSudanSudanSudanSudanSwazilandSwazilandSwazilandSwazilandSwazilandSwazilandSwazilandSwazilandSwazilandSwazilandSwazilandSwazilandSwedenSwedenSwedenSwedenSwedenSwedenSwedenSwedenSwedenSwedenSwedenSwedenSwitzerlandSwitzerlandSwitzerlandSwitzerlandSwitzerlandSwitzerlandSwitzerlandSwitzerlandSwitzerlandSwitzerlandSwitzerlandSwitzerlandSyriaSyriaSyriaSyriaSyriaSyriaSyriaSyriaSyriaSyriaSyriaSyriaTaiwanTaiwanTaiwanTaiwanTaiwanTaiwanTaiwanTaiwanTaiwanTaiwanTaiwanTaiwanTanzaniaTanzaniaTanzaniaTanzaniaTanzaniaTanzaniaTanzaniaTanzaniaTanzaniaTanzaniaTanzaniaTanzaniaThailandThailandThailandThailandThailandThailandThailandThailandThailandThailandThailandThailandTogoTogoTogoTogoTogoTogoTogoTogoTogoTogoTogoTogoTrinidad and TobagoTrinidad and TobagoTrinidad and TobagoTrinidad and TobagoTrinidad and TobagoTrinidad and TobagoTrinidad and TobagoTrinidad and TobagoTrinidad and TobagoTrinidad and TobagoTrinidad and TobagoTrinidad and TobagoTunisiaTunisiaTunisiaTunisiaTunisiaTunisiaTunisiaTunisiaTunisiaTunisiaTunisiaTunisiaTurkeyTurkeyTurkeyTurkeyTurkeyTurkeyTurkeyTurkeyTurkeyTurkeyTurkeyTurkeyUgandaUgandaUgandaUgandaUgandaUgandaUgandaUgandaUgandaUgandaUgandaUgandaUnited KingdomUnited KingdomUnited KingdomUnited KingdomUnited KingdomUnited KingdomUnited KingdomUnited KingdomUnited KingdomUnited KingdomUnited KingdomUnited KingdomUnited StatesUnited StatesUnited StatesUnited StatesUnited StatesUnited StatesUnited StatesUnited StatesUnited StatesUnited StatesUnited StatesUnited StatesUruguayUruguayUruguayUruguayUruguayUruguayUruguayUruguayUruguayUruguayUruguayUruguayVenezuelaVenezuelaVenezuelaVenezuelaVenezuelaVenezuelaVenezuelaVenezuelaVenezuelaVenezuelaVenezuelaVenezuelaVietnamVietnamVietnamVietnamVietnamVietnamVietnamVietnamVietnamVietnamVietnamVietnamWest Bank and GazaWest Bank and GazaWest Bank and GazaWest Bank and GazaWest Bank and GazaWest Bank and GazaWest Bank and GazaWest Bank and GazaWest Bank and GazaWest Bank and GazaWest Bank and GazaWest Bank and GazaYemen, Rep.Yemen, Rep.Yemen, Rep.Yemen, Rep.Yemen, Rep.Yemen, Rep.Yemen, Rep.Yemen, Rep.Yemen, Rep.Yemen, Rep.Yemen, Rep.Yemen, Rep.ZambiaZambiaZambiaZambiaZambiaZambiaZambiaZambiaZambiaZambiaZambiaZambiaZimbabweZimbabweZimbabweZimbabweZimbabweZimbabweZimbabweZimbabweZimbabweZimbabweZimbabweZimbabwe\"",
      "\nThe above exception was the direct cause of the following exception:\n",
      "\u001b[1;31mTypeError\u001b[0m                                 Traceback (most recent call last)",
      "Cell \u001b[1;32mIn[38], line 1\u001b[0m\n\u001b[1;32m----> 1\u001b[0m df\u001b[38;5;241m.\u001b[39mmean()\n",
      "File \u001b[1;32m~\\anaconda3\\Lib\\site-packages\\pandas\\core\\generic.py:11556\u001b[0m, in \u001b[0;36mNDFrame._add_numeric_operations.<locals>.mean\u001b[1;34m(self, axis, skipna, numeric_only, **kwargs)\u001b[0m\n\u001b[0;32m  11539\u001b[0m \u001b[38;5;129m@doc\u001b[39m(\n\u001b[0;32m  11540\u001b[0m     _num_doc,\n\u001b[0;32m  11541\u001b[0m     desc\u001b[38;5;241m=\u001b[39m\u001b[38;5;124m\"\u001b[39m\u001b[38;5;124mReturn the mean of the values over the requested axis.\u001b[39m\u001b[38;5;124m\"\u001b[39m,\n\u001b[1;32m   (...)\u001b[0m\n\u001b[0;32m  11554\u001b[0m     \u001b[38;5;241m*\u001b[39m\u001b[38;5;241m*\u001b[39mkwargs,\n\u001b[0;32m  11555\u001b[0m ):\n\u001b[1;32m> 11556\u001b[0m     \u001b[38;5;28;01mreturn\u001b[39;00m NDFrame\u001b[38;5;241m.\u001b[39mmean(\u001b[38;5;28mself\u001b[39m, axis, skipna, numeric_only, \u001b[38;5;241m*\u001b[39m\u001b[38;5;241m*\u001b[39mkwargs)\n",
      "File \u001b[1;32m~\\anaconda3\\Lib\\site-packages\\pandas\\core\\generic.py:11201\u001b[0m, in \u001b[0;36mNDFrame.mean\u001b[1;34m(self, axis, skipna, numeric_only, **kwargs)\u001b[0m\n\u001b[0;32m  11194\u001b[0m \u001b[38;5;28;01mdef\u001b[39;00m \u001b[38;5;21mmean\u001b[39m(\n\u001b[0;32m  11195\u001b[0m     \u001b[38;5;28mself\u001b[39m,\n\u001b[0;32m  11196\u001b[0m     axis: Axis \u001b[38;5;241m|\u001b[39m \u001b[38;5;28;01mNone\u001b[39;00m \u001b[38;5;241m=\u001b[39m \u001b[38;5;241m0\u001b[39m,\n\u001b[1;32m   (...)\u001b[0m\n\u001b[0;32m  11199\u001b[0m     \u001b[38;5;241m*\u001b[39m\u001b[38;5;241m*\u001b[39mkwargs,\n\u001b[0;32m  11200\u001b[0m ) \u001b[38;5;241m-\u001b[39m\u001b[38;5;241m>\u001b[39m Series \u001b[38;5;241m|\u001b[39m \u001b[38;5;28mfloat\u001b[39m:\n\u001b[1;32m> 11201\u001b[0m     \u001b[38;5;28;01mreturn\u001b[39;00m \u001b[38;5;28mself\u001b[39m\u001b[38;5;241m.\u001b[39m_stat_function(\n\u001b[0;32m  11202\u001b[0m         \u001b[38;5;124m\"\u001b[39m\u001b[38;5;124mmean\u001b[39m\u001b[38;5;124m\"\u001b[39m, nanops\u001b[38;5;241m.\u001b[39mnanmean, axis, skipna, numeric_only, \u001b[38;5;241m*\u001b[39m\u001b[38;5;241m*\u001b[39mkwargs\n\u001b[0;32m  11203\u001b[0m     )\n",
      "File \u001b[1;32m~\\anaconda3\\Lib\\site-packages\\pandas\\core\\generic.py:11158\u001b[0m, in \u001b[0;36mNDFrame._stat_function\u001b[1;34m(self, name, func, axis, skipna, numeric_only, **kwargs)\u001b[0m\n\u001b[0;32m  11154\u001b[0m     nv\u001b[38;5;241m.\u001b[39mvalidate_stat_func((), kwargs, fname\u001b[38;5;241m=\u001b[39mname)\n\u001b[0;32m  11156\u001b[0m validate_bool_kwarg(skipna, \u001b[38;5;124m\"\u001b[39m\u001b[38;5;124mskipna\u001b[39m\u001b[38;5;124m\"\u001b[39m, none_allowed\u001b[38;5;241m=\u001b[39m\u001b[38;5;28;01mFalse\u001b[39;00m)\n\u001b[1;32m> 11158\u001b[0m \u001b[38;5;28;01mreturn\u001b[39;00m \u001b[38;5;28mself\u001b[39m\u001b[38;5;241m.\u001b[39m_reduce(\n\u001b[0;32m  11159\u001b[0m     func, name\u001b[38;5;241m=\u001b[39mname, axis\u001b[38;5;241m=\u001b[39maxis, skipna\u001b[38;5;241m=\u001b[39mskipna, numeric_only\u001b[38;5;241m=\u001b[39mnumeric_only\n\u001b[0;32m  11160\u001b[0m )\n",
      "File \u001b[1;32m~\\anaconda3\\Lib\\site-packages\\pandas\\core\\frame.py:10519\u001b[0m, in \u001b[0;36mDataFrame._reduce\u001b[1;34m(self, op, name, axis, skipna, numeric_only, filter_type, **kwds)\u001b[0m\n\u001b[0;32m  10515\u001b[0m     df \u001b[38;5;241m=\u001b[39m df\u001b[38;5;241m.\u001b[39mT\n\u001b[0;32m  10517\u001b[0m \u001b[38;5;66;03m# After possibly _get_data and transposing, we are now in the\u001b[39;00m\n\u001b[0;32m  10518\u001b[0m \u001b[38;5;66;03m#  simple case where we can use BlockManager.reduce\u001b[39;00m\n\u001b[1;32m> 10519\u001b[0m res \u001b[38;5;241m=\u001b[39m df\u001b[38;5;241m.\u001b[39m_mgr\u001b[38;5;241m.\u001b[39mreduce(blk_func)\n\u001b[0;32m  10520\u001b[0m out \u001b[38;5;241m=\u001b[39m df\u001b[38;5;241m.\u001b[39m_constructor(res)\u001b[38;5;241m.\u001b[39miloc[\u001b[38;5;241m0\u001b[39m]\n\u001b[0;32m  10521\u001b[0m \u001b[38;5;28;01mif\u001b[39;00m out_dtype \u001b[38;5;129;01mis\u001b[39;00m \u001b[38;5;129;01mnot\u001b[39;00m \u001b[38;5;28;01mNone\u001b[39;00m:\n",
      "File \u001b[1;32m~\\anaconda3\\Lib\\site-packages\\pandas\\core\\internals\\managers.py:1534\u001b[0m, in \u001b[0;36mBlockManager.reduce\u001b[1;34m(self, func)\u001b[0m\n\u001b[0;32m   1532\u001b[0m res_blocks: \u001b[38;5;28mlist\u001b[39m[Block] \u001b[38;5;241m=\u001b[39m []\n\u001b[0;32m   1533\u001b[0m \u001b[38;5;28;01mfor\u001b[39;00m blk \u001b[38;5;129;01min\u001b[39;00m \u001b[38;5;28mself\u001b[39m\u001b[38;5;241m.\u001b[39mblocks:\n\u001b[1;32m-> 1534\u001b[0m     nbs \u001b[38;5;241m=\u001b[39m blk\u001b[38;5;241m.\u001b[39mreduce(func)\n\u001b[0;32m   1535\u001b[0m     res_blocks\u001b[38;5;241m.\u001b[39mextend(nbs)\n\u001b[0;32m   1537\u001b[0m index \u001b[38;5;241m=\u001b[39m Index([\u001b[38;5;28;01mNone\u001b[39;00m])  \u001b[38;5;66;03m# placeholder\u001b[39;00m\n",
      "File \u001b[1;32m~\\anaconda3\\Lib\\site-packages\\pandas\\core\\internals\\blocks.py:339\u001b[0m, in \u001b[0;36mBlock.reduce\u001b[1;34m(self, func)\u001b[0m\n\u001b[0;32m    333\u001b[0m \u001b[38;5;129m@final\u001b[39m\n\u001b[0;32m    334\u001b[0m \u001b[38;5;28;01mdef\u001b[39;00m \u001b[38;5;21mreduce\u001b[39m(\u001b[38;5;28mself\u001b[39m, func) \u001b[38;5;241m-\u001b[39m\u001b[38;5;241m>\u001b[39m \u001b[38;5;28mlist\u001b[39m[Block]:\n\u001b[0;32m    335\u001b[0m     \u001b[38;5;66;03m# We will apply the function and reshape the result into a single-row\u001b[39;00m\n\u001b[0;32m    336\u001b[0m     \u001b[38;5;66;03m#  Block with the same mgr_locs; squeezing will be done at a higher level\u001b[39;00m\n\u001b[0;32m    337\u001b[0m     \u001b[38;5;28;01massert\u001b[39;00m \u001b[38;5;28mself\u001b[39m\u001b[38;5;241m.\u001b[39mndim \u001b[38;5;241m==\u001b[39m \u001b[38;5;241m2\u001b[39m\n\u001b[1;32m--> 339\u001b[0m     result \u001b[38;5;241m=\u001b[39m func(\u001b[38;5;28mself\u001b[39m\u001b[38;5;241m.\u001b[39mvalues)\n\u001b[0;32m    341\u001b[0m     \u001b[38;5;28;01mif\u001b[39;00m \u001b[38;5;28mself\u001b[39m\u001b[38;5;241m.\u001b[39mvalues\u001b[38;5;241m.\u001b[39mndim \u001b[38;5;241m==\u001b[39m \u001b[38;5;241m1\u001b[39m:\n\u001b[0;32m    342\u001b[0m         \u001b[38;5;66;03m# TODO(EA2D): special case not needed with 2D EAs\u001b[39;00m\n\u001b[0;32m    343\u001b[0m         res_values \u001b[38;5;241m=\u001b[39m np\u001b[38;5;241m.\u001b[39marray([[result]])\n",
      "File \u001b[1;32m~\\anaconda3\\Lib\\site-packages\\pandas\\core\\frame.py:10482\u001b[0m, in \u001b[0;36mDataFrame._reduce.<locals>.blk_func\u001b[1;34m(values, axis)\u001b[0m\n\u001b[0;32m  10480\u001b[0m     \u001b[38;5;28;01mreturn\u001b[39;00m values\u001b[38;5;241m.\u001b[39m_reduce(name, skipna\u001b[38;5;241m=\u001b[39mskipna, \u001b[38;5;241m*\u001b[39m\u001b[38;5;241m*\u001b[39mkwds)\n\u001b[0;32m  10481\u001b[0m \u001b[38;5;28;01melse\u001b[39;00m:\n\u001b[1;32m> 10482\u001b[0m     \u001b[38;5;28;01mreturn\u001b[39;00m op(values, axis\u001b[38;5;241m=\u001b[39maxis, skipna\u001b[38;5;241m=\u001b[39mskipna, \u001b[38;5;241m*\u001b[39m\u001b[38;5;241m*\u001b[39mkwds)\n",
      "File \u001b[1;32m~\\anaconda3\\Lib\\site-packages\\pandas\\core\\nanops.py:96\u001b[0m, in \u001b[0;36mdisallow.__call__.<locals>._f\u001b[1;34m(*args, **kwargs)\u001b[0m\n\u001b[0;32m     94\u001b[0m \u001b[38;5;28;01mtry\u001b[39;00m:\n\u001b[0;32m     95\u001b[0m     \u001b[38;5;28;01mwith\u001b[39;00m np\u001b[38;5;241m.\u001b[39merrstate(invalid\u001b[38;5;241m=\u001b[39m\u001b[38;5;124m\"\u001b[39m\u001b[38;5;124mignore\u001b[39m\u001b[38;5;124m\"\u001b[39m):\n\u001b[1;32m---> 96\u001b[0m         \u001b[38;5;28;01mreturn\u001b[39;00m f(\u001b[38;5;241m*\u001b[39margs, \u001b[38;5;241m*\u001b[39m\u001b[38;5;241m*\u001b[39mkwargs)\n\u001b[0;32m     97\u001b[0m \u001b[38;5;28;01mexcept\u001b[39;00m \u001b[38;5;167;01mValueError\u001b[39;00m \u001b[38;5;28;01mas\u001b[39;00m e:\n\u001b[0;32m     98\u001b[0m     \u001b[38;5;66;03m# we want to transform an object array\u001b[39;00m\n\u001b[0;32m     99\u001b[0m     \u001b[38;5;66;03m# ValueError message to the more typical TypeError\u001b[39;00m\n\u001b[0;32m    100\u001b[0m     \u001b[38;5;66;03m# e.g. this is normally a disallowed function on\u001b[39;00m\n\u001b[0;32m    101\u001b[0m     \u001b[38;5;66;03m# object arrays that contain strings\u001b[39;00m\n\u001b[0;32m    102\u001b[0m     \u001b[38;5;28;01mif\u001b[39;00m is_object_dtype(args[\u001b[38;5;241m0\u001b[39m]):\n",
      "File \u001b[1;32m~\\anaconda3\\Lib\\site-packages\\pandas\\core\\nanops.py:158\u001b[0m, in \u001b[0;36mbottleneck_switch.__call__.<locals>.f\u001b[1;34m(values, axis, skipna, **kwds)\u001b[0m\n\u001b[0;32m    156\u001b[0m         result \u001b[38;5;241m=\u001b[39m alt(values, axis\u001b[38;5;241m=\u001b[39maxis, skipna\u001b[38;5;241m=\u001b[39mskipna, \u001b[38;5;241m*\u001b[39m\u001b[38;5;241m*\u001b[39mkwds)\n\u001b[0;32m    157\u001b[0m \u001b[38;5;28;01melse\u001b[39;00m:\n\u001b[1;32m--> 158\u001b[0m     result \u001b[38;5;241m=\u001b[39m alt(values, axis\u001b[38;5;241m=\u001b[39maxis, skipna\u001b[38;5;241m=\u001b[39mskipna, \u001b[38;5;241m*\u001b[39m\u001b[38;5;241m*\u001b[39mkwds)\n\u001b[0;32m    160\u001b[0m \u001b[38;5;28;01mreturn\u001b[39;00m result\n",
      "File \u001b[1;32m~\\anaconda3\\Lib\\site-packages\\pandas\\core\\nanops.py:421\u001b[0m, in \u001b[0;36m_datetimelike_compat.<locals>.new_func\u001b[1;34m(values, axis, skipna, mask, **kwargs)\u001b[0m\n\u001b[0;32m    418\u001b[0m \u001b[38;5;28;01mif\u001b[39;00m datetimelike \u001b[38;5;129;01mand\u001b[39;00m mask \u001b[38;5;129;01mis\u001b[39;00m \u001b[38;5;28;01mNone\u001b[39;00m:\n\u001b[0;32m    419\u001b[0m     mask \u001b[38;5;241m=\u001b[39m isna(values)\n\u001b[1;32m--> 421\u001b[0m result \u001b[38;5;241m=\u001b[39m func(values, axis\u001b[38;5;241m=\u001b[39maxis, skipna\u001b[38;5;241m=\u001b[39mskipna, mask\u001b[38;5;241m=\u001b[39mmask, \u001b[38;5;241m*\u001b[39m\u001b[38;5;241m*\u001b[39mkwargs)\n\u001b[0;32m    423\u001b[0m \u001b[38;5;28;01mif\u001b[39;00m datetimelike:\n\u001b[0;32m    424\u001b[0m     result \u001b[38;5;241m=\u001b[39m _wrap_results(result, orig_values\u001b[38;5;241m.\u001b[39mdtype, fill_value\u001b[38;5;241m=\u001b[39miNaT)\n",
      "File \u001b[1;32m~\\anaconda3\\Lib\\site-packages\\pandas\\core\\nanops.py:727\u001b[0m, in \u001b[0;36mnanmean\u001b[1;34m(values, axis, skipna, mask)\u001b[0m\n\u001b[0;32m    724\u001b[0m     dtype_count \u001b[38;5;241m=\u001b[39m dtype\n\u001b[0;32m    726\u001b[0m count \u001b[38;5;241m=\u001b[39m _get_counts(values\u001b[38;5;241m.\u001b[39mshape, mask, axis, dtype\u001b[38;5;241m=\u001b[39mdtype_count)\n\u001b[1;32m--> 727\u001b[0m the_sum \u001b[38;5;241m=\u001b[39m _ensure_numeric(values\u001b[38;5;241m.\u001b[39msum(axis, dtype\u001b[38;5;241m=\u001b[39mdtype_sum))\n\u001b[0;32m    729\u001b[0m \u001b[38;5;28;01mif\u001b[39;00m axis \u001b[38;5;129;01mis\u001b[39;00m \u001b[38;5;129;01mnot\u001b[39;00m \u001b[38;5;28;01mNone\u001b[39;00m \u001b[38;5;129;01mand\u001b[39;00m \u001b[38;5;28mgetattr\u001b[39m(the_sum, \u001b[38;5;124m\"\u001b[39m\u001b[38;5;124mndim\u001b[39m\u001b[38;5;124m\"\u001b[39m, \u001b[38;5;28;01mFalse\u001b[39;00m):\n\u001b[0;32m    730\u001b[0m     count \u001b[38;5;241m=\u001b[39m cast(np\u001b[38;5;241m.\u001b[39mndarray, count)\n",
      "File \u001b[1;32m~\\anaconda3\\Lib\\site-packages\\pandas\\core\\nanops.py:1686\u001b[0m, in \u001b[0;36m_ensure_numeric\u001b[1;34m(x)\u001b[0m\n\u001b[0;32m   1683\u001b[0m         x \u001b[38;5;241m=\u001b[39m x\u001b[38;5;241m.\u001b[39mastype(np\u001b[38;5;241m.\u001b[39mfloat64)\n\u001b[0;32m   1684\u001b[0m     \u001b[38;5;28;01mexcept\u001b[39;00m \u001b[38;5;167;01mValueError\u001b[39;00m \u001b[38;5;28;01mas\u001b[39;00m err:\n\u001b[0;32m   1685\u001b[0m         \u001b[38;5;66;03m# GH#29941 we get here with object arrays containing strs\u001b[39;00m\n\u001b[1;32m-> 1686\u001b[0m         \u001b[38;5;28;01mraise\u001b[39;00m \u001b[38;5;167;01mTypeError\u001b[39;00m(\u001b[38;5;124mf\u001b[39m\u001b[38;5;124m\"\u001b[39m\u001b[38;5;124mCould not convert \u001b[39m\u001b[38;5;132;01m{\u001b[39;00mx\u001b[38;5;132;01m}\u001b[39;00m\u001b[38;5;124m to numeric\u001b[39m\u001b[38;5;124m\"\u001b[39m) \u001b[38;5;28;01mfrom\u001b[39;00m \u001b[38;5;21;01merr\u001b[39;00m\n\u001b[0;32m   1687\u001b[0m \u001b[38;5;28;01melse\u001b[39;00m:\n\u001b[0;32m   1688\u001b[0m     \u001b[38;5;28;01mif\u001b[39;00m \u001b[38;5;129;01mnot\u001b[39;00m np\u001b[38;5;241m.\u001b[39many(np\u001b[38;5;241m.\u001b[39mimag(x)):\n",
      "\u001b[1;31mTypeError\u001b[0m: Could not convert [\"AfghanistanAfghanistanAfghanistanAfghanistanAfghanistanAfghanistanAfghanistanAfghanistanAfghanistanAfghanistanAfghanistanAfghanistanAlbaniaAlbaniaAlbaniaAlbaniaAlbaniaAlbaniaAlbaniaAlbaniaAlbaniaAlbaniaAlbaniaAlbaniaAlgeriaAlgeriaAlgeriaAlgeriaAlgeriaAlgeriaAlgeriaAlgeriaAlgeriaAlgeriaAlgeriaAlgeriaAngolaAngolaAngolaAngolaAngolaAngolaAngolaAngolaAngolaAngolaAngolaAngolaArgentinaArgentinaArgentinaArgentinaArgentinaArgentinaArgentinaArgentinaArgentinaArgentinaArgentinaArgentinaAustraliaAustraliaAustraliaAustraliaAustraliaAustraliaAustraliaAustraliaAustraliaAustraliaAustraliaAustraliaAustriaAustriaAustriaAustriaAustriaAustriaAustriaAustriaAustriaAustriaAustriaAustriaBahrainBahrainBahrainBahrainBahrainBahrainBahrainBahrainBahrainBahrainBahrainBahrainBangladeshBangladeshBangladeshBangladeshBangladeshBangladeshBangladeshBangladeshBangladeshBangladeshBangladeshBangladeshBelgiumBelgiumBelgiumBelgiumBelgiumBelgiumBelgiumBelgiumBelgiumBelgiumBelgiumBelgiumBeninBeninBeninBeninBeninBeninBeninBeninBeninBeninBeninBeninBoliviaBoliviaBoliviaBoliviaBoliviaBoliviaBoliviaBoliviaBoliviaBoliviaBoliviaBoliviaBosnia and HerzegovinaBosnia and HerzegovinaBosnia and HerzegovinaBosnia and HerzegovinaBosnia and HerzegovinaBosnia and HerzegovinaBosnia and HerzegovinaBosnia and HerzegovinaBosnia and HerzegovinaBosnia and HerzegovinaBosnia and HerzegovinaBosnia and HerzegovinaBotswanaBotswanaBotswanaBotswanaBotswanaBotswanaBotswanaBotswanaBotswanaBotswanaBotswanaBotswanaBrazilBrazilBrazilBrazilBrazilBrazilBrazilBrazilBrazilBrazilBrazilBrazilBulgariaBulgariaBulgariaBulgariaBulgariaBulgariaBulgariaBulgariaBulgariaBulgariaBulgariaBulgariaBurkina FasoBurkina FasoBurkina FasoBurkina FasoBurkina FasoBurkina FasoBurkina FasoBurkina FasoBurkina FasoBurkina FasoBurkina FasoBurkina FasoBurundiBurundiBurundiBurundiBurundiBurundiBurundiBurundiBurundiBurundiBurundiBurundiCambodiaCambodiaCambodiaCambodiaCambodiaCambodiaCambodiaCambodiaCambodiaCambodiaCambodiaCambodiaCameroonCameroonCameroonCameroonCameroonCameroonCameroonCameroonCameroonCameroonCameroonCameroonCanadaCanadaCanadaCanadaCanadaCanadaCanadaCanadaCanadaCanadaCanadaCanadaCentral African RepublicCentral African RepublicCentral African RepublicCentral African RepublicCentral African RepublicCentral African RepublicCentral African RepublicCentral African RepublicCentral African RepublicCentral African RepublicCentral African RepublicCentral African RepublicChadChadChadChadChadChadChadChadChadChadChadChadChileChileChileChileChileChileChileChileChileChileChileChileChinaChinaChinaChinaChinaChinaChinaChinaChinaChinaChinaChinaColombiaColombiaColombiaColombiaColombiaColombiaColombiaColombiaColombiaColombiaColombiaColombiaComorosComorosComorosComorosComorosComorosComorosComorosComorosComorosComorosComorosCongo, Dem. Rep.Congo, Dem. Rep.Congo, Dem. Rep.Congo, Dem. Rep.Congo, Dem. Rep.Congo, Dem. Rep.Congo, Dem. Rep.Congo, Dem. Rep.Congo, Dem. Rep.Congo, Dem. Rep.Congo, Dem. Rep.Congo, Dem. Rep.Congo, Rep.Congo, Rep.Congo, Rep.Congo, Rep.Congo, Rep.Congo, Rep.Congo, Rep.Congo, Rep.Congo, Rep.Congo, Rep.Congo, Rep.Congo, Rep.Costa RicaCosta RicaCosta RicaCosta RicaCosta RicaCosta RicaCosta RicaCosta RicaCosta RicaCosta RicaCosta RicaCosta RicaCote d'IvoireCote d'IvoireCote d'IvoireCote d'IvoireCote d'IvoireCote d'IvoireCote d'IvoireCote d'IvoireCote d'IvoireCote d'IvoireCote d'IvoireCote d'IvoireCroatiaCroatiaCroatiaCroatiaCroatiaCroatiaCroatiaCroatiaCroatiaCroatiaCroatiaCroatiaCubaCubaCubaCubaCubaCubaCubaCubaCubaCubaCubaCubaCzech RepublicCzech RepublicCzech RepublicCzech RepublicCzech RepublicCzech RepublicCzech RepublicCzech RepublicCzech RepublicCzech RepublicCzech RepublicCzech RepublicDenmarkDenmarkDenmarkDenmarkDenmarkDenmarkDenmarkDenmarkDenmarkDenmarkDenmarkDenmarkDjiboutiDjiboutiDjiboutiDjiboutiDjiboutiDjiboutiDjiboutiDjiboutiDjiboutiDjiboutiDjiboutiDjiboutiDominican RepublicDominican RepublicDominican RepublicDominican RepublicDominican RepublicDominican RepublicDominican RepublicDominican RepublicDominican RepublicDominican RepublicDominican RepublicDominican RepublicEcuadorEcuadorEcuadorEcuadorEcuadorEcuadorEcuadorEcuadorEcuadorEcuadorEcuadorEcuadorEgyptEgyptEgyptEgyptEgyptEgyptEgyptEgyptEgyptEgyptEgyptEgyptEl SalvadorEl SalvadorEl SalvadorEl SalvadorEl SalvadorEl SalvadorEl SalvadorEl SalvadorEl SalvadorEl SalvadorEl SalvadorEl SalvadorEquatorial GuineaEquatorial GuineaEquatorial GuineaEquatorial GuineaEquatorial GuineaEquatorial GuineaEquatorial GuineaEquatorial GuineaEquatorial GuineaEquatorial GuineaEquatorial GuineaEquatorial GuineaEritreaEritreaEritreaEritreaEritreaEritreaEritreaEritreaEritreaEritreaEritreaEritreaEthiopiaEthiopiaEthiopiaEthiopiaEthiopiaEthiopiaEthiopiaEthiopiaEthiopiaEthiopiaEthiopiaEthiopiaFinlandFinlandFinlandFinlandFinlandFinlandFinlandFinlandFinlandFinlandFinlandFinlandFranceFranceFranceFranceFranceFranceFranceFranceFranceFranceFranceFranceGabonGabonGabonGabonGabonGabonGabonGabonGabonGabonGabonGabonGambiaGambiaGambiaGambiaGambiaGambiaGambiaGambiaGambiaGambiaGambiaGambiaGermanyGermanyGermanyGermanyGermanyGermanyGermanyGermanyGermanyGermanyGermanyGermanyGhanaGhanaGhanaGhanaGhanaGhanaGhanaGhanaGhanaGhanaGhanaGhanaGreeceGreeceGreeceGreeceGreeceGreeceGreeceGreeceGreeceGreeceGreeceGreeceGuatemalaGuatemalaGuatemalaGuatemalaGuatemalaGuatemalaGuatemalaGuatemalaGuatemalaGuatemalaGuatemalaGuatemalaGuineaGuineaGuineaGuineaGuineaGuineaGuineaGuineaGuineaGuineaGuineaGuineaGuinea-BissauGuinea-BissauGuinea-BissauGuinea-BissauGuinea-BissauGuinea-BissauGuinea-BissauGuinea-BissauGuinea-BissauGuinea-BissauGuinea-BissauGuinea-BissauHaitiHaitiHaitiHaitiHaitiHaitiHaitiHaitiHaitiHaitiHaitiHaitiHondurasHondurasHondurasHondurasHondurasHondurasHondurasHondurasHondurasHondurasHondurasHondurasHong Kong, ChinaHong Kong, ChinaHong Kong, ChinaHong Kong, ChinaHong Kong, ChinaHong Kong, ChinaHong Kong, ChinaHong Kong, ChinaHong Kong, ChinaHong Kong, ChinaHong Kong, ChinaHong Kong, ChinaHungaryHungaryHungaryHungaryHungaryHungaryHungaryHungaryHungaryHungaryHungaryHungaryIcelandIcelandIcelandIcelandIcelandIcelandIcelandIcelandIcelandIcelandIcelandIcelandIndiaIndiaIndiaIndiaIndiaIndiaIndiaIndiaIndiaIndiaIndiaIndiaIndonesiaIndonesiaIndonesiaIndonesiaIndonesiaIndonesiaIndonesiaIndonesiaIndonesiaIndonesiaIndonesiaIndonesiaIranIranIranIranIranIranIranIranIranIranIranIranIraqIraqIraqIraqIraqIraqIraqIraqIraqIraqIraqIraqIrelandIrelandIrelandIrelandIrelandIrelandIrelandIrelandIrelandIrelandIrelandIrelandIsraelIsraelIsraelIsraelIsraelIsraelIsraelIsraelIsraelIsraelIsraelIsraelItalyItalyItalyItalyItalyItalyItalyItalyItalyItalyItalyItalyJamaicaJamaicaJamaicaJamaicaJamaicaJamaicaJamaicaJamaicaJamaicaJamaicaJamaicaJamaicaJapanJapanJapanJapanJapanJapanJapanJapanJapanJapanJapanJapanJordanJordanJordanJordanJordanJordanJordanJordanJordanJordanJordanJordanKenyaKenyaKenyaKenyaKenyaKenyaKenyaKenyaKenyaKenyaKenyaKenyaKorea, Dem. Rep.Korea, Dem. Rep.Korea, Dem. Rep.Korea, Dem. Rep.Korea, Dem. Rep.Korea, Dem. Rep.Korea, Dem. Rep.Korea, Dem. Rep.Korea, Dem. Rep.Korea, Dem. Rep.Korea, Dem. Rep.Korea, Dem. Rep.Korea, Rep.Korea, Rep.Korea, Rep.Korea, Rep.Korea, Rep.Korea, Rep.Korea, Rep.Korea, Rep.Korea, Rep.Korea, Rep.Korea, Rep.Korea, Rep.KuwaitKuwaitKuwaitKuwaitKuwaitKuwaitKuwaitKuwaitKuwaitKuwaitKuwaitKuwaitLebanonLebanonLebanonLebanonLebanonLebanonLebanonLebanonLebanonLebanonLebanonLebanonLesothoLesothoLesothoLesothoLesothoLesothoLesothoLesothoLesothoLesothoLesothoLesothoLiberiaLiberiaLiberiaLiberiaLiberiaLiberiaLiberiaLiberiaLiberiaLiberiaLiberiaLiberiaLibyaLibyaLibyaLibyaLibyaLibyaLibyaLibyaLibyaLibyaLibyaLibyaMadagascarMadagascarMadagascarMadagascarMadagascarMadagascarMadagascarMadagascarMadagascarMadagascarMadagascarMadagascarMalawiMalawiMalawiMalawiMalawiMalawiMalawiMalawiMalawiMalawiMalawiMalawiMalaysiaMalaysiaMalaysiaMalaysiaMalaysiaMalaysiaMalaysiaMalaysiaMalaysiaMalaysiaMalaysiaMalaysiaMaliMaliMaliMaliMaliMaliMaliMaliMaliMaliMaliMaliMauritaniaMauritaniaMauritaniaMauritaniaMauritaniaMauritaniaMauritaniaMauritaniaMauritaniaMauritaniaMauritaniaMauritaniaMauritiusMauritiusMauritiusMauritiusMauritiusMauritiusMauritiusMauritiusMauritiusMauritiusMauritiusMauritiusMexicoMexicoMexicoMexicoMexicoMexicoMexicoMexicoMexicoMexicoMexicoMexicoMongoliaMongoliaMongoliaMongoliaMongoliaMongoliaMongoliaMongoliaMongoliaMongoliaMongoliaMongoliaMontenegroMontenegroMontenegroMontenegroMontenegroMontenegroMontenegroMontenegroMontenegroMontenegroMontenegroMontenegroMoroccoMoroccoMoroccoMoroccoMoroccoMoroccoMoroccoMoroccoMoroccoMoroccoMoroccoMoroccoMozambiqueMozambiqueMozambiqueMozambiqueMozambiqueMozambiqueMozambiqueMozambiqueMozambiqueMozambiqueMozambiqueMozambiqueMyanmarMyanmarMyanmarMyanmarMyanmarMyanmarMyanmarMyanmarMyanmarMyanmarMyanmarMyanmarNamibiaNamibiaNamibiaNamibiaNamibiaNamibiaNamibiaNamibiaNamibiaNamibiaNamibiaNamibiaNepalNepalNepalNepalNepalNepalNepalNepalNepalNepalNepalNepalNetherlandsNetherlandsNetherlandsNetherlandsNetherlandsNetherlandsNetherlandsNetherlandsNetherlandsNetherlandsNetherlandsNetherlandsNew ZealandNew ZealandNew ZealandNew ZealandNew ZealandNew ZealandNew ZealandNew ZealandNew ZealandNew ZealandNew ZealandNew ZealandNicaraguaNicaraguaNicaraguaNicaraguaNicaraguaNicaraguaNicaraguaNicaraguaNicaraguaNicaraguaNicaraguaNicaraguaNigerNigerNigerNigerNigerNigerNigerNigerNigerNigerNigerNigerNigeriaNigeriaNigeriaNigeriaNigeriaNigeriaNigeriaNigeriaNigeriaNigeriaNigeriaNigeriaNorwayNorwayNorwayNorwayNorwayNorwayNorwayNorwayNorwayNorwayNorwayNorwayOmanOmanOmanOmanOmanOmanOmanOmanOmanOmanOmanOmanPakistanPakistanPakistanPakistanPakistanPakistanPakistanPakistanPakistanPakistanPakistanPakistanPanamaPanamaPanamaPanamaPanamaPanamaPanamaPanamaPanamaPanamaPanamaPanamaParaguayParaguayParaguayParaguayParaguayParaguayParaguayParaguayParaguayParaguayParaguayParaguayPeruPeruPeruPeruPeruPeruPeruPeruPeruPeruPeruPeruPhilippinesPhilippinesPhilippinesPhilippinesPhilippinesPhilippinesPhilippinesPhilippinesPhilippinesPhilippinesPhilippinesPhilippinesPolandPolandPolandPolandPolandPolandPolandPolandPolandPolandPolandPolandPortugalPortugalPortugalPortugalPortugalPortugalPortugalPortugalPortugalPortugalPortugalPortugalPuerto RicoPuerto RicoPuerto RicoPuerto RicoPuerto RicoPuerto RicoPuerto RicoPuerto RicoPuerto RicoPuerto RicoPuerto RicoPuerto RicoReunionReunionReunionReunionReunionReunionReunionReunionReunionReunionReunionReunionRomaniaRomaniaRomaniaRomaniaRomaniaRomaniaRomaniaRomaniaRomaniaRomaniaRomaniaRomaniaRwandaRwandaRwandaRwandaRwandaRwandaRwandaRwandaRwandaRwandaRwandaRwandaSao Tome and PrincipeSao Tome and PrincipeSao Tome and PrincipeSao Tome and PrincipeSao Tome and PrincipeSao Tome and PrincipeSao Tome and PrincipeSao Tome and PrincipeSao Tome and PrincipeSao Tome and PrincipeSao Tome and PrincipeSao Tome and PrincipeSaudi ArabiaSaudi ArabiaSaudi ArabiaSaudi ArabiaSaudi ArabiaSaudi ArabiaSaudi ArabiaSaudi ArabiaSaudi ArabiaSaudi ArabiaSaudi ArabiaSaudi ArabiaSenegalSenegalSenegalSenegalSenegalSenegalSenegalSenegalSenegalSenegalSenegalSenegalSerbiaSerbiaSerbiaSerbiaSerbiaSerbiaSerbiaSerbiaSerbiaSerbiaSerbiaSerbiaSierra LeoneSierra LeoneSierra LeoneSierra LeoneSierra LeoneSierra LeoneSierra LeoneSierra LeoneSierra LeoneSierra LeoneSierra LeoneSierra LeoneSingaporeSingaporeSingaporeSingaporeSingaporeSingaporeSingaporeSingaporeSingaporeSingaporeSingaporeSingaporeSlovak RepublicSlovak RepublicSlovak RepublicSlovak RepublicSlovak RepublicSlovak RepublicSlovak RepublicSlovak RepublicSlovak RepublicSlovak RepublicSlovak RepublicSlovak RepublicSloveniaSloveniaSloveniaSloveniaSloveniaSloveniaSloveniaSloveniaSloveniaSloveniaSloveniaSloveniaSomaliaSomaliaSomaliaSomaliaSomaliaSomaliaSomaliaSomaliaSomaliaSomaliaSomaliaSomaliaSouth AfricaSouth AfricaSouth AfricaSouth AfricaSouth AfricaSouth AfricaSouth AfricaSouth AfricaSouth AfricaSouth AfricaSouth AfricaSouth AfricaSpainSpainSpainSpainSpainSpainSpainSpainSpainSpainSpainSpainSri LankaSri LankaSri LankaSri LankaSri LankaSri LankaSri LankaSri LankaSri LankaSri LankaSri LankaSri LankaSudanSudanSudanSudanSudanSudanSudanSudanSudanSudanSudanSudanSwazilandSwazilandSwazilandSwazilandSwazilandSwazilandSwazilandSwazilandSwazilandSwazilandSwazilandSwazilandSwedenSwedenSwedenSwedenSwedenSwedenSwedenSwedenSwedenSwedenSwedenSwedenSwitzerlandSwitzerlandSwitzerlandSwitzerlandSwitzerlandSwitzerlandSwitzerlandSwitzerlandSwitzerlandSwitzerlandSwitzerlandSwitzerlandSyriaSyriaSyriaSyriaSyriaSyriaSyriaSyriaSyriaSyriaSyriaSyriaTaiwanTaiwanTaiwanTaiwanTaiwanTaiwanTaiwanTaiwanTaiwanTaiwanTaiwanTaiwanTanzaniaTanzaniaTanzaniaTanzaniaTanzaniaTanzaniaTanzaniaTanzaniaTanzaniaTanzaniaTanzaniaTanzaniaThailandThailandThailandThailandThailandThailandThailandThailandThailandThailandThailandThailandTogoTogoTogoTogoTogoTogoTogoTogoTogoTogoTogoTogoTrinidad and TobagoTrinidad and TobagoTrinidad and TobagoTrinidad and TobagoTrinidad and TobagoTrinidad and TobagoTrinidad and TobagoTrinidad and TobagoTrinidad and TobagoTrinidad and TobagoTrinidad and TobagoTrinidad and TobagoTunisiaTunisiaTunisiaTunisiaTunisiaTunisiaTunisiaTunisiaTunisiaTunisiaTunisiaTunisiaTurkeyTurkeyTurkeyTurkeyTurkeyTurkeyTurkeyTurkeyTurkeyTurkeyTurkeyTurkeyUgandaUgandaUgandaUgandaUgandaUgandaUgandaUgandaUgandaUgandaUgandaUgandaUnited KingdomUnited KingdomUnited KingdomUnited KingdomUnited KingdomUnited KingdomUnited KingdomUnited KingdomUnited KingdomUnited KingdomUnited KingdomUnited KingdomUnited StatesUnited StatesUnited StatesUnited StatesUnited StatesUnited StatesUnited StatesUnited StatesUnited StatesUnited StatesUnited StatesUnited StatesUruguayUruguayUruguayUruguayUruguayUruguayUruguayUruguayUruguayUruguayUruguayUruguayVenezuelaVenezuelaVenezuelaVenezuelaVenezuelaVenezuelaVenezuelaVenezuelaVenezuelaVenezuelaVenezuelaVenezuelaVietnamVietnamVietnamVietnamVietnamVietnamVietnamVietnamVietnamVietnamVietnamVietnamWest Bank and GazaWest Bank and GazaWest Bank and GazaWest Bank and GazaWest Bank and GazaWest Bank and GazaWest Bank and GazaWest Bank and GazaWest Bank and GazaWest Bank and GazaWest Bank and GazaWest Bank and GazaYemen, Rep.Yemen, Rep.Yemen, Rep.Yemen, Rep.Yemen, Rep.Yemen, Rep.Yemen, Rep.Yemen, Rep.Yemen, Rep.Yemen, Rep.Yemen, Rep.Yemen, Rep.ZambiaZambiaZambiaZambiaZambiaZambiaZambiaZambiaZambiaZambiaZambiaZambiaZimbabweZimbabweZimbabweZimbabweZimbabweZimbabweZimbabweZimbabweZimbabweZimbabweZimbabweZimbabwe\"\n 'AsiaAsiaAsiaAsiaAsiaAsiaAsiaAsiaAsiaAsiaAsiaAsiaEuropeEuropeEuropeEuropeEuropeEuropeEuropeEuropeEuropeEuropeEuropeEuropeAfricaAfricaAfricaAfricaAfricaAfricaAfricaAfricaAfricaAfricaAfricaAfricaAfricaAfricaAfricaAfricaAfricaAfricaAfricaAfricaAfricaAfricaAfricaAfricaAmericasAmericasAmericasAmericasAmericasAmericasAmericasAmericasAmericasAmericasAmericasAmericasOceaniaOceaniaOceaniaOceaniaOceaniaOceaniaOceaniaOceaniaOceaniaOceaniaOceaniaOceaniaEuropeEuropeEuropeEuropeEuropeEuropeEuropeEuropeEuropeEuropeEuropeEuropeAsiaAsiaAsiaAsiaAsiaAsiaAsiaAsiaAsiaAsiaAsiaAsiaAsiaAsiaAsiaAsiaAsiaAsiaAsiaAsiaAsiaAsiaAsiaAsiaEuropeEuropeEuropeEuropeEuropeEuropeEuropeEuropeEuropeEuropeEuropeEuropeAfricaAfricaAfricaAfricaAfricaAfricaAfricaAfricaAfricaAfricaAfricaAfricaAmericasAmericasAmericasAmericasAmericasAmericasAmericasAmericasAmericasAmericasAmericasAmericasEuropeEuropeEuropeEuropeEuropeEuropeEuropeEuropeEuropeEuropeEuropeEuropeAfricaAfricaAfricaAfricaAfricaAfricaAfricaAfricaAfricaAfricaAfricaAfricaAmericasAmericasAmericasAmericasAmericasAmericasAmericasAmericasAmericasAmericasAmericasAmericasEuropeEuropeEuropeEuropeEuropeEuropeEuropeEuropeEuropeEuropeEuropeEuropeAfricaAfricaAfricaAfricaAfricaAfricaAfricaAfricaAfricaAfricaAfricaAfricaAfricaAfricaAfricaAfricaAfricaAfricaAfricaAfricaAfricaAfricaAfricaAfricaAsiaAsiaAsiaAsiaAsiaAsiaAsiaAsiaAsiaAsiaAsiaAsiaAfricaAfricaAfricaAfricaAfricaAfricaAfricaAfricaAfricaAfricaAfricaAfricaAmericasAmericasAmericasAmericasAmericasAmericasAmericasAmericasAmericasAmericasAmericasAmericasAfricaAfricaAfricaAfricaAfricaAfricaAfricaAfricaAfricaAfricaAfricaAfricaAfricaAfricaAfricaAfricaAfricaAfricaAfricaAfricaAfricaAfricaAfricaAfricaAmericasAmericasAmericasAmericasAmericasAmericasAmericasAmericasAmericasAmericasAmericasAmericasAsiaAsiaAsiaAsiaAsiaAsiaAsiaAsiaAsiaAsiaAsiaAsiaAmericasAmericasAmericasAmericasAmericasAmericasAmericasAmericasAmericasAmericasAmericasAmericasAfricaAfricaAfricaAfricaAfricaAfricaAfricaAfricaAfricaAfricaAfricaAfricaAfricaAfricaAfricaAfricaAfricaAfricaAfricaAfricaAfricaAfricaAfricaAfricaAfricaAfricaAfricaAfricaAfricaAfricaAfricaAfricaAfricaAfricaAfricaAfricaAmericasAmericasAmericasAmericasAmericasAmericasAmericasAmericasAmericasAmericasAmericasAmericasAfricaAfricaAfricaAfricaAfricaAfricaAfricaAfricaAfricaAfricaAfricaAfricaEuropeEuropeEuropeEuropeEuropeEuropeEuropeEuropeEuropeEuropeEuropeEuropeAmericasAmericasAmericasAmericasAmericasAmericasAmericasAmericasAmericasAmericasAmericasAmericasEuropeEuropeEuropeEuropeEuropeEuropeEuropeEuropeEuropeEuropeEuropeEuropeEuropeEuropeEuropeEuropeEuropeEuropeEuropeEuropeEuropeEuropeEuropeEuropeAfricaAfricaAfricaAfricaAfricaAfricaAfricaAfricaAfricaAfricaAfricaAfricaAmericasAmericasAmericasAmericasAmericasAmericasAmericasAmericasAmericasAmericasAmericasAmericasAmericasAmericasAmericasAmericasAmericasAmericasAmericasAmericasAmericasAmericasAmericasAmericasAfricaAfricaAfricaAfricaAfricaAfricaAfricaAfricaAfricaAfricaAfricaAfricaAmericasAmericasAmericasAmericasAmericasAmericasAmericasAmericasAmericasAmericasAmericasAmericasAfricaAfricaAfricaAfricaAfricaAfricaAfricaAfricaAfricaAfricaAfricaAfricaAfricaAfricaAfricaAfricaAfricaAfricaAfricaAfricaAfricaAfricaAfricaAfricaAfricaAfricaAfricaAfricaAfricaAfricaAfricaAfricaAfricaAfricaAfricaAfricaEuropeEuropeEuropeEuropeEuropeEuropeEuropeEuropeEuropeEuropeEuropeEuropeEuropeEuropeEuropeEuropeEuropeEuropeEuropeEuropeEuropeEuropeEuropeEuropeAfricaAfricaAfricaAfricaAfricaAfricaAfricaAfricaAfricaAfricaAfricaAfricaAfricaAfricaAfricaAfricaAfricaAfricaAfricaAfricaAfricaAfricaAfricaAfricaEuropeEuropeEuropeEuropeEuropeEuropeEuropeEuropeEuropeEuropeEuropeEuropeAfricaAfricaAfricaAfricaAfricaAfricaAfricaAfricaAfricaAfricaAfricaAfricaEuropeEuropeEuropeEuropeEuropeEuropeEuropeEuropeEuropeEuropeEuropeEuropeAmericasAmericasAmericasAmericasAmericasAmericasAmericasAmericasAmericasAmericasAmericasAmericasAfricaAfricaAfricaAfricaAfricaAfricaAfricaAfricaAfricaAfricaAfricaAfricaAfricaAfricaAfricaAfricaAfricaAfricaAfricaAfricaAfricaAfricaAfricaAfricaAmericasAmericasAmericasAmericasAmericasAmericasAmericasAmericasAmericasAmericasAmericasAmericasAmericasAmericasAmericasAmericasAmericasAmericasAmericasAmericasAmericasAmericasAmericasAmericasAsiaAsiaAsiaAsiaAsiaAsiaAsiaAsiaAsiaAsiaAsiaAsiaEuropeEuropeEuropeEuropeEuropeEuropeEuropeEuropeEuropeEuropeEuropeEuropeEuropeEuropeEuropeEuropeEuropeEuropeEuropeEuropeEuropeEuropeEuropeEuropeAsiaAsiaAsiaAsiaAsiaAsiaAsiaAsiaAsiaAsiaAsiaAsiaAsiaAsiaAsiaAsiaAsiaAsiaAsiaAsiaAsiaAsiaAsiaAsiaAsiaAsiaAsiaAsiaAsiaAsiaAsiaAsiaAsiaAsiaAsiaAsiaAsiaAsiaAsiaAsiaAsiaAsiaAsiaAsiaAsiaAsiaAsiaAsiaEuropeEuropeEuropeEuropeEuropeEuropeEuropeEuropeEuropeEuropeEuropeEuropeAsiaAsiaAsiaAsiaAsiaAsiaAsiaAsiaAsiaAsiaAsiaAsiaEuropeEuropeEuropeEuropeEuropeEuropeEuropeEuropeEuropeEuropeEuropeEuropeAmericasAmericasAmericasAmericasAmericasAmericasAmericasAmericasAmericasAmericasAmericasAmericasAsiaAsiaAsiaAsiaAsiaAsiaAsiaAsiaAsiaAsiaAsiaAsiaAsiaAsiaAsiaAsiaAsiaAsiaAsiaAsiaAsiaAsiaAsiaAsiaAfricaAfricaAfricaAfricaAfricaAfricaAfricaAfricaAfricaAfricaAfricaAfricaAsiaAsiaAsiaAsiaAsiaAsiaAsiaAsiaAsiaAsiaAsiaAsiaAsiaAsiaAsiaAsiaAsiaAsiaAsiaAsiaAsiaAsiaAsiaAsiaAsiaAsiaAsiaAsiaAsiaAsiaAsiaAsiaAsiaAsiaAsiaAsiaAsiaAsiaAsiaAsiaAsiaAsiaAsiaAsiaAsiaAsiaAsiaAsiaAfricaAfricaAfricaAfricaAfricaAfricaAfricaAfricaAfricaAfricaAfricaAfricaAfricaAfricaAfricaAfricaAfricaAfricaAfricaAfricaAfricaAfricaAfricaAfricaAfricaAfricaAfricaAfricaAfricaAfricaAfricaAfricaAfricaAfricaAfricaAfricaAfricaAfricaAfricaAfricaAfricaAfricaAfricaAfricaAfricaAfricaAfricaAfricaAfricaAfricaAfricaAfricaAfricaAfricaAfricaAfricaAfricaAfricaAfricaAfricaAsiaAsiaAsiaAsiaAsiaAsiaAsiaAsiaAsiaAsiaAsiaAsiaAfricaAfricaAfricaAfricaAfricaAfricaAfricaAfricaAfricaAfricaAfricaAfricaAfricaAfricaAfricaAfricaAfricaAfricaAfricaAfricaAfricaAfricaAfricaAfricaAfricaAfricaAfricaAfricaAfricaAfricaAfricaAfricaAfricaAfricaAfricaAfricaAmericasAmericasAmericasAmericasAmericasAmericasAmericasAmericasAmericasAmericasAmericasAmericasAsiaAsiaAsiaAsiaAsiaAsiaAsiaAsiaAsiaAsiaAsiaAsiaEuropeEuropeEuropeEuropeEuropeEuropeEuropeEuropeEuropeEuropeEuropeEuropeAfricaAfricaAfricaAfricaAfricaAfricaAfricaAfricaAfricaAfricaAfricaAfricaAfricaAfricaAfricaAfricaAfricaAfricaAfricaAfricaAfricaAfricaAfricaAfricaAsiaAsiaAsiaAsiaAsiaAsiaAsiaAsiaAsiaAsiaAsiaAsiaAfricaAfricaAfricaAfricaAfricaAfricaAfricaAfricaAfricaAfricaAfricaAfricaAsiaAsiaAsiaAsiaAsiaAsiaAsiaAsiaAsiaAsiaAsiaAsiaEuropeEuropeEuropeEuropeEuropeEuropeEuropeEuropeEuropeEuropeEuropeEuropeOceaniaOceaniaOceaniaOceaniaOceaniaOceaniaOceaniaOceaniaOceaniaOceaniaOceaniaOceaniaAmericasAmericasAmericasAmericasAmericasAmericasAmericasAmericasAmericasAmericasAmericasAmericasAfricaAfricaAfricaAfricaAfricaAfricaAfricaAfricaAfricaAfricaAfricaAfricaAfricaAfricaAfricaAfricaAfricaAfricaAfricaAfricaAfricaAfricaAfricaAfricaEuropeEuropeEuropeEuropeEuropeEuropeEuropeEuropeEuropeEuropeEuropeEuropeAsiaAsiaAsiaAsiaAsiaAsiaAsiaAsiaAsiaAsiaAsiaAsiaAsiaAsiaAsiaAsiaAsiaAsiaAsiaAsiaAsiaAsiaAsiaAsiaAmericasAmericasAmericasAmericasAmericasAmericasAmericasAmericasAmericasAmericasAmericasAmericasAmericasAmericasAmericasAmericasAmericasAmericasAmericasAmericasAmericasAmericasAmericasAmericasAmericasAmericasAmericasAmericasAmericasAmericasAmericasAmericasAmericasAmericasAmericasAmericasAsiaAsiaAsiaAsiaAsiaAsiaAsiaAsiaAsiaAsiaAsiaAsiaEuropeEuropeEuropeEuropeEuropeEuropeEuropeEuropeEuropeEuropeEuropeEuropeEuropeEuropeEuropeEuropeEuropeEuropeEuropeEuropeEuropeEuropeEuropeEuropeAmericasAmericasAmericasAmericasAmericasAmericasAmericasAmericasAmericasAmericasAmericasAmericasAfricaAfricaAfricaAfricaAfricaAfricaAfricaAfricaAfricaAfricaAfricaAfricaEuropeEuropeEuropeEuropeEuropeEuropeEuropeEuropeEuropeEuropeEuropeEuropeAfricaAfricaAfricaAfricaAfricaAfricaAfricaAfricaAfricaAfricaAfricaAfricaAfricaAfricaAfricaAfricaAfricaAfricaAfricaAfricaAfricaAfricaAfricaAfricaAsiaAsiaAsiaAsiaAsiaAsiaAsiaAsiaAsiaAsiaAsiaAsiaAfricaAfricaAfricaAfricaAfricaAfricaAfricaAfricaAfricaAfricaAfricaAfricaEuropeEuropeEuropeEuropeEuropeEuropeEuropeEuropeEuropeEuropeEuropeEuropeAfricaAfricaAfricaAfricaAfricaAfricaAfricaAfricaAfricaAfricaAfricaAfricaAsiaAsiaAsiaAsiaAsiaAsiaAsiaAsiaAsiaAsiaAsiaAsiaEuropeEuropeEuropeEuropeEuropeEuropeEuropeEuropeEuropeEuropeEuropeEuropeEuropeEuropeEuropeEuropeEuropeEuropeEuropeEuropeEuropeEuropeEuropeEuropeAfricaAfricaAfricaAfricaAfricaAfricaAfricaAfricaAfricaAfricaAfricaAfricaAfricaAfricaAfricaAfricaAfricaAfricaAfricaAfricaAfricaAfricaAfricaAfricaEuropeEuropeEuropeEuropeEuropeEuropeEuropeEuropeEuropeEuropeEuropeEuropeAsiaAsiaAsiaAsiaAsiaAsiaAsiaAsiaAsiaAsiaAsiaAsiaAfricaAfricaAfricaAfricaAfricaAfricaAfricaAfricaAfricaAfricaAfricaAfricaAfricaAfricaAfricaAfricaAfricaAfricaAfricaAfricaAfricaAfricaAfricaAfricaEuropeEuropeEuropeEuropeEuropeEuropeEuropeEuropeEuropeEuropeEuropeEuropeEuropeEuropeEuropeEuropeEuropeEuropeEuropeEuropeEuropeEuropeEuropeEuropeAsiaAsiaAsiaAsiaAsiaAsiaAsiaAsiaAsiaAsiaAsiaAsiaAsiaAsiaAsiaAsiaAsiaAsiaAsiaAsiaAsiaAsiaAsiaAsiaAfricaAfricaAfricaAfricaAfricaAfricaAfricaAfricaAfricaAfricaAfricaAfricaAsiaAsiaAsiaAsiaAsiaAsiaAsiaAsiaAsiaAsiaAsiaAsiaAfricaAfricaAfricaAfricaAfricaAfricaAfricaAfricaAfricaAfricaAfricaAfricaAmericasAmericasAmericasAmericasAmericasAmericasAmericasAmericasAmericasAmericasAmericasAmericasAfricaAfricaAfricaAfricaAfricaAfricaAfricaAfricaAfricaAfricaAfricaAfricaEuropeEuropeEuropeEuropeEuropeEuropeEuropeEuropeEuropeEuropeEuropeEuropeAfricaAfricaAfricaAfricaAfricaAfricaAfricaAfricaAfricaAfricaAfricaAfricaEuropeEuropeEuropeEuropeEuropeEuropeEuropeEuropeEuropeEuropeEuropeEuropeAmericasAmericasAmericasAmericasAmericasAmericasAmericasAmericasAmericasAmericasAmericasAmericasAmericasAmericasAmericasAmericasAmericasAmericasAmericasAmericasAmericasAmericasAmericasAmericasAmericasAmericasAmericasAmericasAmericasAmericasAmericasAmericasAmericasAmericasAmericasAmericasAsiaAsiaAsiaAsiaAsiaAsiaAsiaAsiaAsiaAsiaAsiaAsiaAsiaAsiaAsiaAsiaAsiaAsiaAsiaAsiaAsiaAsiaAsiaAsiaAsiaAsiaAsiaAsiaAsiaAsiaAsiaAsiaAsiaAsiaAsiaAsiaAfricaAfricaAfricaAfricaAfricaAfricaAfricaAfricaAfricaAfricaAfricaAfricaAfricaAfricaAfricaAfricaAfricaAfricaAfricaAfricaAfricaAfricaAfricaAfrica'] to numeric"
     ]
    }
   ],
   "source": [
    "df.mean()"
   ]
  },
  {
   "cell_type": "code",
   "execution_count": 32,
   "id": "6a6af7e7",
   "metadata": {},
   "outputs": [
    {
     "data": {
      "text/plain": [
       "59.474439366197174"
      ]
     },
     "execution_count": 32,
     "metadata": {},
     "output_type": "execute_result"
    }
   ],
   "source": [
    "df[\"lifeExp\"].mean()"
   ]
  },
  {
   "cell_type": "code",
   "execution_count": 11,
   "id": "b192c14b",
   "metadata": {},
   "outputs": [
    {
     "data": {
      "text/plain": [
       "lifeExp    5.947444e+01\n",
       "pop        2.960121e+07\n",
       "dtype: float64"
      ]
     },
     "execution_count": 11,
     "metadata": {},
     "output_type": "execute_result"
    }
   ],
   "source": [
    "df[[\"lifeExp\", \"pop\"]].mean()"
   ]
  },
  {
   "cell_type": "markdown",
   "id": "08500cb8",
   "metadata": {},
   "source": [
    "## 중앙값\n",
    "\n",
    "- median()\n",
    "    - 산술 데이터를 갖는 모든 열의 중앙값을 계산하여 시리즈로 반환\n",
    "    - 특정 열을 선택하여 중앙값을 계산하는 것도 가능"
   ]
  },
  {
   "cell_type": "code",
   "execution_count": 13,
   "id": "000a6f99",
   "metadata": {},
   "outputs": [
    {
     "ename": "TypeError",
     "evalue": "could not convert string to float: 'Afghanistan'",
     "output_type": "error",
     "traceback": [
      "\u001b[1;31m---------------------------------------------------------------------------\u001b[0m",
      "\u001b[1;31mValueError\u001b[0m                                Traceback (most recent call last)",
      "File \u001b[1;32m~\\anaconda3\\Lib\\site-packages\\pandas\\core\\nanops.py:786\u001b[0m, in \u001b[0;36mnanmedian\u001b[1;34m(values, axis, skipna, mask)\u001b[0m\n\u001b[0;32m    785\u001b[0m \u001b[38;5;28;01mtry\u001b[39;00m:\n\u001b[1;32m--> 786\u001b[0m     values \u001b[38;5;241m=\u001b[39m values\u001b[38;5;241m.\u001b[39mastype(\u001b[38;5;124m\"\u001b[39m\u001b[38;5;124mf8\u001b[39m\u001b[38;5;124m\"\u001b[39m)\n\u001b[0;32m    787\u001b[0m \u001b[38;5;28;01mexcept\u001b[39;00m \u001b[38;5;167;01mValueError\u001b[39;00m \u001b[38;5;28;01mas\u001b[39;00m err:\n\u001b[0;32m    788\u001b[0m     \u001b[38;5;66;03m# e.g. \"could not convert string to float: 'a'\"\u001b[39;00m\n",
      "\u001b[1;31mValueError\u001b[0m: could not convert string to float: 'Afghanistan'",
      "\nThe above exception was the direct cause of the following exception:\n",
      "\u001b[1;31mTypeError\u001b[0m                                 Traceback (most recent call last)",
      "Cell \u001b[1;32mIn[13], line 1\u001b[0m\n\u001b[1;32m----> 1\u001b[0m df\u001b[38;5;241m.\u001b[39mmedian()\n",
      "File \u001b[1;32m~\\anaconda3\\Lib\\site-packages\\pandas\\core\\generic.py:11623\u001b[0m, in \u001b[0;36mNDFrame._add_numeric_operations.<locals>.median\u001b[1;34m(self, axis, skipna, numeric_only, **kwargs)\u001b[0m\n\u001b[0;32m  11606\u001b[0m \u001b[38;5;129m@doc\u001b[39m(\n\u001b[0;32m  11607\u001b[0m     _num_doc,\n\u001b[0;32m  11608\u001b[0m     desc\u001b[38;5;241m=\u001b[39m\u001b[38;5;124m\"\u001b[39m\u001b[38;5;124mReturn the median of the values over the requested axis.\u001b[39m\u001b[38;5;124m\"\u001b[39m,\n\u001b[1;32m   (...)\u001b[0m\n\u001b[0;32m  11621\u001b[0m     \u001b[38;5;241m*\u001b[39m\u001b[38;5;241m*\u001b[39mkwargs,\n\u001b[0;32m  11622\u001b[0m ):\n\u001b[1;32m> 11623\u001b[0m     \u001b[38;5;28;01mreturn\u001b[39;00m NDFrame\u001b[38;5;241m.\u001b[39mmedian(\u001b[38;5;28mself\u001b[39m, axis, skipna, numeric_only, \u001b[38;5;241m*\u001b[39m\u001b[38;5;241m*\u001b[39mkwargs)\n",
      "File \u001b[1;32m~\\anaconda3\\Lib\\site-packages\\pandas\\core\\generic.py:11212\u001b[0m, in \u001b[0;36mNDFrame.median\u001b[1;34m(self, axis, skipna, numeric_only, **kwargs)\u001b[0m\n\u001b[0;32m  11205\u001b[0m \u001b[38;5;28;01mdef\u001b[39;00m \u001b[38;5;21mmedian\u001b[39m(\n\u001b[0;32m  11206\u001b[0m     \u001b[38;5;28mself\u001b[39m,\n\u001b[0;32m  11207\u001b[0m     axis: Axis \u001b[38;5;241m|\u001b[39m \u001b[38;5;28;01mNone\u001b[39;00m \u001b[38;5;241m=\u001b[39m \u001b[38;5;241m0\u001b[39m,\n\u001b[1;32m   (...)\u001b[0m\n\u001b[0;32m  11210\u001b[0m     \u001b[38;5;241m*\u001b[39m\u001b[38;5;241m*\u001b[39mkwargs,\n\u001b[0;32m  11211\u001b[0m ) \u001b[38;5;241m-\u001b[39m\u001b[38;5;241m>\u001b[39m Series \u001b[38;5;241m|\u001b[39m \u001b[38;5;28mfloat\u001b[39m:\n\u001b[1;32m> 11212\u001b[0m     \u001b[38;5;28;01mreturn\u001b[39;00m \u001b[38;5;28mself\u001b[39m\u001b[38;5;241m.\u001b[39m_stat_function(\n\u001b[0;32m  11213\u001b[0m         \u001b[38;5;124m\"\u001b[39m\u001b[38;5;124mmedian\u001b[39m\u001b[38;5;124m\"\u001b[39m, nanops\u001b[38;5;241m.\u001b[39mnanmedian, axis, skipna, numeric_only, \u001b[38;5;241m*\u001b[39m\u001b[38;5;241m*\u001b[39mkwargs\n\u001b[0;32m  11214\u001b[0m     )\n",
      "File \u001b[1;32m~\\anaconda3\\Lib\\site-packages\\pandas\\core\\generic.py:11158\u001b[0m, in \u001b[0;36mNDFrame._stat_function\u001b[1;34m(self, name, func, axis, skipna, numeric_only, **kwargs)\u001b[0m\n\u001b[0;32m  11154\u001b[0m     nv\u001b[38;5;241m.\u001b[39mvalidate_stat_func((), kwargs, fname\u001b[38;5;241m=\u001b[39mname)\n\u001b[0;32m  11156\u001b[0m validate_bool_kwarg(skipna, \u001b[38;5;124m\"\u001b[39m\u001b[38;5;124mskipna\u001b[39m\u001b[38;5;124m\"\u001b[39m, none_allowed\u001b[38;5;241m=\u001b[39m\u001b[38;5;28;01mFalse\u001b[39;00m)\n\u001b[1;32m> 11158\u001b[0m \u001b[38;5;28;01mreturn\u001b[39;00m \u001b[38;5;28mself\u001b[39m\u001b[38;5;241m.\u001b[39m_reduce(\n\u001b[0;32m  11159\u001b[0m     func, name\u001b[38;5;241m=\u001b[39mname, axis\u001b[38;5;241m=\u001b[39maxis, skipna\u001b[38;5;241m=\u001b[39mskipna, numeric_only\u001b[38;5;241m=\u001b[39mnumeric_only\n\u001b[0;32m  11160\u001b[0m )\n",
      "File \u001b[1;32m~\\anaconda3\\Lib\\site-packages\\pandas\\core\\frame.py:10519\u001b[0m, in \u001b[0;36mDataFrame._reduce\u001b[1;34m(self, op, name, axis, skipna, numeric_only, filter_type, **kwds)\u001b[0m\n\u001b[0;32m  10515\u001b[0m     df \u001b[38;5;241m=\u001b[39m df\u001b[38;5;241m.\u001b[39mT\n\u001b[0;32m  10517\u001b[0m \u001b[38;5;66;03m# After possibly _get_data and transposing, we are now in the\u001b[39;00m\n\u001b[0;32m  10518\u001b[0m \u001b[38;5;66;03m#  simple case where we can use BlockManager.reduce\u001b[39;00m\n\u001b[1;32m> 10519\u001b[0m res \u001b[38;5;241m=\u001b[39m df\u001b[38;5;241m.\u001b[39m_mgr\u001b[38;5;241m.\u001b[39mreduce(blk_func)\n\u001b[0;32m  10520\u001b[0m out \u001b[38;5;241m=\u001b[39m df\u001b[38;5;241m.\u001b[39m_constructor(res)\u001b[38;5;241m.\u001b[39miloc[\u001b[38;5;241m0\u001b[39m]\n\u001b[0;32m  10521\u001b[0m \u001b[38;5;28;01mif\u001b[39;00m out_dtype \u001b[38;5;129;01mis\u001b[39;00m \u001b[38;5;129;01mnot\u001b[39;00m \u001b[38;5;28;01mNone\u001b[39;00m:\n",
      "File \u001b[1;32m~\\anaconda3\\Lib\\site-packages\\pandas\\core\\internals\\managers.py:1534\u001b[0m, in \u001b[0;36mBlockManager.reduce\u001b[1;34m(self, func)\u001b[0m\n\u001b[0;32m   1532\u001b[0m res_blocks: \u001b[38;5;28mlist\u001b[39m[Block] \u001b[38;5;241m=\u001b[39m []\n\u001b[0;32m   1533\u001b[0m \u001b[38;5;28;01mfor\u001b[39;00m blk \u001b[38;5;129;01min\u001b[39;00m \u001b[38;5;28mself\u001b[39m\u001b[38;5;241m.\u001b[39mblocks:\n\u001b[1;32m-> 1534\u001b[0m     nbs \u001b[38;5;241m=\u001b[39m blk\u001b[38;5;241m.\u001b[39mreduce(func)\n\u001b[0;32m   1535\u001b[0m     res_blocks\u001b[38;5;241m.\u001b[39mextend(nbs)\n\u001b[0;32m   1537\u001b[0m index \u001b[38;5;241m=\u001b[39m Index([\u001b[38;5;28;01mNone\u001b[39;00m])  \u001b[38;5;66;03m# placeholder\u001b[39;00m\n",
      "File \u001b[1;32m~\\anaconda3\\Lib\\site-packages\\pandas\\core\\internals\\blocks.py:339\u001b[0m, in \u001b[0;36mBlock.reduce\u001b[1;34m(self, func)\u001b[0m\n\u001b[0;32m    333\u001b[0m \u001b[38;5;129m@final\u001b[39m\n\u001b[0;32m    334\u001b[0m \u001b[38;5;28;01mdef\u001b[39;00m \u001b[38;5;21mreduce\u001b[39m(\u001b[38;5;28mself\u001b[39m, func) \u001b[38;5;241m-\u001b[39m\u001b[38;5;241m>\u001b[39m \u001b[38;5;28mlist\u001b[39m[Block]:\n\u001b[0;32m    335\u001b[0m     \u001b[38;5;66;03m# We will apply the function and reshape the result into a single-row\u001b[39;00m\n\u001b[0;32m    336\u001b[0m     \u001b[38;5;66;03m#  Block with the same mgr_locs; squeezing will be done at a higher level\u001b[39;00m\n\u001b[0;32m    337\u001b[0m     \u001b[38;5;28;01massert\u001b[39;00m \u001b[38;5;28mself\u001b[39m\u001b[38;5;241m.\u001b[39mndim \u001b[38;5;241m==\u001b[39m \u001b[38;5;241m2\u001b[39m\n\u001b[1;32m--> 339\u001b[0m     result \u001b[38;5;241m=\u001b[39m func(\u001b[38;5;28mself\u001b[39m\u001b[38;5;241m.\u001b[39mvalues)\n\u001b[0;32m    341\u001b[0m     \u001b[38;5;28;01mif\u001b[39;00m \u001b[38;5;28mself\u001b[39m\u001b[38;5;241m.\u001b[39mvalues\u001b[38;5;241m.\u001b[39mndim \u001b[38;5;241m==\u001b[39m \u001b[38;5;241m1\u001b[39m:\n\u001b[0;32m    342\u001b[0m         \u001b[38;5;66;03m# TODO(EA2D): special case not needed with 2D EAs\u001b[39;00m\n\u001b[0;32m    343\u001b[0m         res_values \u001b[38;5;241m=\u001b[39m np\u001b[38;5;241m.\u001b[39marray([[result]])\n",
      "File \u001b[1;32m~\\anaconda3\\Lib\\site-packages\\pandas\\core\\frame.py:10482\u001b[0m, in \u001b[0;36mDataFrame._reduce.<locals>.blk_func\u001b[1;34m(values, axis)\u001b[0m\n\u001b[0;32m  10480\u001b[0m     \u001b[38;5;28;01mreturn\u001b[39;00m values\u001b[38;5;241m.\u001b[39m_reduce(name, skipna\u001b[38;5;241m=\u001b[39mskipna, \u001b[38;5;241m*\u001b[39m\u001b[38;5;241m*\u001b[39mkwds)\n\u001b[0;32m  10481\u001b[0m \u001b[38;5;28;01melse\u001b[39;00m:\n\u001b[1;32m> 10482\u001b[0m     \u001b[38;5;28;01mreturn\u001b[39;00m op(values, axis\u001b[38;5;241m=\u001b[39maxis, skipna\u001b[38;5;241m=\u001b[39mskipna, \u001b[38;5;241m*\u001b[39m\u001b[38;5;241m*\u001b[39mkwds)\n",
      "File \u001b[1;32m~\\anaconda3\\Lib\\site-packages\\pandas\\core\\nanops.py:158\u001b[0m, in \u001b[0;36mbottleneck_switch.__call__.<locals>.f\u001b[1;34m(values, axis, skipna, **kwds)\u001b[0m\n\u001b[0;32m    156\u001b[0m         result \u001b[38;5;241m=\u001b[39m alt(values, axis\u001b[38;5;241m=\u001b[39maxis, skipna\u001b[38;5;241m=\u001b[39mskipna, \u001b[38;5;241m*\u001b[39m\u001b[38;5;241m*\u001b[39mkwds)\n\u001b[0;32m    157\u001b[0m \u001b[38;5;28;01melse\u001b[39;00m:\n\u001b[1;32m--> 158\u001b[0m     result \u001b[38;5;241m=\u001b[39m alt(values, axis\u001b[38;5;241m=\u001b[39maxis, skipna\u001b[38;5;241m=\u001b[39mskipna, \u001b[38;5;241m*\u001b[39m\u001b[38;5;241m*\u001b[39mkwds)\n\u001b[0;32m    160\u001b[0m \u001b[38;5;28;01mreturn\u001b[39;00m result\n",
      "File \u001b[1;32m~\\anaconda3\\Lib\\site-packages\\pandas\\core\\nanops.py:789\u001b[0m, in \u001b[0;36mnanmedian\u001b[1;34m(values, axis, skipna, mask)\u001b[0m\n\u001b[0;32m    786\u001b[0m         values \u001b[38;5;241m=\u001b[39m values\u001b[38;5;241m.\u001b[39mastype(\u001b[38;5;124m\"\u001b[39m\u001b[38;5;124mf8\u001b[39m\u001b[38;5;124m\"\u001b[39m)\n\u001b[0;32m    787\u001b[0m     \u001b[38;5;28;01mexcept\u001b[39;00m \u001b[38;5;167;01mValueError\u001b[39;00m \u001b[38;5;28;01mas\u001b[39;00m err:\n\u001b[0;32m    788\u001b[0m         \u001b[38;5;66;03m# e.g. \"could not convert string to float: 'a'\"\u001b[39;00m\n\u001b[1;32m--> 789\u001b[0m         \u001b[38;5;28;01mraise\u001b[39;00m \u001b[38;5;167;01mTypeError\u001b[39;00m(\u001b[38;5;28mstr\u001b[39m(err)) \u001b[38;5;28;01mfrom\u001b[39;00m \u001b[38;5;21;01merr\u001b[39;00m\n\u001b[0;32m    790\u001b[0m \u001b[38;5;28;01mif\u001b[39;00m mask \u001b[38;5;129;01mis\u001b[39;00m \u001b[38;5;129;01mnot\u001b[39;00m \u001b[38;5;28;01mNone\u001b[39;00m:\n\u001b[0;32m    791\u001b[0m     values[mask] \u001b[38;5;241m=\u001b[39m np\u001b[38;5;241m.\u001b[39mnan\n",
      "\u001b[1;31mTypeError\u001b[0m: could not convert string to float: 'Afghanistan'"
     ]
    }
   ],
   "source": [
    "df.median()"
   ]
  },
  {
   "cell_type": "code",
   "execution_count": 14,
   "id": "fe1f0676",
   "metadata": {},
   "outputs": [
    {
     "data": {
      "text/html": [
       "<div>\n",
       "<style scoped>\n",
       "    .dataframe tbody tr th:only-of-type {\n",
       "        vertical-align: middle;\n",
       "    }\n",
       "\n",
       "    .dataframe tbody tr th {\n",
       "        vertical-align: top;\n",
       "    }\n",
       "\n",
       "    .dataframe thead th {\n",
       "        text-align: right;\n",
       "    }\n",
       "</style>\n",
       "<table border=\"1\" class=\"dataframe\">\n",
       "  <thead>\n",
       "    <tr style=\"text-align: right;\">\n",
       "      <th></th>\n",
       "      <th>country</th>\n",
       "      <th>continent</th>\n",
       "      <th>year</th>\n",
       "      <th>lifeExp</th>\n",
       "      <th>pop</th>\n",
       "      <th>gdpPercap</th>\n",
       "    </tr>\n",
       "  </thead>\n",
       "  <tbody>\n",
       "    <tr>\n",
       "      <th>0</th>\n",
       "      <td>Afghanistan</td>\n",
       "      <td>Asia</td>\n",
       "      <td>1952</td>\n",
       "      <td>28.801</td>\n",
       "      <td>8425333</td>\n",
       "      <td>779.445314</td>\n",
       "    </tr>\n",
       "    <tr>\n",
       "      <th>1</th>\n",
       "      <td>Afghanistan</td>\n",
       "      <td>Asia</td>\n",
       "      <td>1957</td>\n",
       "      <td>30.332</td>\n",
       "      <td>9240934</td>\n",
       "      <td>820.853030</td>\n",
       "    </tr>\n",
       "    <tr>\n",
       "      <th>2</th>\n",
       "      <td>Afghanistan</td>\n",
       "      <td>Asia</td>\n",
       "      <td>1962</td>\n",
       "      <td>31.997</td>\n",
       "      <td>10267083</td>\n",
       "      <td>853.100710</td>\n",
       "    </tr>\n",
       "    <tr>\n",
       "      <th>3</th>\n",
       "      <td>Afghanistan</td>\n",
       "      <td>Asia</td>\n",
       "      <td>1967</td>\n",
       "      <td>34.020</td>\n",
       "      <td>11537966</td>\n",
       "      <td>836.197138</td>\n",
       "    </tr>\n",
       "    <tr>\n",
       "      <th>4</th>\n",
       "      <td>Afghanistan</td>\n",
       "      <td>Asia</td>\n",
       "      <td>1972</td>\n",
       "      <td>36.088</td>\n",
       "      <td>13079460</td>\n",
       "      <td>739.981106</td>\n",
       "    </tr>\n",
       "    <tr>\n",
       "      <th>...</th>\n",
       "      <td>...</td>\n",
       "      <td>...</td>\n",
       "      <td>...</td>\n",
       "      <td>...</td>\n",
       "      <td>...</td>\n",
       "      <td>...</td>\n",
       "    </tr>\n",
       "    <tr>\n",
       "      <th>1699</th>\n",
       "      <td>Zimbabwe</td>\n",
       "      <td>Africa</td>\n",
       "      <td>1987</td>\n",
       "      <td>62.351</td>\n",
       "      <td>9216418</td>\n",
       "      <td>706.157306</td>\n",
       "    </tr>\n",
       "    <tr>\n",
       "      <th>1700</th>\n",
       "      <td>Zimbabwe</td>\n",
       "      <td>Africa</td>\n",
       "      <td>1992</td>\n",
       "      <td>60.377</td>\n",
       "      <td>10704340</td>\n",
       "      <td>693.420786</td>\n",
       "    </tr>\n",
       "    <tr>\n",
       "      <th>1701</th>\n",
       "      <td>Zimbabwe</td>\n",
       "      <td>Africa</td>\n",
       "      <td>1997</td>\n",
       "      <td>46.809</td>\n",
       "      <td>11404948</td>\n",
       "      <td>792.449960</td>\n",
       "    </tr>\n",
       "    <tr>\n",
       "      <th>1702</th>\n",
       "      <td>Zimbabwe</td>\n",
       "      <td>Africa</td>\n",
       "      <td>2002</td>\n",
       "      <td>39.989</td>\n",
       "      <td>11926563</td>\n",
       "      <td>672.038623</td>\n",
       "    </tr>\n",
       "    <tr>\n",
       "      <th>1703</th>\n",
       "      <td>Zimbabwe</td>\n",
       "      <td>Africa</td>\n",
       "      <td>2007</td>\n",
       "      <td>43.487</td>\n",
       "      <td>12311143</td>\n",
       "      <td>469.709298</td>\n",
       "    </tr>\n",
       "  </tbody>\n",
       "</table>\n",
       "<p>1704 rows × 6 columns</p>\n",
       "</div>"
      ],
      "text/plain": [
       "          country continent  year  lifeExp       pop   gdpPercap\n",
       "0     Afghanistan      Asia  1952   28.801   8425333  779.445314\n",
       "1     Afghanistan      Asia  1957   30.332   9240934  820.853030\n",
       "2     Afghanistan      Asia  1962   31.997  10267083  853.100710\n",
       "3     Afghanistan      Asia  1967   34.020  11537966  836.197138\n",
       "4     Afghanistan      Asia  1972   36.088  13079460  739.981106\n",
       "...           ...       ...   ...      ...       ...         ...\n",
       "1699     Zimbabwe    Africa  1987   62.351   9216418  706.157306\n",
       "1700     Zimbabwe    Africa  1992   60.377  10704340  693.420786\n",
       "1701     Zimbabwe    Africa  1997   46.809  11404948  792.449960\n",
       "1702     Zimbabwe    Africa  2002   39.989  11926563  672.038623\n",
       "1703     Zimbabwe    Africa  2007   43.487  12311143  469.709298\n",
       "\n",
       "[1704 rows x 6 columns]"
      ]
     },
     "execution_count": 14,
     "metadata": {},
     "output_type": "execute_result"
    }
   ],
   "source": [
    "df"
   ]
  },
  {
   "cell_type": "code",
   "execution_count": 15,
   "id": "5a20add9",
   "metadata": {},
   "outputs": [
    {
     "ename": "TypeError",
     "evalue": "could not convert string to float: 'Afghanistan'",
     "output_type": "error",
     "traceback": [
      "\u001b[1;31m---------------------------------------------------------------------------\u001b[0m",
      "\u001b[1;31mValueError\u001b[0m                                Traceback (most recent call last)",
      "File \u001b[1;32m~\\anaconda3\\Lib\\site-packages\\pandas\\core\\nanops.py:786\u001b[0m, in \u001b[0;36mnanmedian\u001b[1;34m(values, axis, skipna, mask)\u001b[0m\n\u001b[0;32m    785\u001b[0m \u001b[38;5;28;01mtry\u001b[39;00m:\n\u001b[1;32m--> 786\u001b[0m     values \u001b[38;5;241m=\u001b[39m values\u001b[38;5;241m.\u001b[39mastype(\u001b[38;5;124m\"\u001b[39m\u001b[38;5;124mf8\u001b[39m\u001b[38;5;124m\"\u001b[39m)\n\u001b[0;32m    787\u001b[0m \u001b[38;5;28;01mexcept\u001b[39;00m \u001b[38;5;167;01mValueError\u001b[39;00m \u001b[38;5;28;01mas\u001b[39;00m err:\n\u001b[0;32m    788\u001b[0m     \u001b[38;5;66;03m# e.g. \"could not convert string to float: 'a'\"\u001b[39;00m\n",
      "\u001b[1;31mValueError\u001b[0m: could not convert string to float: 'Afghanistan'",
      "\nThe above exception was the direct cause of the following exception:\n",
      "\u001b[1;31mTypeError\u001b[0m                                 Traceback (most recent call last)",
      "Cell \u001b[1;32mIn[15], line 1\u001b[0m\n\u001b[1;32m----> 1\u001b[0m df\u001b[38;5;241m.\u001b[39mmedian()\n",
      "File \u001b[1;32m~\\anaconda3\\Lib\\site-packages\\pandas\\core\\generic.py:11623\u001b[0m, in \u001b[0;36mNDFrame._add_numeric_operations.<locals>.median\u001b[1;34m(self, axis, skipna, numeric_only, **kwargs)\u001b[0m\n\u001b[0;32m  11606\u001b[0m \u001b[38;5;129m@doc\u001b[39m(\n\u001b[0;32m  11607\u001b[0m     _num_doc,\n\u001b[0;32m  11608\u001b[0m     desc\u001b[38;5;241m=\u001b[39m\u001b[38;5;124m\"\u001b[39m\u001b[38;5;124mReturn the median of the values over the requested axis.\u001b[39m\u001b[38;5;124m\"\u001b[39m,\n\u001b[1;32m   (...)\u001b[0m\n\u001b[0;32m  11621\u001b[0m     \u001b[38;5;241m*\u001b[39m\u001b[38;5;241m*\u001b[39mkwargs,\n\u001b[0;32m  11622\u001b[0m ):\n\u001b[1;32m> 11623\u001b[0m     \u001b[38;5;28;01mreturn\u001b[39;00m NDFrame\u001b[38;5;241m.\u001b[39mmedian(\u001b[38;5;28mself\u001b[39m, axis, skipna, numeric_only, \u001b[38;5;241m*\u001b[39m\u001b[38;5;241m*\u001b[39mkwargs)\n",
      "File \u001b[1;32m~\\anaconda3\\Lib\\site-packages\\pandas\\core\\generic.py:11212\u001b[0m, in \u001b[0;36mNDFrame.median\u001b[1;34m(self, axis, skipna, numeric_only, **kwargs)\u001b[0m\n\u001b[0;32m  11205\u001b[0m \u001b[38;5;28;01mdef\u001b[39;00m \u001b[38;5;21mmedian\u001b[39m(\n\u001b[0;32m  11206\u001b[0m     \u001b[38;5;28mself\u001b[39m,\n\u001b[0;32m  11207\u001b[0m     axis: Axis \u001b[38;5;241m|\u001b[39m \u001b[38;5;28;01mNone\u001b[39;00m \u001b[38;5;241m=\u001b[39m \u001b[38;5;241m0\u001b[39m,\n\u001b[1;32m   (...)\u001b[0m\n\u001b[0;32m  11210\u001b[0m     \u001b[38;5;241m*\u001b[39m\u001b[38;5;241m*\u001b[39mkwargs,\n\u001b[0;32m  11211\u001b[0m ) \u001b[38;5;241m-\u001b[39m\u001b[38;5;241m>\u001b[39m Series \u001b[38;5;241m|\u001b[39m \u001b[38;5;28mfloat\u001b[39m:\n\u001b[1;32m> 11212\u001b[0m     \u001b[38;5;28;01mreturn\u001b[39;00m \u001b[38;5;28mself\u001b[39m\u001b[38;5;241m.\u001b[39m_stat_function(\n\u001b[0;32m  11213\u001b[0m         \u001b[38;5;124m\"\u001b[39m\u001b[38;5;124mmedian\u001b[39m\u001b[38;5;124m\"\u001b[39m, nanops\u001b[38;5;241m.\u001b[39mnanmedian, axis, skipna, numeric_only, \u001b[38;5;241m*\u001b[39m\u001b[38;5;241m*\u001b[39mkwargs\n\u001b[0;32m  11214\u001b[0m     )\n",
      "File \u001b[1;32m~\\anaconda3\\Lib\\site-packages\\pandas\\core\\generic.py:11158\u001b[0m, in \u001b[0;36mNDFrame._stat_function\u001b[1;34m(self, name, func, axis, skipna, numeric_only, **kwargs)\u001b[0m\n\u001b[0;32m  11154\u001b[0m     nv\u001b[38;5;241m.\u001b[39mvalidate_stat_func((), kwargs, fname\u001b[38;5;241m=\u001b[39mname)\n\u001b[0;32m  11156\u001b[0m validate_bool_kwarg(skipna, \u001b[38;5;124m\"\u001b[39m\u001b[38;5;124mskipna\u001b[39m\u001b[38;5;124m\"\u001b[39m, none_allowed\u001b[38;5;241m=\u001b[39m\u001b[38;5;28;01mFalse\u001b[39;00m)\n\u001b[1;32m> 11158\u001b[0m \u001b[38;5;28;01mreturn\u001b[39;00m \u001b[38;5;28mself\u001b[39m\u001b[38;5;241m.\u001b[39m_reduce(\n\u001b[0;32m  11159\u001b[0m     func, name\u001b[38;5;241m=\u001b[39mname, axis\u001b[38;5;241m=\u001b[39maxis, skipna\u001b[38;5;241m=\u001b[39mskipna, numeric_only\u001b[38;5;241m=\u001b[39mnumeric_only\n\u001b[0;32m  11160\u001b[0m )\n",
      "File \u001b[1;32m~\\anaconda3\\Lib\\site-packages\\pandas\\core\\frame.py:10519\u001b[0m, in \u001b[0;36mDataFrame._reduce\u001b[1;34m(self, op, name, axis, skipna, numeric_only, filter_type, **kwds)\u001b[0m\n\u001b[0;32m  10515\u001b[0m     df \u001b[38;5;241m=\u001b[39m df\u001b[38;5;241m.\u001b[39mT\n\u001b[0;32m  10517\u001b[0m \u001b[38;5;66;03m# After possibly _get_data and transposing, we are now in the\u001b[39;00m\n\u001b[0;32m  10518\u001b[0m \u001b[38;5;66;03m#  simple case where we can use BlockManager.reduce\u001b[39;00m\n\u001b[1;32m> 10519\u001b[0m res \u001b[38;5;241m=\u001b[39m df\u001b[38;5;241m.\u001b[39m_mgr\u001b[38;5;241m.\u001b[39mreduce(blk_func)\n\u001b[0;32m  10520\u001b[0m out \u001b[38;5;241m=\u001b[39m df\u001b[38;5;241m.\u001b[39m_constructor(res)\u001b[38;5;241m.\u001b[39miloc[\u001b[38;5;241m0\u001b[39m]\n\u001b[0;32m  10521\u001b[0m \u001b[38;5;28;01mif\u001b[39;00m out_dtype \u001b[38;5;129;01mis\u001b[39;00m \u001b[38;5;129;01mnot\u001b[39;00m \u001b[38;5;28;01mNone\u001b[39;00m:\n",
      "File \u001b[1;32m~\\anaconda3\\Lib\\site-packages\\pandas\\core\\internals\\managers.py:1534\u001b[0m, in \u001b[0;36mBlockManager.reduce\u001b[1;34m(self, func)\u001b[0m\n\u001b[0;32m   1532\u001b[0m res_blocks: \u001b[38;5;28mlist\u001b[39m[Block] \u001b[38;5;241m=\u001b[39m []\n\u001b[0;32m   1533\u001b[0m \u001b[38;5;28;01mfor\u001b[39;00m blk \u001b[38;5;129;01min\u001b[39;00m \u001b[38;5;28mself\u001b[39m\u001b[38;5;241m.\u001b[39mblocks:\n\u001b[1;32m-> 1534\u001b[0m     nbs \u001b[38;5;241m=\u001b[39m blk\u001b[38;5;241m.\u001b[39mreduce(func)\n\u001b[0;32m   1535\u001b[0m     res_blocks\u001b[38;5;241m.\u001b[39mextend(nbs)\n\u001b[0;32m   1537\u001b[0m index \u001b[38;5;241m=\u001b[39m Index([\u001b[38;5;28;01mNone\u001b[39;00m])  \u001b[38;5;66;03m# placeholder\u001b[39;00m\n",
      "File \u001b[1;32m~\\anaconda3\\Lib\\site-packages\\pandas\\core\\internals\\blocks.py:339\u001b[0m, in \u001b[0;36mBlock.reduce\u001b[1;34m(self, func)\u001b[0m\n\u001b[0;32m    333\u001b[0m \u001b[38;5;129m@final\u001b[39m\n\u001b[0;32m    334\u001b[0m \u001b[38;5;28;01mdef\u001b[39;00m \u001b[38;5;21mreduce\u001b[39m(\u001b[38;5;28mself\u001b[39m, func) \u001b[38;5;241m-\u001b[39m\u001b[38;5;241m>\u001b[39m \u001b[38;5;28mlist\u001b[39m[Block]:\n\u001b[0;32m    335\u001b[0m     \u001b[38;5;66;03m# We will apply the function and reshape the result into a single-row\u001b[39;00m\n\u001b[0;32m    336\u001b[0m     \u001b[38;5;66;03m#  Block with the same mgr_locs; squeezing will be done at a higher level\u001b[39;00m\n\u001b[0;32m    337\u001b[0m     \u001b[38;5;28;01massert\u001b[39;00m \u001b[38;5;28mself\u001b[39m\u001b[38;5;241m.\u001b[39mndim \u001b[38;5;241m==\u001b[39m \u001b[38;5;241m2\u001b[39m\n\u001b[1;32m--> 339\u001b[0m     result \u001b[38;5;241m=\u001b[39m func(\u001b[38;5;28mself\u001b[39m\u001b[38;5;241m.\u001b[39mvalues)\n\u001b[0;32m    341\u001b[0m     \u001b[38;5;28;01mif\u001b[39;00m \u001b[38;5;28mself\u001b[39m\u001b[38;5;241m.\u001b[39mvalues\u001b[38;5;241m.\u001b[39mndim \u001b[38;5;241m==\u001b[39m \u001b[38;5;241m1\u001b[39m:\n\u001b[0;32m    342\u001b[0m         \u001b[38;5;66;03m# TODO(EA2D): special case not needed with 2D EAs\u001b[39;00m\n\u001b[0;32m    343\u001b[0m         res_values \u001b[38;5;241m=\u001b[39m np\u001b[38;5;241m.\u001b[39marray([[result]])\n",
      "File \u001b[1;32m~\\anaconda3\\Lib\\site-packages\\pandas\\core\\frame.py:10482\u001b[0m, in \u001b[0;36mDataFrame._reduce.<locals>.blk_func\u001b[1;34m(values, axis)\u001b[0m\n\u001b[0;32m  10480\u001b[0m     \u001b[38;5;28;01mreturn\u001b[39;00m values\u001b[38;5;241m.\u001b[39m_reduce(name, skipna\u001b[38;5;241m=\u001b[39mskipna, \u001b[38;5;241m*\u001b[39m\u001b[38;5;241m*\u001b[39mkwds)\n\u001b[0;32m  10481\u001b[0m \u001b[38;5;28;01melse\u001b[39;00m:\n\u001b[1;32m> 10482\u001b[0m     \u001b[38;5;28;01mreturn\u001b[39;00m op(values, axis\u001b[38;5;241m=\u001b[39maxis, skipna\u001b[38;5;241m=\u001b[39mskipna, \u001b[38;5;241m*\u001b[39m\u001b[38;5;241m*\u001b[39mkwds)\n",
      "File \u001b[1;32m~\\anaconda3\\Lib\\site-packages\\pandas\\core\\nanops.py:158\u001b[0m, in \u001b[0;36mbottleneck_switch.__call__.<locals>.f\u001b[1;34m(values, axis, skipna, **kwds)\u001b[0m\n\u001b[0;32m    156\u001b[0m         result \u001b[38;5;241m=\u001b[39m alt(values, axis\u001b[38;5;241m=\u001b[39maxis, skipna\u001b[38;5;241m=\u001b[39mskipna, \u001b[38;5;241m*\u001b[39m\u001b[38;5;241m*\u001b[39mkwds)\n\u001b[0;32m    157\u001b[0m \u001b[38;5;28;01melse\u001b[39;00m:\n\u001b[1;32m--> 158\u001b[0m     result \u001b[38;5;241m=\u001b[39m alt(values, axis\u001b[38;5;241m=\u001b[39maxis, skipna\u001b[38;5;241m=\u001b[39mskipna, \u001b[38;5;241m*\u001b[39m\u001b[38;5;241m*\u001b[39mkwds)\n\u001b[0;32m    160\u001b[0m \u001b[38;5;28;01mreturn\u001b[39;00m result\n",
      "File \u001b[1;32m~\\anaconda3\\Lib\\site-packages\\pandas\\core\\nanops.py:789\u001b[0m, in \u001b[0;36mnanmedian\u001b[1;34m(values, axis, skipna, mask)\u001b[0m\n\u001b[0;32m    786\u001b[0m         values \u001b[38;5;241m=\u001b[39m values\u001b[38;5;241m.\u001b[39mastype(\u001b[38;5;124m\"\u001b[39m\u001b[38;5;124mf8\u001b[39m\u001b[38;5;124m\"\u001b[39m)\n\u001b[0;32m    787\u001b[0m     \u001b[38;5;28;01mexcept\u001b[39;00m \u001b[38;5;167;01mValueError\u001b[39;00m \u001b[38;5;28;01mas\u001b[39;00m err:\n\u001b[0;32m    788\u001b[0m         \u001b[38;5;66;03m# e.g. \"could not convert string to float: 'a'\"\u001b[39;00m\n\u001b[1;32m--> 789\u001b[0m         \u001b[38;5;28;01mraise\u001b[39;00m \u001b[38;5;167;01mTypeError\u001b[39;00m(\u001b[38;5;28mstr\u001b[39m(err)) \u001b[38;5;28;01mfrom\u001b[39;00m \u001b[38;5;21;01merr\u001b[39;00m\n\u001b[0;32m    790\u001b[0m \u001b[38;5;28;01mif\u001b[39;00m mask \u001b[38;5;129;01mis\u001b[39;00m \u001b[38;5;129;01mnot\u001b[39;00m \u001b[38;5;28;01mNone\u001b[39;00m:\n\u001b[0;32m    791\u001b[0m     values[mask] \u001b[38;5;241m=\u001b[39m np\u001b[38;5;241m.\u001b[39mnan\n",
      "\u001b[1;31mTypeError\u001b[0m: could not convert string to float: 'Afghanistan'"
     ]
    }
   ],
   "source": [
    "df.median()"
   ]
  },
  {
   "cell_type": "code",
   "execution_count": 16,
   "id": "06cacb59",
   "metadata": {},
   "outputs": [
    {
     "data": {
      "text/plain": [
       "60.7125"
      ]
     },
     "execution_count": 16,
     "metadata": {},
     "output_type": "execute_result"
    }
   ],
   "source": [
    "df[\"lifeExp\"].median()"
   ]
  },
  {
   "cell_type": "markdown",
   "id": "ed8f8765",
   "metadata": {},
   "source": [
    "## 최댓값\n",
    "\n",
    "- max()\n",
    "    - 데이터프레임의 각 열이 갖는 데이터 값 중에서 최댓값을 계산하여 시리즈로 반환\n",
    "    - 데이터프레임의 특정 열을 선택하여 계산할 수도 있음\n",
    "    - 문자열 데이터를 가진 열에 대해서는 문자열을 ASCII 숫자로 변환하여 크고 작음을 비교"
   ]
  },
  {
   "cell_type": "code",
   "execution_count": 17,
   "id": "e2dadb09",
   "metadata": {},
   "outputs": [
    {
     "data": {
      "text/plain": [
       "country         Zimbabwe\n",
       "continent        Oceania\n",
       "year                2007\n",
       "lifeExp           82.603\n",
       "pop           1318683096\n",
       "gdpPercap    113523.1329\n",
       "dtype: object"
      ]
     },
     "execution_count": 17,
     "metadata": {},
     "output_type": "execute_result"
    }
   ],
   "source": [
    "df.max()"
   ]
  },
  {
   "cell_type": "code",
   "execution_count": 18,
   "id": "b2c679e1",
   "metadata": {},
   "outputs": [
    {
     "data": {
      "text/plain": [
       "country      Afghanistan\n",
       "continent         Africa\n",
       "year                1952\n",
       "lifeExp           23.599\n",
       "pop                60011\n",
       "gdpPercap     241.165876\n",
       "dtype: object"
      ]
     },
     "execution_count": 18,
     "metadata": {},
     "output_type": "execute_result"
    }
   ],
   "source": [
    "df.min()"
   ]
  },
  {
   "cell_type": "code",
   "execution_count": 19,
   "id": "e23ec773",
   "metadata": {},
   "outputs": [
    {
     "data": {
      "text/plain": [
       "82.603"
      ]
     },
     "execution_count": 19,
     "metadata": {},
     "output_type": "execute_result"
    }
   ],
   "source": [
    "df[\"lifeExp\"].max()"
   ]
  },
  {
   "cell_type": "markdown",
   "id": "40f9fde2",
   "metadata": {},
   "source": [
    "# 최솟값\n",
    "\n",
    "- min()"
   ]
  },
  {
   "cell_type": "code",
   "execution_count": 20,
   "id": "cb24de9e",
   "metadata": {},
   "outputs": [
    {
     "data": {
      "text/plain": [
       "country      Afghanistan\n",
       "continent         Africa\n",
       "year                1952\n",
       "lifeExp           23.599\n",
       "pop                60011\n",
       "gdpPercap     241.165876\n",
       "dtype: object"
      ]
     },
     "execution_count": 20,
     "metadata": {},
     "output_type": "execute_result"
    }
   ],
   "source": [
    "df.min()"
   ]
  },
  {
   "cell_type": "code",
   "execution_count": 21,
   "id": "1dda2817",
   "metadata": {},
   "outputs": [
    {
     "data": {
      "text/plain": [
       "23.599"
      ]
     },
     "execution_count": 21,
     "metadata": {},
     "output_type": "execute_result"
    }
   ],
   "source": [
    "df[\"lifeExp\"].min()"
   ]
  },
  {
   "cell_type": "markdown",
   "id": "45df7f3a",
   "metadata": {},
   "source": [
    "## 표준편차\n",
    "\n",
    "- std()"
   ]
  },
  {
   "cell_type": "code",
   "execution_count": 23,
   "id": "f91034ec",
   "metadata": {},
   "outputs": [
    {
     "ename": "TypeError",
     "evalue": "could not convert string to float: 'Afghanistan'",
     "output_type": "error",
     "traceback": [
      "\u001b[1;31m---------------------------------------------------------------------------\u001b[0m",
      "\u001b[1;31mValueError\u001b[0m                                Traceback (most recent call last)",
      "File \u001b[1;32m~\\anaconda3\\Lib\\site-packages\\pandas\\core\\nanops.py:96\u001b[0m, in \u001b[0;36mdisallow.__call__.<locals>._f\u001b[1;34m(*args, **kwargs)\u001b[0m\n\u001b[0;32m     95\u001b[0m     \u001b[38;5;28;01mwith\u001b[39;00m np\u001b[38;5;241m.\u001b[39merrstate(invalid\u001b[38;5;241m=\u001b[39m\u001b[38;5;124m\"\u001b[39m\u001b[38;5;124mignore\u001b[39m\u001b[38;5;124m\"\u001b[39m):\n\u001b[1;32m---> 96\u001b[0m         \u001b[38;5;28;01mreturn\u001b[39;00m f(\u001b[38;5;241m*\u001b[39margs, \u001b[38;5;241m*\u001b[39m\u001b[38;5;241m*\u001b[39mkwargs)\n\u001b[0;32m     97\u001b[0m \u001b[38;5;28;01mexcept\u001b[39;00m \u001b[38;5;167;01mValueError\u001b[39;00m \u001b[38;5;28;01mas\u001b[39;00m e:\n\u001b[0;32m     98\u001b[0m     \u001b[38;5;66;03m# we want to transform an object array\u001b[39;00m\n\u001b[0;32m     99\u001b[0m     \u001b[38;5;66;03m# ValueError message to the more typical TypeError\u001b[39;00m\n\u001b[0;32m    100\u001b[0m     \u001b[38;5;66;03m# e.g. this is normally a disallowed function on\u001b[39;00m\n\u001b[0;32m    101\u001b[0m     \u001b[38;5;66;03m# object arrays that contain strings\u001b[39;00m\n",
      "File \u001b[1;32m~\\anaconda3\\Lib\\site-packages\\pandas\\core\\nanops.py:158\u001b[0m, in \u001b[0;36mbottleneck_switch.__call__.<locals>.f\u001b[1;34m(values, axis, skipna, **kwds)\u001b[0m\n\u001b[0;32m    157\u001b[0m \u001b[38;5;28;01melse\u001b[39;00m:\n\u001b[1;32m--> 158\u001b[0m     result \u001b[38;5;241m=\u001b[39m alt(values, axis\u001b[38;5;241m=\u001b[39maxis, skipna\u001b[38;5;241m=\u001b[39mskipna, \u001b[38;5;241m*\u001b[39m\u001b[38;5;241m*\u001b[39mkwds)\n\u001b[0;32m    160\u001b[0m \u001b[38;5;28;01mreturn\u001b[39;00m result\n",
      "File \u001b[1;32m~\\anaconda3\\Lib\\site-packages\\pandas\\core\\nanops.py:1004\u001b[0m, in \u001b[0;36mnanvar\u001b[1;34m(values, axis, skipna, ddof, mask)\u001b[0m\n\u001b[0;32m    998\u001b[0m \u001b[38;5;66;03m# xref GH10242\u001b[39;00m\n\u001b[0;32m    999\u001b[0m \u001b[38;5;66;03m# Compute variance via two-pass algorithm, which is stable against\u001b[39;00m\n\u001b[0;32m   1000\u001b[0m \u001b[38;5;66;03m# cancellation errors and relatively accurate for small numbers of\u001b[39;00m\n\u001b[0;32m   1001\u001b[0m \u001b[38;5;66;03m# observations.\u001b[39;00m\n\u001b[0;32m   1002\u001b[0m \u001b[38;5;66;03m#\u001b[39;00m\n\u001b[0;32m   1003\u001b[0m \u001b[38;5;66;03m# See https://en.wikipedia.org/wiki/Algorithms_for_calculating_variance\u001b[39;00m\n\u001b[1;32m-> 1004\u001b[0m avg \u001b[38;5;241m=\u001b[39m _ensure_numeric(values\u001b[38;5;241m.\u001b[39msum(axis\u001b[38;5;241m=\u001b[39maxis, dtype\u001b[38;5;241m=\u001b[39mnp\u001b[38;5;241m.\u001b[39mfloat64)) \u001b[38;5;241m/\u001b[39m count\n\u001b[0;32m   1005\u001b[0m \u001b[38;5;28;01mif\u001b[39;00m axis \u001b[38;5;129;01mis\u001b[39;00m \u001b[38;5;129;01mnot\u001b[39;00m \u001b[38;5;28;01mNone\u001b[39;00m:\n",
      "File \u001b[1;32m~\\anaconda3\\Lib\\site-packages\\numpy\\core\\_methods.py:49\u001b[0m, in \u001b[0;36m_sum\u001b[1;34m(a, axis, dtype, out, keepdims, initial, where)\u001b[0m\n\u001b[0;32m     47\u001b[0m \u001b[38;5;28;01mdef\u001b[39;00m \u001b[38;5;21m_sum\u001b[39m(a, axis\u001b[38;5;241m=\u001b[39m\u001b[38;5;28;01mNone\u001b[39;00m, dtype\u001b[38;5;241m=\u001b[39m\u001b[38;5;28;01mNone\u001b[39;00m, out\u001b[38;5;241m=\u001b[39m\u001b[38;5;28;01mNone\u001b[39;00m, keepdims\u001b[38;5;241m=\u001b[39m\u001b[38;5;28;01mFalse\u001b[39;00m,\n\u001b[0;32m     48\u001b[0m          initial\u001b[38;5;241m=\u001b[39m_NoValue, where\u001b[38;5;241m=\u001b[39m\u001b[38;5;28;01mTrue\u001b[39;00m):\n\u001b[1;32m---> 49\u001b[0m     \u001b[38;5;28;01mreturn\u001b[39;00m umr_sum(a, axis, dtype, out, keepdims, initial, where)\n",
      "\u001b[1;31mValueError\u001b[0m: could not convert string to float: 'Afghanistan'",
      "\nThe above exception was the direct cause of the following exception:\n",
      "\u001b[1;31mTypeError\u001b[0m                                 Traceback (most recent call last)",
      "Cell \u001b[1;32mIn[23], line 1\u001b[0m\n\u001b[1;32m----> 1\u001b[0m df\u001b[38;5;241m.\u001b[39mstd()\n",
      "File \u001b[1;32m~\\anaconda3\\Lib\\site-packages\\pandas\\core\\generic.py:11424\u001b[0m, in \u001b[0;36mNDFrame._add_numeric_operations.<locals>.std\u001b[1;34m(self, axis, skipna, ddof, numeric_only, **kwargs)\u001b[0m\n\u001b[0;32m  11405\u001b[0m \u001b[38;5;129m@doc\u001b[39m(\n\u001b[0;32m  11406\u001b[0m     _num_ddof_doc,\n\u001b[0;32m  11407\u001b[0m     desc\u001b[38;5;241m=\u001b[39m\u001b[38;5;124m\"\u001b[39m\u001b[38;5;124mReturn sample standard deviation over requested axis.\u001b[39m\u001b[38;5;124m\"\u001b[39m\n\u001b[1;32m   (...)\u001b[0m\n\u001b[0;32m  11422\u001b[0m     \u001b[38;5;241m*\u001b[39m\u001b[38;5;241m*\u001b[39mkwargs,\n\u001b[0;32m  11423\u001b[0m ):\n\u001b[1;32m> 11424\u001b[0m     \u001b[38;5;28;01mreturn\u001b[39;00m NDFrame\u001b[38;5;241m.\u001b[39mstd(\u001b[38;5;28mself\u001b[39m, axis, skipna, ddof, numeric_only, \u001b[38;5;241m*\u001b[39m\u001b[38;5;241m*\u001b[39mkwargs)\n",
      "File \u001b[1;32m~\\anaconda3\\Lib\\site-packages\\pandas\\core\\generic.py:11137\u001b[0m, in \u001b[0;36mNDFrame.std\u001b[1;34m(self, axis, skipna, ddof, numeric_only, **kwargs)\u001b[0m\n\u001b[0;32m  11129\u001b[0m \u001b[38;5;28;01mdef\u001b[39;00m \u001b[38;5;21mstd\u001b[39m(\n\u001b[0;32m  11130\u001b[0m     \u001b[38;5;28mself\u001b[39m,\n\u001b[0;32m  11131\u001b[0m     axis: Axis \u001b[38;5;241m|\u001b[39m \u001b[38;5;28;01mNone\u001b[39;00m \u001b[38;5;241m=\u001b[39m \u001b[38;5;28;01mNone\u001b[39;00m,\n\u001b[1;32m   (...)\u001b[0m\n\u001b[0;32m  11135\u001b[0m     \u001b[38;5;241m*\u001b[39m\u001b[38;5;241m*\u001b[39mkwargs,\n\u001b[0;32m  11136\u001b[0m ) \u001b[38;5;241m-\u001b[39m\u001b[38;5;241m>\u001b[39m Series \u001b[38;5;241m|\u001b[39m \u001b[38;5;28mfloat\u001b[39m:\n\u001b[1;32m> 11137\u001b[0m     \u001b[38;5;28;01mreturn\u001b[39;00m \u001b[38;5;28mself\u001b[39m\u001b[38;5;241m.\u001b[39m_stat_function_ddof(\n\u001b[0;32m  11138\u001b[0m         \u001b[38;5;124m\"\u001b[39m\u001b[38;5;124mstd\u001b[39m\u001b[38;5;124m\"\u001b[39m, nanops\u001b[38;5;241m.\u001b[39mnanstd, axis, skipna, ddof, numeric_only, \u001b[38;5;241m*\u001b[39m\u001b[38;5;241m*\u001b[39mkwargs\n\u001b[0;32m  11139\u001b[0m     )\n",
      "File \u001b[1;32m~\\anaconda3\\Lib\\site-packages\\pandas\\core\\generic.py:11101\u001b[0m, in \u001b[0;36mNDFrame._stat_function_ddof\u001b[1;34m(self, name, func, axis, skipna, ddof, numeric_only, **kwargs)\u001b[0m\n\u001b[0;32m  11098\u001b[0m \u001b[38;5;28;01mif\u001b[39;00m axis \u001b[38;5;129;01mis\u001b[39;00m \u001b[38;5;28;01mNone\u001b[39;00m:\n\u001b[0;32m  11099\u001b[0m     axis \u001b[38;5;241m=\u001b[39m \u001b[38;5;28mself\u001b[39m\u001b[38;5;241m.\u001b[39m_stat_axis_number\n\u001b[1;32m> 11101\u001b[0m \u001b[38;5;28;01mreturn\u001b[39;00m \u001b[38;5;28mself\u001b[39m\u001b[38;5;241m.\u001b[39m_reduce(\n\u001b[0;32m  11102\u001b[0m     func, name, axis\u001b[38;5;241m=\u001b[39maxis, numeric_only\u001b[38;5;241m=\u001b[39mnumeric_only, skipna\u001b[38;5;241m=\u001b[39mskipna, ddof\u001b[38;5;241m=\u001b[39mddof\n\u001b[0;32m  11103\u001b[0m )\n",
      "File \u001b[1;32m~\\anaconda3\\Lib\\site-packages\\pandas\\core\\frame.py:10519\u001b[0m, in \u001b[0;36mDataFrame._reduce\u001b[1;34m(self, op, name, axis, skipna, numeric_only, filter_type, **kwds)\u001b[0m\n\u001b[0;32m  10515\u001b[0m     df \u001b[38;5;241m=\u001b[39m df\u001b[38;5;241m.\u001b[39mT\n\u001b[0;32m  10517\u001b[0m \u001b[38;5;66;03m# After possibly _get_data and transposing, we are now in the\u001b[39;00m\n\u001b[0;32m  10518\u001b[0m \u001b[38;5;66;03m#  simple case where we can use BlockManager.reduce\u001b[39;00m\n\u001b[1;32m> 10519\u001b[0m res \u001b[38;5;241m=\u001b[39m df\u001b[38;5;241m.\u001b[39m_mgr\u001b[38;5;241m.\u001b[39mreduce(blk_func)\n\u001b[0;32m  10520\u001b[0m out \u001b[38;5;241m=\u001b[39m df\u001b[38;5;241m.\u001b[39m_constructor(res)\u001b[38;5;241m.\u001b[39miloc[\u001b[38;5;241m0\u001b[39m]\n\u001b[0;32m  10521\u001b[0m \u001b[38;5;28;01mif\u001b[39;00m out_dtype \u001b[38;5;129;01mis\u001b[39;00m \u001b[38;5;129;01mnot\u001b[39;00m \u001b[38;5;28;01mNone\u001b[39;00m:\n",
      "File \u001b[1;32m~\\anaconda3\\Lib\\site-packages\\pandas\\core\\internals\\managers.py:1534\u001b[0m, in \u001b[0;36mBlockManager.reduce\u001b[1;34m(self, func)\u001b[0m\n\u001b[0;32m   1532\u001b[0m res_blocks: \u001b[38;5;28mlist\u001b[39m[Block] \u001b[38;5;241m=\u001b[39m []\n\u001b[0;32m   1533\u001b[0m \u001b[38;5;28;01mfor\u001b[39;00m blk \u001b[38;5;129;01min\u001b[39;00m \u001b[38;5;28mself\u001b[39m\u001b[38;5;241m.\u001b[39mblocks:\n\u001b[1;32m-> 1534\u001b[0m     nbs \u001b[38;5;241m=\u001b[39m blk\u001b[38;5;241m.\u001b[39mreduce(func)\n\u001b[0;32m   1535\u001b[0m     res_blocks\u001b[38;5;241m.\u001b[39mextend(nbs)\n\u001b[0;32m   1537\u001b[0m index \u001b[38;5;241m=\u001b[39m Index([\u001b[38;5;28;01mNone\u001b[39;00m])  \u001b[38;5;66;03m# placeholder\u001b[39;00m\n",
      "File \u001b[1;32m~\\anaconda3\\Lib\\site-packages\\pandas\\core\\internals\\blocks.py:339\u001b[0m, in \u001b[0;36mBlock.reduce\u001b[1;34m(self, func)\u001b[0m\n\u001b[0;32m    333\u001b[0m \u001b[38;5;129m@final\u001b[39m\n\u001b[0;32m    334\u001b[0m \u001b[38;5;28;01mdef\u001b[39;00m \u001b[38;5;21mreduce\u001b[39m(\u001b[38;5;28mself\u001b[39m, func) \u001b[38;5;241m-\u001b[39m\u001b[38;5;241m>\u001b[39m \u001b[38;5;28mlist\u001b[39m[Block]:\n\u001b[0;32m    335\u001b[0m     \u001b[38;5;66;03m# We will apply the function and reshape the result into a single-row\u001b[39;00m\n\u001b[0;32m    336\u001b[0m     \u001b[38;5;66;03m#  Block with the same mgr_locs; squeezing will be done at a higher level\u001b[39;00m\n\u001b[0;32m    337\u001b[0m     \u001b[38;5;28;01massert\u001b[39;00m \u001b[38;5;28mself\u001b[39m\u001b[38;5;241m.\u001b[39mndim \u001b[38;5;241m==\u001b[39m \u001b[38;5;241m2\u001b[39m\n\u001b[1;32m--> 339\u001b[0m     result \u001b[38;5;241m=\u001b[39m func(\u001b[38;5;28mself\u001b[39m\u001b[38;5;241m.\u001b[39mvalues)\n\u001b[0;32m    341\u001b[0m     \u001b[38;5;28;01mif\u001b[39;00m \u001b[38;5;28mself\u001b[39m\u001b[38;5;241m.\u001b[39mvalues\u001b[38;5;241m.\u001b[39mndim \u001b[38;5;241m==\u001b[39m \u001b[38;5;241m1\u001b[39m:\n\u001b[0;32m    342\u001b[0m         \u001b[38;5;66;03m# TODO(EA2D): special case not needed with 2D EAs\u001b[39;00m\n\u001b[0;32m    343\u001b[0m         res_values \u001b[38;5;241m=\u001b[39m np\u001b[38;5;241m.\u001b[39marray([[result]])\n",
      "File \u001b[1;32m~\\anaconda3\\Lib\\site-packages\\pandas\\core\\frame.py:10482\u001b[0m, in \u001b[0;36mDataFrame._reduce.<locals>.blk_func\u001b[1;34m(values, axis)\u001b[0m\n\u001b[0;32m  10480\u001b[0m     \u001b[38;5;28;01mreturn\u001b[39;00m values\u001b[38;5;241m.\u001b[39m_reduce(name, skipna\u001b[38;5;241m=\u001b[39mskipna, \u001b[38;5;241m*\u001b[39m\u001b[38;5;241m*\u001b[39mkwds)\n\u001b[0;32m  10481\u001b[0m \u001b[38;5;28;01melse\u001b[39;00m:\n\u001b[1;32m> 10482\u001b[0m     \u001b[38;5;28;01mreturn\u001b[39;00m op(values, axis\u001b[38;5;241m=\u001b[39maxis, skipna\u001b[38;5;241m=\u001b[39mskipna, \u001b[38;5;241m*\u001b[39m\u001b[38;5;241m*\u001b[39mkwds)\n",
      "File \u001b[1;32m~\\anaconda3\\Lib\\site-packages\\pandas\\core\\nanops.py:158\u001b[0m, in \u001b[0;36mbottleneck_switch.__call__.<locals>.f\u001b[1;34m(values, axis, skipna, **kwds)\u001b[0m\n\u001b[0;32m    156\u001b[0m         result \u001b[38;5;241m=\u001b[39m alt(values, axis\u001b[38;5;241m=\u001b[39maxis, skipna\u001b[38;5;241m=\u001b[39mskipna, \u001b[38;5;241m*\u001b[39m\u001b[38;5;241m*\u001b[39mkwds)\n\u001b[0;32m    157\u001b[0m \u001b[38;5;28;01melse\u001b[39;00m:\n\u001b[1;32m--> 158\u001b[0m     result \u001b[38;5;241m=\u001b[39m alt(values, axis\u001b[38;5;241m=\u001b[39maxis, skipna\u001b[38;5;241m=\u001b[39mskipna, \u001b[38;5;241m*\u001b[39m\u001b[38;5;241m*\u001b[39mkwds)\n\u001b[0;32m    160\u001b[0m \u001b[38;5;28;01mreturn\u001b[39;00m result\n",
      "File \u001b[1;32m~\\anaconda3\\Lib\\site-packages\\pandas\\core\\nanops.py:940\u001b[0m, in \u001b[0;36mnanstd\u001b[1;34m(values, axis, skipna, ddof, mask)\u001b[0m\n\u001b[0;32m    937\u001b[0m orig_dtype \u001b[38;5;241m=\u001b[39m values\u001b[38;5;241m.\u001b[39mdtype\n\u001b[0;32m    938\u001b[0m values, mask, _, _, _ \u001b[38;5;241m=\u001b[39m _get_values(values, skipna, mask\u001b[38;5;241m=\u001b[39mmask)\n\u001b[1;32m--> 940\u001b[0m result \u001b[38;5;241m=\u001b[39m np\u001b[38;5;241m.\u001b[39msqrt(nanvar(values, axis\u001b[38;5;241m=\u001b[39maxis, skipna\u001b[38;5;241m=\u001b[39mskipna, ddof\u001b[38;5;241m=\u001b[39mddof, mask\u001b[38;5;241m=\u001b[39mmask))\n\u001b[0;32m    941\u001b[0m \u001b[38;5;28;01mreturn\u001b[39;00m _wrap_results(result, orig_dtype)\n",
      "File \u001b[1;32m~\\anaconda3\\Lib\\site-packages\\pandas\\core\\nanops.py:103\u001b[0m, in \u001b[0;36mdisallow.__call__.<locals>._f\u001b[1;34m(*args, **kwargs)\u001b[0m\n\u001b[0;32m     97\u001b[0m \u001b[38;5;28;01mexcept\u001b[39;00m \u001b[38;5;167;01mValueError\u001b[39;00m \u001b[38;5;28;01mas\u001b[39;00m e:\n\u001b[0;32m     98\u001b[0m     \u001b[38;5;66;03m# we want to transform an object array\u001b[39;00m\n\u001b[0;32m     99\u001b[0m     \u001b[38;5;66;03m# ValueError message to the more typical TypeError\u001b[39;00m\n\u001b[0;32m    100\u001b[0m     \u001b[38;5;66;03m# e.g. this is normally a disallowed function on\u001b[39;00m\n\u001b[0;32m    101\u001b[0m     \u001b[38;5;66;03m# object arrays that contain strings\u001b[39;00m\n\u001b[0;32m    102\u001b[0m     \u001b[38;5;28;01mif\u001b[39;00m is_object_dtype(args[\u001b[38;5;241m0\u001b[39m]):\n\u001b[1;32m--> 103\u001b[0m         \u001b[38;5;28;01mraise\u001b[39;00m \u001b[38;5;167;01mTypeError\u001b[39;00m(e) \u001b[38;5;28;01mfrom\u001b[39;00m \u001b[38;5;21;01me\u001b[39;00m\n\u001b[0;32m    104\u001b[0m     \u001b[38;5;28;01mraise\u001b[39;00m\n",
      "\u001b[1;31mTypeError\u001b[0m: could not convert string to float: 'Afghanistan'"
     ]
    }
   ],
   "source": [
    "df.std()"
   ]
  },
  {
   "cell_type": "code",
   "execution_count": 24,
   "id": "d41d3fef",
   "metadata": {},
   "outputs": [
    {
     "data": {
      "text/plain": [
       "12.917107415241187"
      ]
     },
     "execution_count": 24,
     "metadata": {},
     "output_type": "execute_result"
    }
   ],
   "source": [
    "df[\"lifeExp\"].std()"
   ]
  },
  {
   "cell_type": "markdown",
   "id": "608aedc8",
   "metadata": {},
   "source": [
    "## 상관계수\n",
    "\n",
    "- corr()\n",
    "    - 두 열간의 산관계수를 계산\n",
    "    - 산술 데이터를 갖는 모든 열에 대하여 2개씩 짝을 짓고 각각의 경우에 대하여 상관계수를 계산\n",
    "    - 문자열을 가진 열은 계산이 불가능하기 때문에 포함하지 않음"
   ]
  },
  {
   "cell_type": "code",
   "execution_count": 39,
   "id": "49cbfdb8",
   "metadata": {},
   "outputs": [
    {
     "ename": "ValueError",
     "evalue": "could not convert string to float: 'Afghanistan'",
     "output_type": "error",
     "traceback": [
      "\u001b[1;31m---------------------------------------------------------------------------\u001b[0m",
      "\u001b[1;31mValueError\u001b[0m                                Traceback (most recent call last)",
      "Cell \u001b[1;32mIn[39], line 1\u001b[0m\n\u001b[1;32m----> 1\u001b[0m df\u001b[38;5;241m.\u001b[39mcorr()\n",
      "File \u001b[1;32m~\\anaconda3\\Lib\\site-packages\\pandas\\core\\frame.py:10054\u001b[0m, in \u001b[0;36mDataFrame.corr\u001b[1;34m(self, method, min_periods, numeric_only)\u001b[0m\n\u001b[0;32m  10052\u001b[0m cols \u001b[38;5;241m=\u001b[39m data\u001b[38;5;241m.\u001b[39mcolumns\n\u001b[0;32m  10053\u001b[0m idx \u001b[38;5;241m=\u001b[39m cols\u001b[38;5;241m.\u001b[39mcopy()\n\u001b[1;32m> 10054\u001b[0m mat \u001b[38;5;241m=\u001b[39m data\u001b[38;5;241m.\u001b[39mto_numpy(dtype\u001b[38;5;241m=\u001b[39m\u001b[38;5;28mfloat\u001b[39m, na_value\u001b[38;5;241m=\u001b[39mnp\u001b[38;5;241m.\u001b[39mnan, copy\u001b[38;5;241m=\u001b[39m\u001b[38;5;28;01mFalse\u001b[39;00m)\n\u001b[0;32m  10056\u001b[0m \u001b[38;5;28;01mif\u001b[39;00m method \u001b[38;5;241m==\u001b[39m \u001b[38;5;124m\"\u001b[39m\u001b[38;5;124mpearson\u001b[39m\u001b[38;5;124m\"\u001b[39m:\n\u001b[0;32m  10057\u001b[0m     correl \u001b[38;5;241m=\u001b[39m libalgos\u001b[38;5;241m.\u001b[39mnancorr(mat, minp\u001b[38;5;241m=\u001b[39mmin_periods)\n",
      "File \u001b[1;32m~\\anaconda3\\Lib\\site-packages\\pandas\\core\\frame.py:1838\u001b[0m, in \u001b[0;36mDataFrame.to_numpy\u001b[1;34m(self, dtype, copy, na_value)\u001b[0m\n\u001b[0;32m   1836\u001b[0m \u001b[38;5;28;01mif\u001b[39;00m dtype \u001b[38;5;129;01mis\u001b[39;00m \u001b[38;5;129;01mnot\u001b[39;00m \u001b[38;5;28;01mNone\u001b[39;00m:\n\u001b[0;32m   1837\u001b[0m     dtype \u001b[38;5;241m=\u001b[39m np\u001b[38;5;241m.\u001b[39mdtype(dtype)\n\u001b[1;32m-> 1838\u001b[0m result \u001b[38;5;241m=\u001b[39m \u001b[38;5;28mself\u001b[39m\u001b[38;5;241m.\u001b[39m_mgr\u001b[38;5;241m.\u001b[39mas_array(dtype\u001b[38;5;241m=\u001b[39mdtype, copy\u001b[38;5;241m=\u001b[39mcopy, na_value\u001b[38;5;241m=\u001b[39mna_value)\n\u001b[0;32m   1839\u001b[0m \u001b[38;5;28;01mif\u001b[39;00m result\u001b[38;5;241m.\u001b[39mdtype \u001b[38;5;129;01mis\u001b[39;00m \u001b[38;5;129;01mnot\u001b[39;00m dtype:\n\u001b[0;32m   1840\u001b[0m     result \u001b[38;5;241m=\u001b[39m np\u001b[38;5;241m.\u001b[39marray(result, dtype\u001b[38;5;241m=\u001b[39mdtype, copy\u001b[38;5;241m=\u001b[39m\u001b[38;5;28;01mFalse\u001b[39;00m)\n",
      "File \u001b[1;32m~\\anaconda3\\Lib\\site-packages\\pandas\\core\\internals\\managers.py:1732\u001b[0m, in \u001b[0;36mBlockManager.as_array\u001b[1;34m(self, dtype, copy, na_value)\u001b[0m\n\u001b[0;32m   1730\u001b[0m         arr\u001b[38;5;241m.\u001b[39mflags\u001b[38;5;241m.\u001b[39mwriteable \u001b[38;5;241m=\u001b[39m \u001b[38;5;28;01mFalse\u001b[39;00m\n\u001b[0;32m   1731\u001b[0m \u001b[38;5;28;01melse\u001b[39;00m:\n\u001b[1;32m-> 1732\u001b[0m     arr \u001b[38;5;241m=\u001b[39m \u001b[38;5;28mself\u001b[39m\u001b[38;5;241m.\u001b[39m_interleave(dtype\u001b[38;5;241m=\u001b[39mdtype, na_value\u001b[38;5;241m=\u001b[39mna_value)\n\u001b[0;32m   1733\u001b[0m     \u001b[38;5;66;03m# The underlying data was copied within _interleave, so no need\u001b[39;00m\n\u001b[0;32m   1734\u001b[0m     \u001b[38;5;66;03m# to further copy if copy=True or setting na_value\u001b[39;00m\n\u001b[0;32m   1736\u001b[0m \u001b[38;5;28;01mif\u001b[39;00m na_value \u001b[38;5;129;01mis\u001b[39;00m \u001b[38;5;129;01mnot\u001b[39;00m lib\u001b[38;5;241m.\u001b[39mno_default:\n",
      "File \u001b[1;32m~\\anaconda3\\Lib\\site-packages\\pandas\\core\\internals\\managers.py:1794\u001b[0m, in \u001b[0;36mBlockManager._interleave\u001b[1;34m(self, dtype, na_value)\u001b[0m\n\u001b[0;32m   1792\u001b[0m     \u001b[38;5;28;01melse\u001b[39;00m:\n\u001b[0;32m   1793\u001b[0m         arr \u001b[38;5;241m=\u001b[39m blk\u001b[38;5;241m.\u001b[39mget_values(dtype)\n\u001b[1;32m-> 1794\u001b[0m     result[rl\u001b[38;5;241m.\u001b[39mindexer] \u001b[38;5;241m=\u001b[39m arr\n\u001b[0;32m   1795\u001b[0m     itemmask[rl\u001b[38;5;241m.\u001b[39mindexer] \u001b[38;5;241m=\u001b[39m \u001b[38;5;241m1\u001b[39m\n\u001b[0;32m   1797\u001b[0m \u001b[38;5;28;01mif\u001b[39;00m \u001b[38;5;129;01mnot\u001b[39;00m itemmask\u001b[38;5;241m.\u001b[39mall():\n",
      "\u001b[1;31mValueError\u001b[0m: could not convert string to float: 'Afghanistan'"
     ]
    }
   ],
   "source": [
    "df.corr()"
   ]
  },
  {
   "cell_type": "code",
   "execution_count": 29,
   "id": "c2ecc121",
   "metadata": {},
   "outputs": [
    {
     "data": {
      "text/html": [
       "<div>\n",
       "<style scoped>\n",
       "    .dataframe tbody tr th:only-of-type {\n",
       "        vertical-align: middle;\n",
       "    }\n",
       "\n",
       "    .dataframe tbody tr th {\n",
       "        vertical-align: top;\n",
       "    }\n",
       "\n",
       "    .dataframe thead th {\n",
       "        text-align: right;\n",
       "    }\n",
       "</style>\n",
       "<table border=\"1\" class=\"dataframe\">\n",
       "  <thead>\n",
       "    <tr style=\"text-align: right;\">\n",
       "      <th></th>\n",
       "      <th>country</th>\n",
       "      <th>continent</th>\n",
       "      <th>year</th>\n",
       "      <th>lifeExp</th>\n",
       "      <th>pop</th>\n",
       "      <th>gdpPercap</th>\n",
       "    </tr>\n",
       "  </thead>\n",
       "  <tbody>\n",
       "    <tr>\n",
       "      <th>0</th>\n",
       "      <td>Afghanistan</td>\n",
       "      <td>Asia</td>\n",
       "      <td>1952</td>\n",
       "      <td>28.801</td>\n",
       "      <td>8425333</td>\n",
       "      <td>779.445314</td>\n",
       "    </tr>\n",
       "    <tr>\n",
       "      <th>1</th>\n",
       "      <td>Afghanistan</td>\n",
       "      <td>Asia</td>\n",
       "      <td>1957</td>\n",
       "      <td>30.332</td>\n",
       "      <td>9240934</td>\n",
       "      <td>820.853030</td>\n",
       "    </tr>\n",
       "    <tr>\n",
       "      <th>2</th>\n",
       "      <td>Afghanistan</td>\n",
       "      <td>Asia</td>\n",
       "      <td>1962</td>\n",
       "      <td>31.997</td>\n",
       "      <td>10267083</td>\n",
       "      <td>853.100710</td>\n",
       "    </tr>\n",
       "    <tr>\n",
       "      <th>3</th>\n",
       "      <td>Afghanistan</td>\n",
       "      <td>Asia</td>\n",
       "      <td>1967</td>\n",
       "      <td>34.020</td>\n",
       "      <td>11537966</td>\n",
       "      <td>836.197138</td>\n",
       "    </tr>\n",
       "    <tr>\n",
       "      <th>4</th>\n",
       "      <td>Afghanistan</td>\n",
       "      <td>Asia</td>\n",
       "      <td>1972</td>\n",
       "      <td>36.088</td>\n",
       "      <td>13079460</td>\n",
       "      <td>739.981106</td>\n",
       "    </tr>\n",
       "    <tr>\n",
       "      <th>...</th>\n",
       "      <td>...</td>\n",
       "      <td>...</td>\n",
       "      <td>...</td>\n",
       "      <td>...</td>\n",
       "      <td>...</td>\n",
       "      <td>...</td>\n",
       "    </tr>\n",
       "    <tr>\n",
       "      <th>1699</th>\n",
       "      <td>Zimbabwe</td>\n",
       "      <td>Africa</td>\n",
       "      <td>1987</td>\n",
       "      <td>62.351</td>\n",
       "      <td>9216418</td>\n",
       "      <td>706.157306</td>\n",
       "    </tr>\n",
       "    <tr>\n",
       "      <th>1700</th>\n",
       "      <td>Zimbabwe</td>\n",
       "      <td>Africa</td>\n",
       "      <td>1992</td>\n",
       "      <td>60.377</td>\n",
       "      <td>10704340</td>\n",
       "      <td>693.420786</td>\n",
       "    </tr>\n",
       "    <tr>\n",
       "      <th>1701</th>\n",
       "      <td>Zimbabwe</td>\n",
       "      <td>Africa</td>\n",
       "      <td>1997</td>\n",
       "      <td>46.809</td>\n",
       "      <td>11404948</td>\n",
       "      <td>792.449960</td>\n",
       "    </tr>\n",
       "    <tr>\n",
       "      <th>1702</th>\n",
       "      <td>Zimbabwe</td>\n",
       "      <td>Africa</td>\n",
       "      <td>2002</td>\n",
       "      <td>39.989</td>\n",
       "      <td>11926563</td>\n",
       "      <td>672.038623</td>\n",
       "    </tr>\n",
       "    <tr>\n",
       "      <th>1703</th>\n",
       "      <td>Zimbabwe</td>\n",
       "      <td>Africa</td>\n",
       "      <td>2007</td>\n",
       "      <td>43.487</td>\n",
       "      <td>12311143</td>\n",
       "      <td>469.709298</td>\n",
       "    </tr>\n",
       "  </tbody>\n",
       "</table>\n",
       "<p>1704 rows × 6 columns</p>\n",
       "</div>"
      ],
      "text/plain": [
       "          country continent  year  lifeExp       pop   gdpPercap\n",
       "0     Afghanistan      Asia  1952   28.801   8425333  779.445314\n",
       "1     Afghanistan      Asia  1957   30.332   9240934  820.853030\n",
       "2     Afghanistan      Asia  1962   31.997  10267083  853.100710\n",
       "3     Afghanistan      Asia  1967   34.020  11537966  836.197138\n",
       "4     Afghanistan      Asia  1972   36.088  13079460  739.981106\n",
       "...           ...       ...   ...      ...       ...         ...\n",
       "1699     Zimbabwe    Africa  1987   62.351   9216418  706.157306\n",
       "1700     Zimbabwe    Africa  1992   60.377  10704340  693.420786\n",
       "1701     Zimbabwe    Africa  1997   46.809  11404948  792.449960\n",
       "1702     Zimbabwe    Africa  2002   39.989  11926563  672.038623\n",
       "1703     Zimbabwe    Africa  2007   43.487  12311143  469.709298\n",
       "\n",
       "[1704 rows x 6 columns]"
      ]
     },
     "execution_count": 29,
     "metadata": {},
     "output_type": "execute_result"
    }
   ],
   "source": [
    "df"
   ]
  },
  {
   "cell_type": "code",
   "execution_count": 47,
   "id": "2fdd30ea",
   "metadata": {},
   "outputs": [
    {
     "ename": "ValueError",
     "evalue": "could not convert string to float: 'Afghanistan'",
     "output_type": "error",
     "traceback": [
      "\u001b[1;31m---------------------------------------------------------------------------\u001b[0m",
      "\u001b[1;31mValueError\u001b[0m                                Traceback (most recent call last)",
      "Cell \u001b[1;32mIn[47], line 1\u001b[0m\n\u001b[1;32m----> 1\u001b[0m df\u001b[38;5;241m.\u001b[39mcorr()\n",
      "File \u001b[1;32m~\\anaconda3\\Lib\\site-packages\\pandas\\core\\frame.py:10054\u001b[0m, in \u001b[0;36mDataFrame.corr\u001b[1;34m(self, method, min_periods, numeric_only)\u001b[0m\n\u001b[0;32m  10052\u001b[0m cols \u001b[38;5;241m=\u001b[39m data\u001b[38;5;241m.\u001b[39mcolumns\n\u001b[0;32m  10053\u001b[0m idx \u001b[38;5;241m=\u001b[39m cols\u001b[38;5;241m.\u001b[39mcopy()\n\u001b[1;32m> 10054\u001b[0m mat \u001b[38;5;241m=\u001b[39m data\u001b[38;5;241m.\u001b[39mto_numpy(dtype\u001b[38;5;241m=\u001b[39m\u001b[38;5;28mfloat\u001b[39m, na_value\u001b[38;5;241m=\u001b[39mnp\u001b[38;5;241m.\u001b[39mnan, copy\u001b[38;5;241m=\u001b[39m\u001b[38;5;28;01mFalse\u001b[39;00m)\n\u001b[0;32m  10056\u001b[0m \u001b[38;5;28;01mif\u001b[39;00m method \u001b[38;5;241m==\u001b[39m \u001b[38;5;124m\"\u001b[39m\u001b[38;5;124mpearson\u001b[39m\u001b[38;5;124m\"\u001b[39m:\n\u001b[0;32m  10057\u001b[0m     correl \u001b[38;5;241m=\u001b[39m libalgos\u001b[38;5;241m.\u001b[39mnancorr(mat, minp\u001b[38;5;241m=\u001b[39mmin_periods)\n",
      "File \u001b[1;32m~\\anaconda3\\Lib\\site-packages\\pandas\\core\\frame.py:1838\u001b[0m, in \u001b[0;36mDataFrame.to_numpy\u001b[1;34m(self, dtype, copy, na_value)\u001b[0m\n\u001b[0;32m   1836\u001b[0m \u001b[38;5;28;01mif\u001b[39;00m dtype \u001b[38;5;129;01mis\u001b[39;00m \u001b[38;5;129;01mnot\u001b[39;00m \u001b[38;5;28;01mNone\u001b[39;00m:\n\u001b[0;32m   1837\u001b[0m     dtype \u001b[38;5;241m=\u001b[39m np\u001b[38;5;241m.\u001b[39mdtype(dtype)\n\u001b[1;32m-> 1838\u001b[0m result \u001b[38;5;241m=\u001b[39m \u001b[38;5;28mself\u001b[39m\u001b[38;5;241m.\u001b[39m_mgr\u001b[38;5;241m.\u001b[39mas_array(dtype\u001b[38;5;241m=\u001b[39mdtype, copy\u001b[38;5;241m=\u001b[39mcopy, na_value\u001b[38;5;241m=\u001b[39mna_value)\n\u001b[0;32m   1839\u001b[0m \u001b[38;5;28;01mif\u001b[39;00m result\u001b[38;5;241m.\u001b[39mdtype \u001b[38;5;129;01mis\u001b[39;00m \u001b[38;5;129;01mnot\u001b[39;00m dtype:\n\u001b[0;32m   1840\u001b[0m     result \u001b[38;5;241m=\u001b[39m np\u001b[38;5;241m.\u001b[39marray(result, dtype\u001b[38;5;241m=\u001b[39mdtype, copy\u001b[38;5;241m=\u001b[39m\u001b[38;5;28;01mFalse\u001b[39;00m)\n",
      "File \u001b[1;32m~\\anaconda3\\Lib\\site-packages\\pandas\\core\\internals\\managers.py:1732\u001b[0m, in \u001b[0;36mBlockManager.as_array\u001b[1;34m(self, dtype, copy, na_value)\u001b[0m\n\u001b[0;32m   1730\u001b[0m         arr\u001b[38;5;241m.\u001b[39mflags\u001b[38;5;241m.\u001b[39mwriteable \u001b[38;5;241m=\u001b[39m \u001b[38;5;28;01mFalse\u001b[39;00m\n\u001b[0;32m   1731\u001b[0m \u001b[38;5;28;01melse\u001b[39;00m:\n\u001b[1;32m-> 1732\u001b[0m     arr \u001b[38;5;241m=\u001b[39m \u001b[38;5;28mself\u001b[39m\u001b[38;5;241m.\u001b[39m_interleave(dtype\u001b[38;5;241m=\u001b[39mdtype, na_value\u001b[38;5;241m=\u001b[39mna_value)\n\u001b[0;32m   1733\u001b[0m     \u001b[38;5;66;03m# The underlying data was copied within _interleave, so no need\u001b[39;00m\n\u001b[0;32m   1734\u001b[0m     \u001b[38;5;66;03m# to further copy if copy=True or setting na_value\u001b[39;00m\n\u001b[0;32m   1736\u001b[0m \u001b[38;5;28;01mif\u001b[39;00m na_value \u001b[38;5;129;01mis\u001b[39;00m \u001b[38;5;129;01mnot\u001b[39;00m lib\u001b[38;5;241m.\u001b[39mno_default:\n",
      "File \u001b[1;32m~\\anaconda3\\Lib\\site-packages\\pandas\\core\\internals\\managers.py:1794\u001b[0m, in \u001b[0;36mBlockManager._interleave\u001b[1;34m(self, dtype, na_value)\u001b[0m\n\u001b[0;32m   1792\u001b[0m     \u001b[38;5;28;01melse\u001b[39;00m:\n\u001b[0;32m   1793\u001b[0m         arr \u001b[38;5;241m=\u001b[39m blk\u001b[38;5;241m.\u001b[39mget_values(dtype)\n\u001b[1;32m-> 1794\u001b[0m     result[rl\u001b[38;5;241m.\u001b[39mindexer] \u001b[38;5;241m=\u001b[39m arr\n\u001b[0;32m   1795\u001b[0m     itemmask[rl\u001b[38;5;241m.\u001b[39mindexer] \u001b[38;5;241m=\u001b[39m \u001b[38;5;241m1\u001b[39m\n\u001b[0;32m   1797\u001b[0m \u001b[38;5;28;01mif\u001b[39;00m \u001b[38;5;129;01mnot\u001b[39;00m itemmask\u001b[38;5;241m.\u001b[39mall():\n",
      "\u001b[1;31mValueError\u001b[0m: could not convert string to float: 'Afghanistan'"
     ]
    }
   ],
   "source": [
    "df.corr()"
   ]
  },
  {
   "cell_type": "code",
   "execution_count": 46,
   "id": "e02858f3",
   "metadata": {},
   "outputs": [
    {
     "data": {
      "text/html": [
       "<div>\n",
       "<style scoped>\n",
       "    .dataframe tbody tr th:only-of-type {\n",
       "        vertical-align: middle;\n",
       "    }\n",
       "\n",
       "    .dataframe tbody tr th {\n",
       "        vertical-align: top;\n",
       "    }\n",
       "\n",
       "    .dataframe thead th {\n",
       "        text-align: right;\n",
       "    }\n",
       "</style>\n",
       "<table border=\"1\" class=\"dataframe\">\n",
       "  <thead>\n",
       "    <tr style=\"text-align: right;\">\n",
       "      <th></th>\n",
       "      <th>year</th>\n",
       "      <th>lifeExp</th>\n",
       "    </tr>\n",
       "  </thead>\n",
       "  <tbody>\n",
       "    <tr>\n",
       "      <th>year</th>\n",
       "      <td>1.000000</td>\n",
       "      <td>0.435611</td>\n",
       "    </tr>\n",
       "    <tr>\n",
       "      <th>lifeExp</th>\n",
       "      <td>0.435611</td>\n",
       "      <td>1.000000</td>\n",
       "    </tr>\n",
       "  </tbody>\n",
       "</table>\n",
       "</div>"
      ],
      "text/plain": [
       "             year   lifeExp\n",
       "year     1.000000  0.435611\n",
       "lifeExp  0.435611  1.000000"
      ]
     },
     "execution_count": 46,
     "metadata": {},
     "output_type": "execute_result"
    }
   ],
   "source": [
    "df[[\"year\",\"lifeExp\"]].corr()"
   ]
  },
  {
   "cell_type": "markdown",
   "id": "42db7eaa",
   "metadata": {},
   "source": [
    "# 판다스 내장 그래프 도구\n",
    "\n",
    "- 그래프를 이용한 시각화는 데이터의 분포와 패턴을 파악하는 데 큰 도움이 됨\n",
    "\n",
    "- 판다스는 matplotlib 라이브러리의 기능을 일부 내장하고 있음\n",
    "    - 별도의 import 없이 간단한 그래프를 그리는 것이 가능\n",
    "\n",
    "- 그래프의 종류\n",
    "    - line : 선 그래프\n",
    "    - bar : 수직 막대 그래프\n",
    "    - bath : 수평 막대 그래프\n",
    "    - hist : 히스토그램\n",
    "    - box : 박스 플롯\n",
    "    - kde : 커널 밀도 그래프\n",
    "    - area : 면적 그래프\n",
    "    - pie : 파이 그래프\n",
    "    - scatter : 산정도 그래프\n",
    "    - hexbin : 고밀도 산점도 그래프 "
   ]
  },
  {
   "cell_type": "markdown",
   "id": "c98ad2f9",
   "metadata": {},
   "source": [
    "## 선 그래프\n",
    "\n",
    "- plot() 메서드를 적용할 때 다른 옵션을 추가하지 않으면 기본적으로 선 그래프를 그림"
   ]
  },
  {
   "cell_type": "markdown",
   "id": "e45470de",
   "metadata": {},
   "source": []
  },
  {
   "cell_type": "code",
   "execution_count": 48,
   "id": "1c6157dd",
   "metadata": {},
   "outputs": [],
   "source": [
    "# 날짜별 주기 데이터 불러오기\n",
    "# 애플 주기 데이터\n",
    "df = pd.read_csv(\"./data/finance-charts-apple.csv\")"
   ]
  },
  {
   "cell_type": "code",
   "execution_count": 49,
   "id": "a7a469d7",
   "metadata": {},
   "outputs": [
    {
     "data": {
      "text/html": [
       "<div>\n",
       "<style scoped>\n",
       "    .dataframe tbody tr th:only-of-type {\n",
       "        vertical-align: middle;\n",
       "    }\n",
       "\n",
       "    .dataframe tbody tr th {\n",
       "        vertical-align: top;\n",
       "    }\n",
       "\n",
       "    .dataframe thead th {\n",
       "        text-align: right;\n",
       "    }\n",
       "</style>\n",
       "<table border=\"1\" class=\"dataframe\">\n",
       "  <thead>\n",
       "    <tr style=\"text-align: right;\">\n",
       "      <th></th>\n",
       "      <th>Date</th>\n",
       "      <th>AAPL.Open</th>\n",
       "      <th>AAPL.High</th>\n",
       "      <th>AAPL.Low</th>\n",
       "      <th>AAPL.Close</th>\n",
       "      <th>AAPL.Volume</th>\n",
       "      <th>AAPL.Adjusted</th>\n",
       "      <th>dn</th>\n",
       "      <th>mavg</th>\n",
       "      <th>up</th>\n",
       "      <th>direction</th>\n",
       "    </tr>\n",
       "  </thead>\n",
       "  <tbody>\n",
       "    <tr>\n",
       "      <th>0</th>\n",
       "      <td>2015-02-17</td>\n",
       "      <td>127.489998</td>\n",
       "      <td>128.880005</td>\n",
       "      <td>126.919998</td>\n",
       "      <td>127.830002</td>\n",
       "      <td>63152400</td>\n",
       "      <td>122.905254</td>\n",
       "      <td>106.741052</td>\n",
       "      <td>117.927667</td>\n",
       "      <td>129.114281</td>\n",
       "      <td>Increasing</td>\n",
       "    </tr>\n",
       "    <tr>\n",
       "      <th>1</th>\n",
       "      <td>2015-02-18</td>\n",
       "      <td>127.629997</td>\n",
       "      <td>128.779999</td>\n",
       "      <td>127.449997</td>\n",
       "      <td>128.720001</td>\n",
       "      <td>44891700</td>\n",
       "      <td>123.760965</td>\n",
       "      <td>107.842423</td>\n",
       "      <td>118.940333</td>\n",
       "      <td>130.038244</td>\n",
       "      <td>Increasing</td>\n",
       "    </tr>\n",
       "    <tr>\n",
       "      <th>2</th>\n",
       "      <td>2015-02-19</td>\n",
       "      <td>128.479996</td>\n",
       "      <td>129.029999</td>\n",
       "      <td>128.330002</td>\n",
       "      <td>128.449997</td>\n",
       "      <td>37362400</td>\n",
       "      <td>123.501363</td>\n",
       "      <td>108.894245</td>\n",
       "      <td>119.889167</td>\n",
       "      <td>130.884089</td>\n",
       "      <td>Decreasing</td>\n",
       "    </tr>\n",
       "    <tr>\n",
       "      <th>3</th>\n",
       "      <td>2015-02-20</td>\n",
       "      <td>128.619995</td>\n",
       "      <td>129.500000</td>\n",
       "      <td>128.050003</td>\n",
       "      <td>129.500000</td>\n",
       "      <td>48948400</td>\n",
       "      <td>124.510914</td>\n",
       "      <td>109.785449</td>\n",
       "      <td>120.763500</td>\n",
       "      <td>131.741551</td>\n",
       "      <td>Increasing</td>\n",
       "    </tr>\n",
       "    <tr>\n",
       "      <th>4</th>\n",
       "      <td>2015-02-23</td>\n",
       "      <td>130.020004</td>\n",
       "      <td>133.000000</td>\n",
       "      <td>129.660004</td>\n",
       "      <td>133.000000</td>\n",
       "      <td>70974100</td>\n",
       "      <td>127.876074</td>\n",
       "      <td>110.372516</td>\n",
       "      <td>121.720167</td>\n",
       "      <td>133.067817</td>\n",
       "      <td>Increasing</td>\n",
       "    </tr>\n",
       "  </tbody>\n",
       "</table>\n",
       "</div>"
      ],
      "text/plain": [
       "         Date   AAPL.Open   AAPL.High    AAPL.Low  AAPL.Close  AAPL.Volume  \\\n",
       "0  2015-02-17  127.489998  128.880005  126.919998  127.830002     63152400   \n",
       "1  2015-02-18  127.629997  128.779999  127.449997  128.720001     44891700   \n",
       "2  2015-02-19  128.479996  129.029999  128.330002  128.449997     37362400   \n",
       "3  2015-02-20  128.619995  129.500000  128.050003  129.500000     48948400   \n",
       "4  2015-02-23  130.020004  133.000000  129.660004  133.000000     70974100   \n",
       "\n",
       "   AAPL.Adjusted          dn        mavg          up   direction  \n",
       "0     122.905254  106.741052  117.927667  129.114281  Increasing  \n",
       "1     123.760965  107.842423  118.940333  130.038244  Increasing  \n",
       "2     123.501363  108.894245  119.889167  130.884089  Decreasing  \n",
       "3     124.510914  109.785449  120.763500  131.741551  Increasing  \n",
       "4     127.876074  110.372516  121.720167  133.067817  Increasing  "
      ]
     },
     "execution_count": 49,
     "metadata": {},
     "output_type": "execute_result"
    }
   ],
   "source": [
    "df.head()"
   ]
  },
  {
   "cell_type": "code",
   "execution_count": 52,
   "id": "18ce72be",
   "metadata": {},
   "outputs": [],
   "source": [
    "# Date 컬럼을 인덱스로 설정하기\n",
    "df = df.set_index(\"Date\")"
   ]
  },
  {
   "cell_type": "code",
   "execution_count": 54,
   "id": "cca89166",
   "metadata": {},
   "outputs": [
    {
     "data": {
      "text/plain": [
       "<Axes: xlabel='Date'>"
      ]
     },
     "execution_count": 54,
     "metadata": {},
     "output_type": "execute_result"
    },
    {
     "data": {
      "image/png": "[encoded data removed]",
      "text/plain": [
       "<Figure size 640x480 with 1 Axes>"
      ]
     },
     "metadata": {},
     "output_type": "display_data"
    }
   ],
   "source": [
    "df[\"AAPL.Close\"].plot()"
   ]
  },
  {
   "cell_type": "markdown",
   "id": "ec87ffb1",
   "metadata": {},
   "source": [
    "## 막대 그래프\n",
    "\n",
    "- plot() 메서드와 kind 옵션에서 그래프 종류를 지정\n",
    "- 막대 그래프는 kind = \"bar\" 옵션을 추가"
   ]
  },
  {
   "cell_type": "code",
   "execution_count": 55,
   "id": "b2a4b367",
   "metadata": {},
   "outputs": [
    {
     "data": {
      "text/plain": [
       "<Axes: xlabel='Date'>"
      ]
     },
     "execution_count": 55,
     "metadata": {},
     "output_type": "execute_result"
    },
    {
     "data": {
      "image/png": "[encoded data removed]",
      "text/plain": [
       "<Figure size 640x480 with 1 Axes>"
      ]
     },
     "metadata": {},
     "output_type": "display_data"
    }
   ],
   "source": [
    "df.iloc[:10, 4].plot(kind = \"bar\")"
   ]
  },
  {
   "cell_type": "markdown",
   "id": "f9a4e09d",
   "metadata": {},
   "source": [
    "## 히스토그램\n",
    "\n",
    "- kind = \"hist\"\n",
    "- 히스토그램의 x축은 데이터 값을 일정한 간격을 갖는 여러 구간으로 나눈 것\n",
    "- y축은 x축에서 나눈 구간에 속하는 데이터 값의 빈도를 나타낸 것"
   ]
  },
  {
   "cell_type": "code",
   "execution_count": 57,
   "id": "34fe9162",
   "metadata": {},
   "outputs": [
    {
     "data": {
      "text/plain": [
       "<Axes: ylabel='Frequency'>"
      ]
     },
     "execution_count": 57,
     "metadata": {},
     "output_type": "execute_result"
    },
    {
     "data": {
      "image/png": "[encoded data removed]",
      "text/plain": [
       "<Figure size 640x480 with 1 Axes>"
      ]
     },
     "metadata": {},
     "output_type": "display_data"
    }
   ],
   "source": [
    "df[\"AAPL.Close\"].plot(kind = \"hist\")"
   ]
  },
  {
   "cell_type": "markdown",
   "id": "b1ce268a",
   "metadata": {},
   "source": [
    "## 박스 플롯\n",
    "\n",
    "- 특정 변수의 데이터 분포와 분산 정도에 대한 정보를 제공\n",
    "- kind = \"box\" 옵션"
   ]
  },
  {
   "cell_type": "code",
   "execution_count": 59,
   "id": "8f38df31",
   "metadata": {},
   "outputs": [],
   "source": [
    "tips = sns.load_dataset(\"tips\")"
   ]
  },
  {
   "cell_type": "code",
   "execution_count": 60,
   "id": "ac467e63",
   "metadata": {},
   "outputs": [
    {
     "data": {
      "text/plain": [
       "pandas.core.frame.DataFrame"
      ]
     },
     "execution_count": 60,
     "metadata": {},
     "output_type": "execute_result"
    }
   ],
   "source": [
    "type(tips)"
   ]
  },
  {
   "cell_type": "code",
   "execution_count": 61,
   "id": "b8cd77a0",
   "metadata": {},
   "outputs": [
    {
     "data": {
      "text/html": [
       "<div>\n",
       "<style scoped>\n",
       "    .dataframe tbody tr th:only-of-type {\n",
       "        vertical-align: middle;\n",
       "    }\n",
       "\n",
       "    .dataframe tbody tr th {\n",
       "        vertical-align: top;\n",
       "    }\n",
       "\n",
       "    .dataframe thead th {\n",
       "        text-align: right;\n",
       "    }\n",
       "</style>\n",
       "<table border=\"1\" class=\"dataframe\">\n",
       "  <thead>\n",
       "    <tr style=\"text-align: right;\">\n",
       "      <th></th>\n",
       "      <th>total_bill</th>\n",
       "      <th>tip</th>\n",
       "      <th>sex</th>\n",
       "      <th>smoker</th>\n",
       "      <th>day</th>\n",
       "      <th>time</th>\n",
       "      <th>size</th>\n",
       "    </tr>\n",
       "  </thead>\n",
       "  <tbody>\n",
       "    <tr>\n",
       "      <th>0</th>\n",
       "      <td>16.99</td>\n",
       "      <td>1.01</td>\n",
       "      <td>Female</td>\n",
       "      <td>No</td>\n",
       "      <td>Sun</td>\n",
       "      <td>Dinner</td>\n",
       "      <td>2</td>\n",
       "    </tr>\n",
       "    <tr>\n",
       "      <th>1</th>\n",
       "      <td>10.34</td>\n",
       "      <td>1.66</td>\n",
       "      <td>Male</td>\n",
       "      <td>No</td>\n",
       "      <td>Sun</td>\n",
       "      <td>Dinner</td>\n",
       "      <td>3</td>\n",
       "    </tr>\n",
       "    <tr>\n",
       "      <th>2</th>\n",
       "      <td>21.01</td>\n",
       "      <td>3.50</td>\n",
       "      <td>Male</td>\n",
       "      <td>No</td>\n",
       "      <td>Sun</td>\n",
       "      <td>Dinner</td>\n",
       "      <td>3</td>\n",
       "    </tr>\n",
       "    <tr>\n",
       "      <th>3</th>\n",
       "      <td>23.68</td>\n",
       "      <td>3.31</td>\n",
       "      <td>Male</td>\n",
       "      <td>No</td>\n",
       "      <td>Sun</td>\n",
       "      <td>Dinner</td>\n",
       "      <td>2</td>\n",
       "    </tr>\n",
       "    <tr>\n",
       "      <th>4</th>\n",
       "      <td>24.59</td>\n",
       "      <td>3.61</td>\n",
       "      <td>Female</td>\n",
       "      <td>No</td>\n",
       "      <td>Sun</td>\n",
       "      <td>Dinner</td>\n",
       "      <td>4</td>\n",
       "    </tr>\n",
       "  </tbody>\n",
       "</table>\n",
       "</div>"
      ],
      "text/plain": [
       "   total_bill   tip     sex smoker  day    time  size\n",
       "0       16.99  1.01  Female     No  Sun  Dinner     2\n",
       "1       10.34  1.66    Male     No  Sun  Dinner     3\n",
       "2       21.01  3.50    Male     No  Sun  Dinner     3\n",
       "3       23.68  3.31    Male     No  Sun  Dinner     2\n",
       "4       24.59  3.61  Female     No  Sun  Dinner     4"
      ]
     },
     "execution_count": 61,
     "metadata": {},
     "output_type": "execute_result"
    }
   ],
   "source": [
    "tips.head()"
   ]
  },
  {
   "cell_type": "code",
   "execution_count": 63,
   "id": "fe782817",
   "metadata": {},
   "outputs": [
    {
     "data": {
      "text/plain": [
       "<Axes: >"
      ]
     },
     "execution_count": 63,
     "metadata": {},
     "output_type": "execute_result"
    },
    {
     "data": {
      "image/png": "[encoded data removed]",
      "text/plain": [
       "<Figure size 640x480 with 1 Axes>"
      ]
     },
     "metadata": {},
     "output_type": "display_data"
    }
   ],
   "source": [
    "tips[[\"total_bill\", \"tip\"]].plot(kind = \"box\")"
   ]
  },
  {
   "cell_type": "markdown",
   "id": "8d3e9aa2",
   "metadata": {},
   "source": [
    "## 산점도\n",
    "\n",
    "- kind = \"scatter\" 옵션"
   ]
  },
  {
   "cell_type": "code",
   "execution_count": 64,
   "id": "81bd323e",
   "metadata": {},
   "outputs": [
    {
     "data": {
      "text/plain": [
       "<Axes: xlabel='total_bill', ylabel='tip'>"
      ]
     },
     "execution_count": 64,
     "metadata": {},
     "output_type": "execute_result"
    },
    {
     "data": {
      "image/png": "[encoded data removed]",
      "text/plain": [
       "<Figure size 640x480 with 1 Axes>"
      ]
     },
     "metadata": {},
     "output_type": "display_data"
    }
   ],
   "source": [
    "tips.plot(x = \"total_bill\", y = \"tip\", kind = \"scatter\")"
   ]
  },
  {
   "cell_type": "code",
   "execution_count": null,
   "id": "c97e9408",
   "metadata": {},
   "outputs": [],
   "source": []
  }
 ],
 "metadata": {
  "kernelspec": {
   "display_name": "Python 3 (ipykernel)",
   "language": "python",
   "name": "python3"
  },
  "language_info": {
   "codemirror_mode": {
    "name": "ipython",
    "version": 3
   },
   "file_extension": ".py",
   "mimetype": "text/x-python",
   "name": "python",
   "nbconvert_exporter": "python",
   "pygments_lexer": "ipython3",
   "version": "3.11.5"
  }
 },
 "nbformat": 4,
 "nbformat_minor": 5
}
