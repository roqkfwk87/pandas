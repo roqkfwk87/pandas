{
 "cells": [
  {
   "cell_type": "markdown",
   "id": "7caad1d4",
   "metadata": {},
   "source": [
    "# 판다스 자료구조\n",
    "- 분석을 위해 수집하는 데이터는 형태나 속성이 매우 다양함\n",
    "    - 서로 다른 형식을 갖는 여러 종류의 데이터를 컴퓨터가 이해할 수 있도록 동일한 형식을 갖는 구조로 통합할 필요가 있음\n",
    "- 판다스 데이터의 형식\n",
    "    - 시리즈(Series)\n",
    "        - 1차원 배열\n",
    "        \n",
    "    - 데이터프레임(DataFrame)\n",
    "        - 2차원 배열"
   ]
  },
  {
   "cell_type": "markdown",
   "id": "d9a27e88",
   "metadata": {},
   "source": [
    "## 시리즈\n",
    "\n",
    "- 데이터가 순차적으로 나열된 1차원 배열\n",
    "- 각 인덱스(index)와 값(value)이 1:1 대응이 됨\n",
    "    - 키와 값이 짝을 이루는 딕셔너리와 비슷한 구조\n",
    "    - 시리즈에서 인덱스는 데이터 값의 위치를 나타내는 이름표 역학을 수행"
   ]
  },
  {
   "cell_type": "markdown",
   "id": "c3cc3081",
   "metadata": {},
   "source": [
    "## 데이터프레임\n",
    "\n",
    "- 행과 열로 이루어진 2차원 배열\n",
    "- 여러 개의 시리즈들이 모여서 데이터프레임을 구성\n",
    "    - 데이터프레임의 열은 각각 시리즈 객체\n",
    "    - 여러 개의 시리즈들이 같은 행 인덱스를 기준으로 결합된 2차원 행렬\n",
    "\n",
    "- 행과 열을 나타내기 위해 두 가지 종류의 주소를 사용\n",
    "     - 행 인덱스\n",
    "         - 개별 관측대상에 대한 다양한 속성 데이터들의 모음\n",
    "              - 레코드(record)\n",
    "              \n",
    "     - 열 이름\n",
    "         - 공통의 속성을 갖는 일련의 데이터\n",
    "         \n",
    "    - 예시) 주식 종목 데이터\n",
    "        - 행 : 각 주식 종목에 대한 관측값\n",
    "        - 열 : 회사 이름, 총 주식 수. 액면가 등등"
   ]
  },
  {
   "cell_type": "markdown",
   "id": "88caa225",
   "metadata": {},
   "source": [
    "### 시리즈 생성"
   ]
  },
  {
   "cell_type": "code",
   "execution_count": 2,
   "id": "38441456",
   "metadata": {},
   "outputs": [],
   "source": [
    "# 라이브러리 로드\n",
    "import pandas as pd"
   ]
  },
  {
   "cell_type": "code",
   "execution_count": 3,
   "id": "beca70bc",
   "metadata": {},
   "outputs": [
    {
     "data": {
      "text/plain": [
       "'2.0.3'"
      ]
     },
     "execution_count": 3,
     "metadata": {},
     "output_type": "execute_result"
    }
   ],
   "source": [
    "pd.__version__"
   ]
  },
  {
   "cell_type": "code",
   "execution_count": 4,
   "id": "9ac4236c",
   "metadata": {},
   "outputs": [],
   "source": [
    "# 딕셔너리 생성\n",
    "dict_data = {\"이름\" : \"이상해씨\", \"진화형\" : \"이상해풀\", \"타입\" : \"풀\"}"
   ]
  },
  {
   "cell_type": "code",
   "execution_count": 5,
   "id": "0ee704b1",
   "metadata": {},
   "outputs": [],
   "source": [
    "# 딕셔너리를 판다스 시리즈로 변환\n",
    "sr = pd.Series(dict_data)"
   ]
  },
  {
   "cell_type": "code",
   "execution_count": 6,
   "id": "0b1dffbf",
   "metadata": {},
   "outputs": [
    {
     "name": "stdout",
     "output_type": "stream",
     "text": [
      "<class 'pandas.core.series.Series'>\n",
      "\n",
      "이름     이상해씨\n",
      "진화형    이상해풀\n",
      "타입        풀\n",
      "dtype: object\n"
     ]
    }
   ],
   "source": [
    "print(type(sr))\n",
    "print()\n",
    "print(sr)"
   ]
  },
  {
   "cell_type": "code",
   "execution_count": 7,
   "id": "66241878",
   "metadata": {},
   "outputs": [
    {
     "data": {
      "text/plain": [
       "dtype('O')"
      ]
     },
     "execution_count": 7,
     "metadata": {},
     "output_type": "execute_result"
    }
   ],
   "source": [
    "# 시리즈를 구성하는 데이터 값의 자료형 확인\n",
    "sr.dtypes"
   ]
  },
  {
   "cell_type": "code",
   "execution_count": 8,
   "id": "d6fd94e8",
   "metadata": {},
   "outputs": [
    {
     "data": {
      "text/plain": [
       "Index(['이름', '진화형', '타입'], dtype='object')"
      ]
     },
     "execution_count": 8,
     "metadata": {},
     "output_type": "execute_result"
    }
   ],
   "source": [
    "# 시리즈의 인덱스 배열\n",
    "sr.index"
   ]
  },
  {
   "cell_type": "code",
   "execution_count": 9,
   "id": "e5bd9ed7",
   "metadata": {},
   "outputs": [
    {
     "data": {
      "text/plain": [
       "array(['이상해씨', '이상해풀', '풀'], dtype=object)"
      ]
     },
     "execution_count": 9,
     "metadata": {},
     "output_type": "execute_result"
    }
   ],
   "source": [
    "# 시리즈의 값 배열\n",
    "sr.values"
   ]
  },
  {
   "cell_type": "code",
   "execution_count": 10,
   "id": "d5cce880",
   "metadata": {},
   "outputs": [],
   "source": [
    "dict_data = {\"a\" : 1, \"b\" : 2, \"c\" : 3}"
   ]
  },
  {
   "cell_type": "code",
   "execution_count": 11,
   "id": "5924f533",
   "metadata": {},
   "outputs": [
    {
     "name": "stdout",
     "output_type": "stream",
     "text": [
      "<class 'pandas.core.series.Series'>\n",
      "\n",
      "이름     이상해씨\n",
      "진화형    이상해풀\n",
      "타입        풀\n",
      "dtype: object\n"
     ]
    }
   ],
   "source": [
    "print(type(sr))\n",
    "print()\n",
    "print(sr)"
   ]
  },
  {
   "cell_type": "code",
   "execution_count": 12,
   "id": "97524944",
   "metadata": {},
   "outputs": [],
   "source": [
    "dict_data = {\"a\" : 1, \"b\" : 2, \"c\" : 3}"
   ]
  },
  {
   "cell_type": "code",
   "execution_count": 13,
   "id": "ebe8f2e0",
   "metadata": {},
   "outputs": [],
   "source": [
    "sr = pd.Series(dict_data)"
   ]
  },
  {
   "cell_type": "code",
   "execution_count": 14,
   "id": "0a40a3ee",
   "metadata": {},
   "outputs": [
    {
     "name": "stdout",
     "output_type": "stream",
     "text": [
      "<class 'pandas.core.series.Series'>\n",
      "\n",
      "a    1\n",
      "b    2\n",
      "c    3\n",
      "dtype: int64\n"
     ]
    }
   ],
   "source": [
    "print(type(sr))\n",
    "print()\n",
    "print(sr)"
   ]
  },
  {
   "cell_type": "code",
   "execution_count": 15,
   "id": "6a0ccab4",
   "metadata": {},
   "outputs": [
    {
     "data": {
      "text/plain": [
       "dtype('int64')"
      ]
     },
     "execution_count": 15,
     "metadata": {},
     "output_type": "execute_result"
    }
   ],
   "source": [
    "sr.dtypes"
   ]
  },
  {
   "cell_type": "code",
   "execution_count": 16,
   "id": "f312f53b",
   "metadata": {},
   "outputs": [
    {
     "data": {
      "text/plain": [
       "Index(['a', 'b', 'c'], dtype='object')"
      ]
     },
     "execution_count": 16,
     "metadata": {},
     "output_type": "execute_result"
    }
   ],
   "source": [
    "sr.index"
   ]
  },
  {
   "cell_type": "code",
   "execution_count": 17,
   "id": "35685c9e",
   "metadata": {},
   "outputs": [
    {
     "data": {
      "text/plain": [
       "array([1, 2, 3], dtype=int64)"
      ]
     },
     "execution_count": 17,
     "metadata": {},
     "output_type": "execute_result"
    }
   ],
   "source": [
    "sr.values"
   ]
  },
  {
   "cell_type": "markdown",
   "id": "183cbb61",
   "metadata": {},
   "source": [
    "- 파이썬 리스트를 시리즈로 변환\n",
    "    - 리스트를 시리지로 변환하면 인덱스를 변환될 값이 없음\n",
    "        - 인덱스가 별도로 정의되지 않으면 정수형 위치 인덱스(0,1,2,,,,,,)가 자동으로 저장"
   ]
  },
  {
   "cell_type": "code",
   "execution_count": 18,
   "id": "01849002",
   "metadata": {},
   "outputs": [],
   "source": [
    "# 리스트를 시리즈로 변환\n",
    "list_data = [\"이상해씨\", \"이상해풀\", 45, True]"
   ]
  },
  {
   "cell_type": "code",
   "execution_count": 19,
   "id": "e4b135ae",
   "metadata": {},
   "outputs": [],
   "source": [
    "sr = pd.Series(list_data)"
   ]
  },
  {
   "cell_type": "code",
   "execution_count": 20,
   "id": "c3a84d89",
   "metadata": {},
   "outputs": [
    {
     "name": "stdout",
     "output_type": "stream",
     "text": [
      "0    이상해씨\n",
      "1    이상해풀\n",
      "2      45\n",
      "3    True\n",
      "dtype: object\n"
     ]
    }
   ],
   "source": [
    "print(sr)"
   ]
  },
  {
   "cell_type": "code",
   "execution_count": 21,
   "id": "9ee33d7f",
   "metadata": {},
   "outputs": [
    {
     "data": {
      "text/plain": [
       "RangeIndex(start=0, stop=4, step=1)"
      ]
     },
     "execution_count": 21,
     "metadata": {},
     "output_type": "execute_result"
    }
   ],
   "source": [
    "sr.index"
   ]
  },
  {
   "cell_type": "code",
   "execution_count": 23,
   "id": "245bbbf0",
   "metadata": {},
   "outputs": [
    {
     "data": {
      "text/plain": [
       "array(['이상해씨', '이상해풀', 45, True], dtype=object)"
      ]
     },
     "execution_count": 23,
     "metadata": {},
     "output_type": "execute_result"
    }
   ],
   "source": [
    "sr.values"
   ]
  },
  {
   "cell_type": "code",
   "execution_count": 24,
   "id": "3abfc3ce",
   "metadata": {},
   "outputs": [],
   "source": [
    "# 튜플을 시리즈로 변환\n",
    "tub_data = [\"이상해씨\", \"이상해풀\", \"풀\", 45]"
   ]
  },
  {
   "cell_type": "code",
   "execution_count": 39,
   "id": "47c4b1d0",
   "metadata": {},
   "outputs": [],
   "source": [
    "sr = pd.Series(tub_data, index = [\"이름\", \"진화형\", \"타입\", \"체력\"])"
   ]
  },
  {
   "cell_type": "code",
   "execution_count": 26,
   "id": "522c7153",
   "metadata": {},
   "outputs": [
    {
     "data": {
      "text/plain": [
       "0    이상해씨\n",
       "1    이상해풀\n",
       "2       풀\n",
       "3      45\n",
       "dtype: object"
      ]
     },
     "execution_count": 26,
     "metadata": {},
     "output_type": "execute_result"
    }
   ],
   "source": [
    "sr"
   ]
  },
  {
   "cell_type": "markdown",
   "id": "9f133856",
   "metadata": {},
   "source": [
    "### 원소 선택\n",
    "\n",
    "- 인덱스를 이용하여 원소를 선택할 수 있음\n",
    "    - 하나의 원소를 선택\n",
    "    - 여러 원소를 한꺼번에 선택\n",
    "    - 인덱스 범위를 지정하여 원소를 선택\n",
    "    \n",
    "- 정수형 위치 인덱스는 대괄호 안에 위치를 나타내는 숫자를 입력\n",
    "- 인덱스 이름은 따옴표와 함꼐 입력"
   ]
  },
  {
   "cell_type": "code",
   "execution_count": 28,
   "id": "b78189bf",
   "metadata": {},
   "outputs": [
    {
     "name": "stdout",
     "output_type": "stream",
     "text": [
      "이상해씨\n",
      "이상해씨\n"
     ]
    }
   ],
   "source": [
    "# 원소 1개 선택\n",
    "print(sr[0])\n",
    "print(sr[\"이름\"])"
   ]
  },
  {
   "cell_type": "code",
   "execution_count": 40,
   "id": "43e5d11d",
   "metadata": {},
   "outputs": [
    {
     "name": "stdout",
     "output_type": "stream",
     "text": [
      "진화형    이상해풀\n",
      "타입        풀\n",
      "dtype: object\n",
      "이름     이상해씨\n",
      "진화형    이상해풀\n",
      "타입        풀\n",
      "체력       45\n",
      "dtype: object\n",
      "진화형    이상해풀\n",
      "타입        풀\n",
      "dtype: object\n"
     ]
    }
   ],
   "source": [
    "# 여러 원소 선택(인덱스 리스트 활용)\n",
    "print(sr[[1,2]])\n",
    "print(sr)\n",
    "print(sr[[\"진화형\", \"타입\"]])"
   ]
  },
  {
   "cell_type": "code",
   "execution_count": 41,
   "id": "e4443f64",
   "metadata": {},
   "outputs": [
    {
     "name": "stdout",
     "output_type": "stream",
     "text": [
      "진화형    이상해풀\n",
      "dtype: object\n",
      "\n",
      "진화형    이상해풀\n",
      "타입        풀\n",
      "dtype: object\n"
     ]
    }
   ],
   "source": [
    "# 여러 원소 선택(인덱스 범위 지정)\n",
    "print(sr[1:2])\n",
    "print()\n",
    "print(sr[\"진화형\" : \"타입\"])"
   ]
  },
  {
   "cell_type": "code",
   "execution_count": null,
   "id": "1117efe7",
   "metadata": {},
   "outputs": [],
   "source": []
  }
 ],
 "metadata": {
  "kernelspec": {
   "display_name": "Python 3 (ipykernel)",
   "language": "python",
   "name": "python3"
  },
  "language_info": {
   "codemirror_mode": {
    "name": "ipython",
    "version": 3
   },
   "file_extension": ".py",
   "mimetype": "text/x-python",
   "name": "python",
   "nbconvert_exporter": "python",
   "pygments_lexer": "ipython3",
   "version": "3.11.5"
  }
 },
 "nbformat": 4,
 "nbformat_minor": 5
}
