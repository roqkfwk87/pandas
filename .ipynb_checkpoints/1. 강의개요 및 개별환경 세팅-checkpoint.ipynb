{
 "cells": [
  {
   "cell_type": "markdown",
   "id": "f04ac8e4",
   "metadata": {},
   "source": [
    "# 판다스\n",
    "\n",
    "- 파이썬의 데이터 분석 라이브러리\n",
    "- 데이터를 정리, 전처리, 분석하는 역할\n",
    "- 여러 가지 유형의 데이터를 공통의 포멧으로 정리\n",
    "- 파이썬으로 데이터 분석 작업을 하는 사람들이 필수적으로 사용하는 라이브러리"
   ]
  },
  {
   "cell_type": "markdown",
   "id": "be465d90",
   "metadata": {},
   "source": [
    "# 판다스의 주요 기능\n",
    "\n",
    "- 행과 열로 이루어진 표 형태의 데이터를 빠르고 효율적으로 조작하기 위한 DataFrame\n",
    "- CSV, 텍스트 파일, 엑셀, 데이터베이스 등의 다양한 데이터의 입출력\n",
    "- 데이터 정렬 및 누락 데이터 처리를 쉽게 조작\n",
    "- 데이터 형태를 유연하게 재구성\n",
    "- 데이터 추출 및 필터링\n",
    "- 데이터의 추가, 삭제, 병합\n",
    "- 데이터의 그룹별 집계, 연산, 정렬, 결합 등 그룹화 기능\n",
    "- 시계열 데이터 처리"
   ]
  },
  {
   "cell_type": "markdown",
   "id": "74152a5f",
   "metadata": {},
   "source": [
    "# 요약\n",
    "- 누구나 쉽게 데이터에 접근하고 데이터를 사용하고 수정할 수 있는 유연하고 빠르고 강한 파이썬 라이브러리"
   ]
  },
  {
   "cell_type": "markdown",
   "id": "3d60af02",
   "metadata": {},
   "source": [
    "# 단축키\n",
    "- 마크다운 m\n",
    "- 마크다운 해제 y\n",
    "- 완료 shift + enter\n"
   ]
  },
  {
   "cell_type": "code",
   "execution_count": null,
   "id": "db6e8e3f",
   "metadata": {},
   "outputs": [],
   "source": []
  }
 ],
 "metadata": {
  "kernelspec": {
   "display_name": "Python 3 (ipykernel)",
   "language": "python",
   "name": "python3"
  },
  "language_info": {
   "codemirror_mode": {
    "name": "ipython",
    "version": 3
   },
   "file_extension": ".py",
   "mimetype": "text/x-python",
   "name": "python",
   "nbconvert_exporter": "python",
   "pygments_lexer": "ipython3",
   "version": "3.11.5"
  }
 },
 "nbformat": 4,
 "nbformat_minor": 5
}
